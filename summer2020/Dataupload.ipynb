{
 "cells": [
  {
   "cell_type": "code",
   "execution_count": 3,
   "metadata": {},
   "outputs": [
    {
     "name": "stdout",
     "output_type": "stream",
     "text": [
      "The autoreload extension is already loaded. To reload it, use:\n",
      "  %reload_ext autoreload\n"
     ]
    }
   ],
   "source": [
    "%load_ext autoreload\n",
    "%autoreload 2"
   ]
  },
  {
   "cell_type": "code",
   "execution_count": 1,
   "metadata": {},
   "outputs": [
    {
     "ename": "ModuleNotFoundError",
     "evalue": "No module named 'psycopg2'",
     "output_type": "error",
     "traceback": [
      "\u001b[0;31m---------------------------------------------------------------------------\u001b[0m",
      "\u001b[0;31mModuleNotFoundError\u001b[0m                       Traceback (most recent call last)",
      "\u001b[0;32m<ipython-input-1-2c6585968bde>\u001b[0m in \u001b[0;36m<module>\u001b[0;34m\u001b[0m\n\u001b[1;32m      5\u001b[0m \u001b[0;32mimport\u001b[0m \u001b[0mmosparse\u001b[0m \u001b[0;32mas\u001b[0m \u001b[0mmp\u001b[0m\u001b[0;34m\u001b[0m\u001b[0;34m\u001b[0m\u001b[0m\n\u001b[1;32m      6\u001b[0m \u001b[0;32mimport\u001b[0m \u001b[0mmosparse\u001b[0m\u001b[0;34m.\u001b[0m\u001b[0mmavreader\u001b[0m \u001b[0;32mas\u001b[0m \u001b[0mmpr\u001b[0m\u001b[0;34m\u001b[0m\u001b[0;34m\u001b[0m\u001b[0m\n\u001b[0;32m----> 7\u001b[0;31m \u001b[0;32mimport\u001b[0m \u001b[0mmosparse\u001b[0m\u001b[0;34m.\u001b[0m\u001b[0mmavtodb\u001b[0m \u001b[0;32mas\u001b[0m \u001b[0mmdb\u001b[0m\u001b[0;34m\u001b[0m\u001b[0;34m\u001b[0m\u001b[0m\n\u001b[0m\u001b[1;32m      8\u001b[0m \u001b[0;34m\u001b[0m\u001b[0m\n",
      "\u001b[0;32m~/mosparse/mosparse/mavtodb.py\u001b[0m in \u001b[0;36m<module>\u001b[0;34m\u001b[0m\n\u001b[1;32m     10\u001b[0m \u001b[0;34m\u001b[0m\u001b[0m\n\u001b[1;32m     11\u001b[0m \u001b[0;32mfrom\u001b[0m \u001b[0msqlalchemy\u001b[0m \u001b[0;32mimport\u001b[0m \u001b[0mcreate_engine\u001b[0m\u001b[0;34m\u001b[0m\u001b[0;34m\u001b[0m\u001b[0m\n\u001b[0;32m---> 12\u001b[0;31m \u001b[0mengine\u001b[0m \u001b[0;34m=\u001b[0m \u001b[0mcreate_engine\u001b[0m\u001b[0;34m(\u001b[0m\u001b[0;34m'postgresql://joyvan@localhost/mos'\u001b[0m\u001b[0;34m)\u001b[0m\u001b[0;34m\u001b[0m\u001b[0;34m\u001b[0m\u001b[0m\n\u001b[0m\u001b[1;32m     13\u001b[0m \u001b[0;34m\u001b[0m\u001b[0m\n\u001b[1;32m     14\u001b[0m \u001b[0;32mfrom\u001b[0m \u001b[0mmosparse\u001b[0m\u001b[0;34m.\u001b[0m\u001b[0mmavparse\u001b[0m \u001b[0;32mimport\u001b[0m \u001b[0mget_header\u001b[0m\u001b[0;34m,\u001b[0m \u001b[0mparse_station\u001b[0m\u001b[0;34m\u001b[0m\u001b[0;34m\u001b[0m\u001b[0m\n",
      "\u001b[0;32m/opt/conda/lib/python3.8/site-packages/sqlalchemy/engine/__init__.py\u001b[0m in \u001b[0;36mcreate_engine\u001b[0;34m(*args, **kwargs)\u001b[0m\n\u001b[1;32m    498\u001b[0m     \u001b[0mstrategy\u001b[0m \u001b[0;34m=\u001b[0m \u001b[0mkwargs\u001b[0m\u001b[0;34m.\u001b[0m\u001b[0mpop\u001b[0m\u001b[0;34m(\u001b[0m\u001b[0;34m\"strategy\"\u001b[0m\u001b[0;34m,\u001b[0m \u001b[0mdefault_strategy\u001b[0m\u001b[0;34m)\u001b[0m\u001b[0;34m\u001b[0m\u001b[0;34m\u001b[0m\u001b[0m\n\u001b[1;32m    499\u001b[0m     \u001b[0mstrategy\u001b[0m \u001b[0;34m=\u001b[0m \u001b[0mstrategies\u001b[0m\u001b[0;34m.\u001b[0m\u001b[0mstrategies\u001b[0m\u001b[0;34m[\u001b[0m\u001b[0mstrategy\u001b[0m\u001b[0;34m]\u001b[0m\u001b[0;34m\u001b[0m\u001b[0;34m\u001b[0m\u001b[0m\n\u001b[0;32m--> 500\u001b[0;31m     \u001b[0;32mreturn\u001b[0m \u001b[0mstrategy\u001b[0m\u001b[0;34m.\u001b[0m\u001b[0mcreate\u001b[0m\u001b[0;34m(\u001b[0m\u001b[0;34m*\u001b[0m\u001b[0margs\u001b[0m\u001b[0;34m,\u001b[0m \u001b[0;34m**\u001b[0m\u001b[0mkwargs\u001b[0m\u001b[0;34m)\u001b[0m\u001b[0;34m\u001b[0m\u001b[0;34m\u001b[0m\u001b[0m\n\u001b[0m\u001b[1;32m    501\u001b[0m \u001b[0;34m\u001b[0m\u001b[0m\n\u001b[1;32m    502\u001b[0m \u001b[0;34m\u001b[0m\u001b[0m\n",
      "\u001b[0;32m/opt/conda/lib/python3.8/site-packages/sqlalchemy/engine/strategies.py\u001b[0m in \u001b[0;36mcreate\u001b[0;34m(self, name_or_url, **kwargs)\u001b[0m\n\u001b[1;32m     85\u001b[0m                 \u001b[0;32mif\u001b[0m \u001b[0mk\u001b[0m \u001b[0;32min\u001b[0m \u001b[0mkwargs\u001b[0m\u001b[0;34m:\u001b[0m\u001b[0;34m\u001b[0m\u001b[0;34m\u001b[0m\u001b[0m\n\u001b[1;32m     86\u001b[0m                     \u001b[0mdbapi_args\u001b[0m\u001b[0;34m[\u001b[0m\u001b[0mk\u001b[0m\u001b[0;34m]\u001b[0m \u001b[0;34m=\u001b[0m \u001b[0mpop_kwarg\u001b[0m\u001b[0;34m(\u001b[0m\u001b[0mk\u001b[0m\u001b[0;34m)\u001b[0m\u001b[0;34m\u001b[0m\u001b[0;34m\u001b[0m\u001b[0m\n\u001b[0;32m---> 87\u001b[0;31m             \u001b[0mdbapi\u001b[0m \u001b[0;34m=\u001b[0m \u001b[0mdialect_cls\u001b[0m\u001b[0;34m.\u001b[0m\u001b[0mdbapi\u001b[0m\u001b[0;34m(\u001b[0m\u001b[0;34m**\u001b[0m\u001b[0mdbapi_args\u001b[0m\u001b[0;34m)\u001b[0m\u001b[0;34m\u001b[0m\u001b[0;34m\u001b[0m\u001b[0m\n\u001b[0m\u001b[1;32m     88\u001b[0m \u001b[0;34m\u001b[0m\u001b[0m\n\u001b[1;32m     89\u001b[0m         \u001b[0mdialect_args\u001b[0m\u001b[0;34m[\u001b[0m\u001b[0;34m\"dbapi\"\u001b[0m\u001b[0;34m]\u001b[0m \u001b[0;34m=\u001b[0m \u001b[0mdbapi\u001b[0m\u001b[0;34m\u001b[0m\u001b[0;34m\u001b[0m\u001b[0m\n",
      "\u001b[0;32m/opt/conda/lib/python3.8/site-packages/sqlalchemy/dialects/postgresql/psycopg2.py\u001b[0m in \u001b[0;36mdbapi\u001b[0;34m(cls)\u001b[0m\n\u001b[1;32m    751\u001b[0m     \u001b[0;34m@\u001b[0m\u001b[0mclassmethod\u001b[0m\u001b[0;34m\u001b[0m\u001b[0;34m\u001b[0m\u001b[0m\n\u001b[1;32m    752\u001b[0m     \u001b[0;32mdef\u001b[0m \u001b[0mdbapi\u001b[0m\u001b[0;34m(\u001b[0m\u001b[0mcls\u001b[0m\u001b[0;34m)\u001b[0m\u001b[0;34m:\u001b[0m\u001b[0;34m\u001b[0m\u001b[0;34m\u001b[0m\u001b[0m\n\u001b[0;32m--> 753\u001b[0;31m         \u001b[0;32mimport\u001b[0m \u001b[0mpsycopg2\u001b[0m\u001b[0;34m\u001b[0m\u001b[0;34m\u001b[0m\u001b[0m\n\u001b[0m\u001b[1;32m    754\u001b[0m \u001b[0;34m\u001b[0m\u001b[0m\n\u001b[1;32m    755\u001b[0m         \u001b[0;32mreturn\u001b[0m \u001b[0mpsycopg2\u001b[0m\u001b[0;34m\u001b[0m\u001b[0;34m\u001b[0m\u001b[0m\n",
      "\u001b[0;31mModuleNotFoundError\u001b[0m: No module named 'psycopg2'"
     ]
    }
   ],
   "source": [
    "from pathlib import Path\n",
    "\n",
    "import tqdm\n",
    "\n",
    "import mosparse as mp\n",
    "import mosparse.mavreader as mpr\n",
    "import mosparse.mavtodb as mdb\n",
    "\n"
   ]
  },
  {
   "cell_type": "code",
   "execution_count": 2,
   "metadata": {},
   "outputs": [],
   "source": [
    "zpath = (\"mosparse/mav201302.t00z.Z\")"
   ]
  },
  {
   "cell_type": "code",
   "execution_count": 21,
   "metadata": {},
   "outputs": [
    {
     "name": "stdout",
     "output_type": "stream",
     "text": [
      "47880\n"
     ]
    }
   ],
   "source": [
    "with mpr.MavReader(zpath, stations=True) as station_generator:\n",
    "    total = len(list(station_generator))\n",
    "print(total)"
   ]
  },
  {
   "cell_type": "code",
   "execution_count": 22,
   "metadata": {},
   "outputs": [
    {
     "name": "stderr",
     "output_type": "stream",
     "text": [
      "100%|██████████| 47880/47880 [1:22:07<00:00,  9.72it/s]  \n"
     ]
    }
   ],
   "source": [
    "with mpr.MavReader(zpath, stations=True) as station_generator:\n",
    "    for station in tqdm.tqdm(station_generator, total=total):\n",
    "        if len(station)>0:\n",
    "            mdb.station_to_db(station)"
   ]
  },
  {
   "cell_type": "code",
   "execution_count": 23,
   "metadata": {},
   "outputs": [],
   "source": [
    "# We skipped the step to install the program to view the database since it is unavailable. \n",
    "#SQL Viewer\n",
    "# https://github.com/pbugnion/jupyterlab-sql\n"
   ]
  },
  {
   "cell_type": "code",
   "execution_count": 24,
   "metadata": {},
   "outputs": [],
   "source": [
    "# Next we opened the terminal and downloaded mav.Z files from the noaa archives\n",
    "# the by doing a wget command.\n",
    "\n",
    "#  wget --recursive --no-parent https://sats.nws.noaa.gov/~mos/archives/avnmav/"
   ]
  },
  {
   "cell_type": "code",
   "execution_count": 4,
   "metadata": {},
   "outputs": [],
   "source": [
    "# Next we import the url library, pandas, dask (dataframe,bag and diagnostics)\n",
    "# so that we can download a year of weather data\n",
    "\n",
    "import urllib \n",
    "import pandas as pd\n",
    "import dask.dataframe as dd\n",
    "import dask.bag as db\n",
    "import dask.diagnostics as dg\n"
   ]
  },
  {
   "cell_type": "code",
   "execution_count": null,
   "metadata": {},
   "outputs": [],
   "source": []
  },
  {
   "cell_type": "code",
   "execution_count": 4,
   "metadata": {},
   "outputs": [
    {
     "name": "stdout",
     "output_type": "stream",
     "text": [
      "Collecting package metadata (current_repodata.json): done\n",
      "Solving environment: done\n",
      "\n",
      "\n",
      "==> WARNING: A newer version of conda exists. <==\n",
      "  current version: 4.8.2\n",
      "  latest version: 4.8.3\n",
      "\n",
      "Please update conda by running\n",
      "\n",
      "    $ conda update -n base conda\n",
      "\n",
      "\n",
      "\n",
      "# All requested packages already installed.\n",
      "\n",
      "\n",
      "Note: you may need to restart the kernel to use updated packages.\n"
     ]
    }
   ],
   "source": [
    "conda install dask\n"
   ]
  },
  {
   "cell_type": "code",
   "execution_count": 5,
   "metadata": {},
   "outputs": [
    {
     "name": "stdout",
     "output_type": "stream",
     "text": [
      "Collecting package metadata (current_repodata.json): done\n",
      "Solving environment: done\n",
      "\n",
      "\n",
      "==> WARNING: A newer version of conda exists. <==\n",
      "  current version: 4.8.2\n",
      "  latest version: 4.8.3\n",
      "\n",
      "Please update conda by running\n",
      "\n",
      "    $ conda update -n base conda\n",
      "\n",
      "\n",
      "\n",
      "## Package Plan ##\n",
      "\n",
      "  environment location: /opt/conda\n",
      "\n",
      "  added / updated specs:\n",
      "    - conda\n",
      "\n",
      "\n",
      "The following packages will be downloaded:\n",
      "\n",
      "    package                    |            build\n",
      "    ---------------------------|-----------------\n",
      "    _openmp_mutex-4.5          |           1_llvm           5 KB  conda-forge\n",
      "    backcall-0.2.0             |     pyh9f0ad1d_0          13 KB  conda-forge\n",
      "    bleach-3.1.5               |     pyh9f0ad1d_0         112 KB  conda-forge\n",
      "    blosc-1.19.0               |       he1b5a44_0         887 KB  conda-forge\n",
      "    click-7.1.2                |     pyh9f0ad1d_0          64 KB  conda-forge\n",
      "    cryptography-3.0           |   py37hb09aad4_0         633 KB  conda-forge\n",
      "    freetype-2.10.2            |       he06d7ca_0         905 KB  conda-forge\n",
      "    fsspec-0.7.4               |             py_0          55 KB  conda-forge\n",
      "    idna-2.10                  |     pyh9f0ad1d_0          52 KB  conda-forge\n",
      "    imageio-2.9.0              |             py_0         3.1 MB  conda-forge\n",
      "    importlib-metadata-1.7.0   |   py37hc8dfbb8_0          44 KB  conda-forge\n",
      "    importlib_metadata-1.7.0   |                0           3 KB  conda-forge\n",
      "    ipykernel-5.3.4            |   py37h43977f1_0         165 KB  conda-forge\n",
      "    ipython-7.16.1             |   py37h43977f1_0         1.1 MB  conda-forge\n",
      "    jedi-0.17.2                |   py37hc8dfbb8_0         949 KB  conda-forge\n",
      "    joblib-0.16.0              |             py_0         203 KB  conda-forge\n",
      "    jpeg-9d                    |       h516909a_0         266 KB  conda-forge\n",
      "    json5-0.9.4                |     pyh9f0ad1d_0          20 KB  conda-forge\n",
      "    jupyter_client-6.1.6       |             py_0          75 KB  conda-forge\n",
      "    jupyterlab_server-1.2.0    |             py_0          25 KB  conda-forge\n",
      "    krb5-1.17.1                |       hfafb76e_1         1.5 MB  conda-forge\n",
      "    lcms2-2.11                 |       hbd6801e_0         431 KB  conda-forge\n",
      "    ld_impl_linux-64-2.34      |       h53a641e_7         616 KB  conda-forge\n",
      "    libcurl-7.71.1             |       hcdd3856_3         302 KB  conda-forge\n",
      "    libedit-3.1.20191231       |       h46ee950_1         122 KB  conda-forge\n",
      "    libgfortran-ng-7.5.0       |       hdf63c60_6         1.7 MB  conda-forge\n",
      "    libopenblas-0.3.7          |       h5ec1e0e_7         7.6 MB  conda-forge\n",
      "    libssh2-1.9.0              |       hab1572f_4         225 KB  conda-forge\n",
      "    llvm-openmp-10.0.1         |       hc9558a2_0         2.8 MB  conda-forge\n",
      "    lz4-c-1.9.2                |       he1b5a44_1         226 KB  conda-forge\n",
      "    mock-4.0.2                 |   py37hc8dfbb8_0          51 KB  conda-forge\n",
      "    nbformat-5.0.7             |             py_0          99 KB  conda-forge\n",
      "    ncurses-6.2                |       he1b5a44_1         993 KB  conda-forge\n",
      "    numpy-1.19.1               |   py37h8960a57_0         5.2 MB  conda-forge\n",
      "    packaging-20.4             |     pyh9f0ad1d_0          32 KB  conda-forge\n",
      "    pandoc-2.10                |       h14c3975_0        18.9 MB  conda-forge\n",
      "    pillow-7.2.0               |   py37h718be6c_1         675 KB  conda-forge\n",
      "    pip-20.1.1                 |             py_1         1.1 MB  conda-forge\n",
      "    prometheus_client-0.8.0    |     pyh9f0ad1d_0          44 KB  conda-forge\n",
      "    prompt-toolkit-3.0.5       |             py_1         233 KB  conda-forge\n",
      "    psutil-5.7.2               |   py37h8f50634_0         335 KB  conda-forge\n",
      "    pycparser-2.20             |     pyh9f0ad1d_2          94 KB  conda-forge\n",
      "    pycurl-7.43.0.5            |   py37hce7685b_2          69 KB  conda-forge\n",
      "    python-3.7.8               |h6f2ec95_0_cpython        53.1 MB  conda-forge\n",
      "    pytz-2020.1                |     pyh9f0ad1d_0         227 KB  conda-forge\n",
      "    pyzmq-19.0.1               |   py37hac76be4_0         519 KB  conda-forge\n",
      "    readline-8.0               |       he28a2e2_2         281 KB  conda-forge\n",
      "    requests-2.24.0            |     pyh9f0ad1d_0          47 KB  conda-forge\n",
      "    setuptools-49.2.0          |   py37hc8dfbb8_0         914 KB  conda-forge\n",
      "    six-1.15.0                 |     pyh9f0ad1d_0          14 KB  conda-forge\n",
      "    sortedcontainers-2.2.2     |     pyh9f0ad1d_0          25 KB  conda-forge\n",
      "    soupsieve-2.0.1            |   py37hc8dfbb8_0          56 KB  conda-forge\n",
      "    sqlite-3.32.3              |       hcee41ef_1         1.4 MB  conda-forge\n",
      "    tqdm-4.48.0                |     pyh9f0ad1d_0          52 KB  conda-forge\n",
      "    typing_extensions-3.7.4.2  |             py_0          25 KB  conda-forge\n",
      "    urllib3-1.25.10            |             py_0          92 KB  conda-forge\n",
      "    wcwidth-0.2.5              |     pyh9f0ad1d_0          33 KB  conda-forge\n",
      "    xz-5.2.5                   |       h516909a_1         343 KB  conda-forge\n",
      "    yaml-0.2.5                 |       h516909a_0          82 KB  conda-forge\n",
      "    zstd-1.4.5                 |       h6597ccf_1         428 KB  conda-forge\n",
      "    ------------------------------------------------------------\n",
      "                                           Total:       109.4 MB\n",
      "\n",
      "The following NEW packages will be INSTALLED:\n",
      "\n",
      "  lcms2              conda-forge/linux-64::lcms2-2.11-hbd6801e_0\n",
      "  llvm-openmp        conda-forge/linux-64::llvm-openmp-10.0.1-hc9558a2_0\n",
      "\n",
      "The following packages will be REMOVED:\n",
      "\n",
      "  libgomp-9.2.0-h24d8f2e_2\n",
      "\n",
      "The following packages will be UPDATED:\n",
      "\n",
      "  backcall                                       0.1.0-py_0 --> 0.2.0-pyh9f0ad1d_0\n",
      "  bleach                                 3.1.4-pyh9f0ad1d_0 --> 3.1.5-pyh9f0ad1d_0\n",
      "  blosc                                   1.18.1-he1b5a44_0 --> 1.19.0-he1b5a44_0\n",
      "  click                                  7.1.1-pyh8c360ce_0 --> 7.1.2-pyh9f0ad1d_0\n",
      "  cryptography                           2.8-py37hb09aad4_2 --> 3.0-py37hb09aad4_0\n",
      "  freetype                                2.10.1-he06d7ca_0 --> 2.10.2-he06d7ca_0\n",
      "  fsspec                                         0.7.3-py_0 --> 0.7.4-py_0\n",
      "  idna                                             2.9-py_1 --> 2.10-pyh9f0ad1d_0\n",
      "  imageio                                        2.8.0-py_0 --> 2.9.0-py_0\n",
      "  importlib-metadata                   1.6.0-py37hc8dfbb8_0 --> 1.7.0-py37hc8dfbb8_0\n",
      "  importlib_metadata                                1.6.0-0 --> 1.7.0-0\n",
      "  ipykernel                            5.2.0-py37h43977f1_1 --> 5.3.4-py37h43977f1_0\n",
      "  ipython                             7.13.0-py37hc8dfbb8_2 --> 7.16.1-py37h43977f1_0\n",
      "  jedi                                0.17.0-py37hc8dfbb8_0 --> 0.17.2-py37hc8dfbb8_0\n",
      "  joblib                                        0.14.1-py_0 --> 0.16.0-py_0\n",
      "  jpeg                                     9c-h14c3975_1001 --> 9d-h516909a_0\n",
      "  json5                                          0.9.0-py_0 --> 0.9.4-pyh9f0ad1d_0\n",
      "  jupyter_client                                 6.1.3-py_0 --> 6.1.6-py_0\n",
      "  jupyterlab_server                              1.1.1-py_0 --> 1.2.0-py_0\n",
      "  krb5                                    1.17.1-h2fd8d38_0 --> 1.17.1-hfafb76e_1\n",
      "  ld_impl_linux-64                          2.34-h53a641e_0 --> 2.34-h53a641e_7\n",
      "  libcurl                                 7.69.1-hf7181ac_0 --> 7.71.1-hcdd3856_3\n",
      "  libedit                        3.1.20170329-hf8c457e_1001 --> 3.1.20191231-h46ee950_1\n",
      "  libgfortran-ng                           7.3.0-hdf63c60_5 --> 7.5.0-hdf63c60_6\n",
      "  libopenblas                              0.3.7-h5ec1e0e_6 --> 0.3.7-h5ec1e0e_7\n",
      "  libssh2                                  1.8.2-h22169c7_2 --> 1.9.0-hab1572f_4\n",
      "  lz4-c                                    1.9.2-he1b5a44_0 --> 1.9.2-he1b5a44_1\n",
      "  mock                                 3.0.5-py37hc8dfbb8_1 --> 4.0.2-py37hc8dfbb8_0\n",
      "  nbformat                                       5.0.6-py_0 --> 5.0.7-py_0\n",
      "  ncurses                                 6.1-hf484d3e_1002 --> 6.2-he1b5a44_1\n",
      "  numpy                               1.18.1-py37h8960a57_1 --> 1.19.1-py37h8960a57_0\n",
      "  packaging                                       20.1-py_0 --> 20.4-pyh9f0ad1d_0\n",
      "  pandoc                                          2.9.2.1-0 --> 2.10-h14c3975_0\n",
      "  pillow                               7.1.1-py37h718be6c_0 --> 7.2.0-py37h718be6c_1\n",
      "  pip                                           20.0.2-py_2 --> 20.1.1-py_1\n",
      "  prometheus_client                              0.7.1-py_0 --> 0.8.0-pyh9f0ad1d_0\n",
      "  prompt-toolkit                                 3.0.5-py_0 --> 3.0.5-py_1\n",
      "  psutil                               5.7.0-py37h8f50634_1 --> 5.7.2-py37h8f50634_0\n",
      "  pycparser                                       2.20-py_0 --> 2.20-pyh9f0ad1d_2\n",
      "  pycurl                            7.43.0.5-py37h16ce93b_0 --> 7.43.0.5-py37hce7685b_2\n",
      "  python                           3.7.6-h8356626_5_cpython --> 3.7.8-h6f2ec95_0_cpython\n",
      "  pytz                                          2019.3-py_0 --> 2020.1-pyh9f0ad1d_0\n",
      "  pyzmq                               19.0.0-py37hac76be4_1 --> 19.0.1-py37hac76be4_0\n",
      "  readline                                   8.0-hf8c457e_0 --> 8.0-he28a2e2_2\n",
      "  requests                              2.23.0-pyh8c360ce_2 --> 2.24.0-pyh9f0ad1d_0\n",
      "  setuptools                          46.1.3-py37hc8dfbb8_0 --> 49.2.0-py37hc8dfbb8_0\n",
      "  six                                           1.14.0-py_1 --> 1.15.0-pyh9f0ad1d_0\n",
      "  sortedcontainers                               2.1.0-py_0 --> 2.2.2-pyh9f0ad1d_0\n",
      "  soupsieve                            1.9.4-py37hc8dfbb8_1 --> 2.0.1-py37hc8dfbb8_0\n",
      "  sqlite                                  3.30.1-hcee41ef_0 --> 3.32.3-hcee41ef_1\n",
      "  tqdm                                  4.45.0-pyh9f0ad1d_0 --> 4.48.0-pyh9f0ad1d_0\n",
      "  typing_extensions  conda-forge/linux-64::typing_extensio~ --> conda-forge/noarch::typing_extensions-3.7.4.2-py_0\n",
      "  urllib3                                       1.25.9-py_0 --> 1.25.10-py_0\n",
      "  wcwidth                                0.1.9-pyh9f0ad1d_0 --> 0.2.5-pyh9f0ad1d_0\n",
      "  xz                                       5.2.5-h516909a_0 --> 5.2.5-h516909a_1\n",
      "  yaml                                     0.2.3-h516909a_0 --> 0.2.5-h516909a_0\n",
      "  zstd                                     1.4.4-h6597ccf_3 --> 1.4.5-h6597ccf_1\n",
      "\n",
      "The following packages will be DOWNGRADED:\n",
      "\n",
      "  _openmp_mutex                                   4.5-0_gnu --> 4.5-1_llvm\n",
      "\n",
      "\n",
      "\n",
      "Downloading and Extracting Packages\n",
      "prometheus_client-0. | 44 KB     | ##################################### | 100% \n",
      "libgfortran-ng-7.5.0 | 1.7 MB    | ##################################### | 100% \n",
      "tqdm-4.48.0          | 52 KB     | ##################################### | 100% \n",
      "readline-8.0         | 281 KB    | ##################################### | 100% \n",
      "packaging-20.4       | 32 KB     | ##################################### | 100% \n",
      "jpeg-9d              | 266 KB    | ##################################### | 100% \n",
      "libcurl-7.71.1       | 302 KB    | ##################################### | 100% \n",
      "freetype-2.10.2      | 905 KB    | ##################################### | 100% \n",
      "setuptools-49.2.0    | 914 KB    | ##################################### | 100% \n",
      "requests-2.24.0      | 47 KB     | ##################################### | 100% \n",
      "sqlite-3.32.3        | 1.4 MB    | ##################################### | 100% \n",
      "click-7.1.2          | 64 KB     | ##################################### | 100% \n",
      "blosc-1.19.0         | 887 KB    | ##################################### | 100% \n",
      "wcwidth-0.2.5        | 33 KB     | ##################################### | 100% \n",
      "llvm-openmp-10.0.1   | 2.8 MB    | ##################################### | 100% \n",
      "numpy-1.19.1         | 5.2 MB    | ##################################### | 100% \n",
      "pillow-7.2.0         | 675 KB    | ##################################### | 100% \n",
      "libssh2-1.9.0        | 225 KB    | ##################################### | 100% \n",
      "idna-2.10            | 52 KB     | ##################################### | 100% \n",
      "ld_impl_linux-64-2.3 | 616 KB    | ##################################### | 100% \n",
      "_openmp_mutex-4.5    | 5 KB      | ##################################### | 100% \n",
      "zstd-1.4.5           | 428 KB    | ##################################### | 100% \n",
      "soupsieve-2.0.1      | 56 KB     | ##################################### | 100% \n",
      "imageio-2.9.0        | 3.1 MB    | ##################################### | 100% \n",
      "lz4-c-1.9.2          | 226 KB    | ##################################### | 100% \n",
      "xz-5.2.5             | 343 KB    | ##################################### | 100% \n",
      "lcms2-2.11           | 431 KB    | ##################################### | 100% \n",
      "libopenblas-0.3.7    | 7.6 MB    | ##################################### | 100% \n",
      "ipykernel-5.3.4      | 165 KB    | ##################################### | 100% \n",
      "cryptography-3.0     | 633 KB    | ##################################### | 100% \n",
      "urllib3-1.25.10      | 92 KB     | ##################################### | 100% \n",
      "krb5-1.17.1          | 1.5 MB    | ##################################### | 100% \n",
      "pycparser-2.20       | 94 KB     | ##################################### | 100% \n",
      "pip-20.1.1           | 1.1 MB    | ##################################### | 100% \n",
      "joblib-0.16.0        | 203 KB    | ##################################### | 100% \n",
      "json5-0.9.4          | 20 KB     | ##################################### | 100% \n",
      "fsspec-0.7.4         | 55 KB     | ##################################### | 100% \n",
      "six-1.15.0           | 14 KB     | ##################################### | 100% \n",
      "ipython-7.16.1       | 1.1 MB    | ##################################### | 100% \n",
      "prompt-toolkit-3.0.5 | 233 KB    | ##################################### | 100% \n",
      "ncurses-6.2          | 993 KB    | ##################################### | 100% \n",
      "jedi-0.17.2          | 949 KB    | ##################################### | 100% \n",
      "psutil-5.7.2         | 335 KB    | ##################################### | 100% \n",
      "libedit-3.1.20191231 | 122 KB    | ##################################### | 100% \n",
      "backcall-0.2.0       | 13 KB     | ##################################### | 100% \n",
      "pytz-2020.1          | 227 KB    | ##################################### | 100% \n",
      "jupyter_client-6.1.6 | 75 KB     | ##################################### | 100% \n",
      "pycurl-7.43.0.5      | 69 KB     | ##################################### | 100% \n",
      "python-3.7.8         | 53.1 MB   | ##################################### | 100% \n",
      "importlib-metadata-1 | 44 KB     | ##################################### | 100% \n",
      "nbformat-5.0.7       | 99 KB     | ##################################### | 100% \n",
      "sortedcontainers-2.2 | 25 KB     | ##################################### | 100% \n",
      "typing_extensions-3. | 25 KB     | ##################################### | 100% \n",
      "jupyterlab_server-1. | 25 KB     | ##################################### | 100% \n",
      "yaml-0.2.5           | 82 KB     | ##################################### | 100% \n",
      "importlib_metadata-1 | 3 KB      | ##################################### | 100% \n",
      "pandoc-2.10          | 18.9 MB   | ##################################### | 100% \n",
      "mock-4.0.2           | 51 KB     | ##################################### | 100% \n",
      "bleach-3.1.5         | 112 KB    | ##################################### | 100% \n",
      "pyzmq-19.0.1         | 519 KB    | ##################################### | 100% \n",
      "Preparing transaction: done\n",
      "Verifying transaction: done\n",
      "Executing transaction: done\n",
      "\n",
      "Note: you may need to restart the kernel to use updated packages.\n"
     ]
    }
   ],
   "source": [
    "conda update -n base conda"
   ]
  },
  {
   "cell_type": "code",
   "execution_count": 1,
   "metadata": {},
   "outputs": [],
   "source": [
    "import urllib\n",
    "\n",
    "import pandas as pd \n",
    "\n",
    "import dask.dataframe as dd\n",
    "import dask.bag as db\n",
    "import dask.diagnostics as dg"
   ]
  },
  {
   "cell_type": "code",
   "execution_count": null,
   "metadata": {},
   "outputs": [],
   "source": [
    "# Let's load in the data for 2018\n",
    "YEAR = 2018\n",
    "\n",
    "names = ['ID', 'DATE', 'ELEMENT', 'DATA_VALUE', 'M-FLAG', 'Q-FLAG', 'S-FLAG', 'OBS-TIME']\n",
    "ds = dd.read_csv(f's3://noaa-ghcn-pds/csv/{YEAR}.csv', storage_options={'anon':True},  names=names, memory_map=False, \n",
    "                  dtype={'DATA_VALUE':'object'}, parse_dates=['DATE', 'OBS-TIME'])"
   ]
  },
  {
   "cell_type": "code",
   "execution_count": null,
   "metadata": {},
   "outputs": [],
   "source": []
  }
 ],
 "metadata": {
  "kernelspec": {
   "display_name": "Python 3",
   "language": "python",
   "name": "python3"
  },
  "language_info": {
   "codemirror_mode": {
    "name": "ipython",
    "version": 3
   },
   "file_extension": ".py",
   "mimetype": "text/x-python",
   "name": "python",
   "nbconvert_exporter": "python",
   "pygments_lexer": "ipython3",
   "version": "3.8.3"
  }
 },
 "nbformat": 4,
 "nbformat_minor": 4
}
