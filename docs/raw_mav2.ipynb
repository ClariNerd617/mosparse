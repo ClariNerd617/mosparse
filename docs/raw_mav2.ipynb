{
 "cells": [
  {
   "cell_type": "code",
   "execution_count": 47,
   "metadata": {},
   "outputs": [
    {
     "name": "stdout",
     "output_type": "stream",
     "text": [
      "The autoreload extension is already loaded. To reload it, use:\n",
      "  %reload_ext autoreload\n"
     ]
    }
   ],
   "source": [
    "%load_ext autoreload\n",
    "%autoreload 2"
   ]
  },
  {
   "cell_type": "code",
   "execution_count": 48,
   "metadata": {},
   "outputs": [],
   "source": [
    "import re\n",
    "import gzip\n",
    "import mav_parse as mp\n",
    "import numpy as np\n",
    "import dask.bag as db\n",
    "from tqdm import tqdm, tqdm_notebook\n",
    "from dask.diagnostics import ProgressBar"
   ]
  },
  {
   "cell_type": "code",
   "execution_count": 49,
   "metadata": {},
   "outputs": [],
   "source": [
    "#path = \"mav201901.t18z.gz\""
   ]
  },
  {
   "cell_type": "code",
   "execution_count": 50,
   "metadata": {},
   "outputs": [],
   "source": [
    "import glob\n",
    "from pathlib import Path\n",
    "Path(\"..\", \"..\", \"mosfiles\").exists()#, \"mosparse\", \"mosfiles\").exists()\n",
    "files = glob.glob(\"../../mosfiles/mav*\")\n",
    "import os\n",
    "#os.mkdir(\"../../mosout/modelrun\")"
   ]
  },
  {
   "cell_type": "code",
   "execution_count": 51,
   "metadata": {},
   "outputs": [
    {
     "data": {
      "text/plain": [
       "'../../mosfiles/mav201802.t18z.gz'"
      ]
     },
     "execution_count": 51,
     "metadata": {},
     "output_type": "execute_result"
    }
   ],
   "source": [
    "files[3]"
   ]
  },
  {
   "cell_type": "code",
   "execution_count": 52,
   "metadata": {},
   "outputs": [
    {
     "name": "stdout",
     "output_type": "stream",
     "text": [
      "[########################################] | 100% Completed | 18min 53.6s\n"
     ]
    }
   ],
   "source": [
    "pb = db.from_sequence([files[0]]).map(mp.get_stations)\n",
    "dfs = pb.flatten().map(mp.write_station)\n",
    "with ProgressBar():\n",
    "    dfs.compute()"
   ]
  },
  {
   "cell_type": "code",
   "execution_count": 45,
   "metadata": {},
   "outputs": [
    {
     "data": {
      "text/plain": [
       "\"station=[' KYKM   GFS MOS GUIDANCE    2/01/2018  0000 UTC                      \\n',\\n         ' DT /FEB   1            /FEB   2     /FEB   3          /  \\n',\\n         ' HR   06 09 12 15 18 21 00 03 06 09 12 15 18 21 00 03 06 09 12 18 00 \\n',\\n         ' X/N           44          35          58          37    56 \\n',\\n         ' TMP  32 31 30 30 37 42 43 41 37 37 38 39 46 54 55 48 46 44 42 47 53 \\n',\\n         ' DPT  26 26 25 26 30 32 34 34 33 34 34 34 35 37 36 35 35 34 34 35 38 \\n',\\n         ' CLD  OV OV BK OV OV OV OV OV OV OV OV BK BK BK CL CL CL BK BK SC SC \\n',\\n         ' WDR  28 27 27 27 00 00 10 18 18 24 05 29 28 25 28 30 29 28 30 29 25 \\n',\\n         ' WSP  03 03 03 02 00 00 02 01 01 02 01 03 06 10 16 10 06 04 04 06 10 \\n',\\n         ' P06         4     7    34    70    34    12    32    11     6 12 19 \\n',\\n         ' P12                    34          74          32          12    20 \\n',\\n         ' Q06  0     0     1     2     0     0     0     0     0  0  0 \\n',\\n         ' Q12                     0           2           0   0     0 \\n',\\n         ' T06      0/ 4  0/ 0  0/ 0  0/ 4  0/ 3  0/ 0  1/ 2  0/ 1  0/11  0/ 0 \\n',\\n         ' T12            0/ 40/ 8        0/ 4        1/ 8     0/11    \\n',\\n         ' POZ   1  2  3  5  3  1  2  4  6  5  5  3  2  1  1  1  1  3  4  2  1 \\n',\\n         ' POS  58 59 63 64 50 24 22 25 12 15 14 12 13 13 12 13 15 11 18 12 12 \\n',\\n         ' TYP   R  S  S  S  S  R  R  R  R  R  R  RR  R  R  R  R  R  R  R  R \\n',\\n         ' SNW                                 0                       0       \\n',\\n         ' CIG   8  8  8  7  7  7  7  6  4  6  8  8  8  8  8  8  8  7  8  8  8 \\n',\\n         ' VIS   7  7  7  7  7  7  7  7  5  7  7  7  7  7  7  7  7  5  7  7  7 \\n',\\n         ' OBV   N  N  N  N  N  N  N  N  N  N  N  N  N  N  N  N  N BR  N  N  N \\n']\""
      ]
     },
     "execution_count": 45,
     "metadata": {},
     "output_type": "execute_result"
    }
   ],
   "source": [
    "station = [' KSTS   GFS MOS GUIDANCE    1/01/2019  1800 UTC                      \\n',\n",
    " ' DT /JAN   2                  /JAN   3                /JAN   4       \\n',\n",
    " ' HR   00 03 06 09 12 15 18 21 00 03 06 09 12 15 18 21 00 03 06 12 18 \\n',\n",
    " ' N/X              28          57          32          55       34    \\n',\n",
    " ' TMP  60 48 38 34 31 32 43 54 55 43 38 36 35 34 41 52 53 45 40 36 44 \\n',\n",
    " ' DPT  14 24 29 29 28 28 32 31 30 35 34 33 32 32 37 36 35 35 34 33 38 \\n',\n",
    " ' CLD  FW CL CL CL FW SC FW CL FW SC CL SC BK BK SC SC BK BK BK OV OV \\n',\n",
    " ' WDR  08 31 31 00 33 09 00 00 14 15 14 00 32 35 02 00 16 15 17 32 16 \\n',\n",
    " ' WSP  05 03 01 00 01 01 00 00 02 03 02 00 01 01 01 00 04 03 01 01 01 \\n',\n",
    " ' P06         0     0     0     0     0     0     1     0     0  0  2 \\n',\n",
    " ' P12               0           1           0           2        1    \\n',\n",
    " ' Q06         0     0     0     0     0     0     0     0     0  0  0 \\n',\n",
    " ' Q12               0           0           0           0        0    \\n',\n",
    " ' T06      0/ 0  0/ 4  0/ 0  0/ 0  0/ 0  0/ 1  0/ 0  0/ 0  0/ 0  0/ 0 \\n',\n",
    " ' T12                  0/ 9        0/ 0        0/ 4        0/ 0  0/ 3 \\n',\n",
    " ' POZ   1  1  3  2  1  2  0  0  0  0  0  0  0  0  0  0  0  0  0  0  0 \\n',\n",
    " ' POS  18 21  8 19 25 12  0  2  0  0  0  0  0  0  0  0  0  0  0  0  0 \\n',\n",
    " ' TYP   R  R  R  R  R  R  R  R  R  R  R  R  R  R  R  R  R  R  R  R  R \\n',\n",
    " ' CIG   8  8  8  8  2  1  8  8  8  8  8  1  1  1  2  8  8  8  8  1  1 \\n',\n",
    " ' VIS   7  7  7  7  7  1  1  6  7  7  3  2  2  1  1  6  7  5  3  1  1 \\n',\n",
    " ' OBV   N  N  N  N  N FG FG HZ  N HZ BR BR FG FG FG HZ  N BR BR FG FG \\n']\n",
    "station= ['NSTU   GFS MOS GUIDANCE    2/01/2018  0000 UTC                      \\n',\n",
    "' DT /FEB   1            /FEB   2                /FEB   3          /  \\n',\n",
    "' HR   06 09 12 15 18 21 00 03 06 09 12 15 18 21 00 03 06 09 12 18 00 \\n',\n",
    "' TMP  84 83 82 83 82 86 86 85 83 83 82 80 80 84 85 85 83 79 80 80 85 \\n',\n",
    "' DPT  77 77 78 78 78 78 78 79 79 79 79 78 77 79 79 79 78 76 78 77 78 \\n',\n",
    "' CLD  BK BK OV OV OV OV OV OV OV OV OV OV OV OV OV OV OV OV OV OV OV \\n',\n",
    "' WDR  32 31 32 31 32 32 33 32 31 30 31 30 30 32 32 31 30 30 30 31 31 \\n',\n",
    "' WSP  06 05 05 04 04 07 09 08 05 04 03 02 04 07 08 08 06 02 02 02 06 \\n',\n",
    "' P06        23    29    42    60    28    35    64    62    29 51 58 \\n',\n",
    "' P12              45          62          43          79       51    \\n',\n",
    "' CIG   7  7  7  7  7  6  6  7  6  7  6  6  6  7  4  5  6  7  6  7  4 \\n']\n",
    "'''station=[' PWAK   GFS MOS GUIDANCE    2/01/2018  0000 UTC                      \\n',\n",
    "         ' DT /FEB   1            /FEB   2                /FEB   3          /  \\n',\n",
    "         ' HR   06 09 12 15 18 21 00 03 06 09 12 15 18 21 00 03 06 09 12 18 00 \\n',\n",
    "         ' TMP  76 73 73 71 71 73 74 75 74 72 72 71 70 73 76 76 74 72 72 72 78 \\n',\n",
    "         ' DPT  63 64 64 63 61 62 62 62 61 60 59 58 56 58 60 60 58 59 59 60 65 \\n',\n",
    "         ' CLD  CL FW BK BK SC SC FW CL CL CL FW SC FW FW FW CL CL CL SC SC FW \\n',\n",
    "         ' WDR  02 03 03 02 02 03 03 03 03 04 03 02 01 01 02 01 01 01 01 02 01 \\n',\n",
    "         ' WSP  16 16 16 18 20 21 19 16 16 14 11 09 08 07 10 10 12 11 11 11 12 \\n',\n",
    "         ' P06        17    15    27     1     4     0     1    80     1  8 23 \\n',\n",
    "         ' P12           26          27           4          80       11    \\n',\n",
    "         ' CIG   8  8  6  6  6  6  8  8  8  8  8  6  8  8  8  8  8  8  8  6  8 \\n']'''\n",
    "'''station=[' KYKM   GFS MOS GUIDANCE    2/01/2018  0000 UTC                      \\n',\n",
    "         ' DT /FEB   1            /FEB   2     /FEB   3          /  \\n',\n",
    "         ' HR   06 09 12 15 18 21 00 03 06 09 12 15 18 21 00 03 06 09 12 18 00 \\n',\n",
    "         ' X/N           44          35          58          37    56 \\n',\n",
    "         ' TMP  32 31 30 30 37 42 43 41 37 37 38 39 46 54 55 48 46 44 42 47 53 \\n',\n",
    "         ' DPT  26 26 25 26 30 32 34 34 33 34 34 34 35 37 36 35 35 34 34 35 38 \\n',\n",
    "         ' CLD  OV OV BK OV OV OV OV OV OV OV OV BK BK BK CL CL CL BK BK SC SC \\n',\n",
    "         ' WDR  28 27 27 27 00 00 10 18 18 24 05 29 28 25 28 30 29 28 30 29 25 \\n',\n",
    "         ' WSP  03 03 03 02 00 00 02 01 01 02 01 03 06 10 16 10 06 04 04 06 10 \\n',\n",
    "         ' P06         4     7    34    70    34    12    32    11     6 12 19 \\n',\n",
    "         ' P12                    34          74          32          12    20 \\n',\n",
    "         ' Q06  0     0     1     2     0     0     0     0     0  0  0 \\n',\n",
    "         ' Q12                     0           2           0   0     0 \\n',\n",
    "         ' T06      0/ 4  0/ 0  0/ 0  0/ 4  0/ 3  0/ 0  1/ 2  0/ 1  0/11  0/ 0 \\n',\n",
    "         ' T12            0/ 40/ 8        0/ 4        1/ 8     0/11    \\n',\n",
    "         ' POZ   1  2  3  5  3  1  2  4  6  5  5  3  2  1  1  1  1  3  4  2  1 \\n',\n",
    "         ' POS  58 59 63 64 50 24 22 25 12 15 14 12 13 13 12 13 15 11 18 12 12 \\n',\n",
    "         ' TYP   R  S  S  S  S  R  R  R  R  R  R  RR  R  R  R  R  R  R  R  R \\n',\n",
    "         ' SNW                                 0                       0       \\n',\n",
    "         ' CIG   8  8  8  7  7  7  7  6  4  6  8  8  8  8  8  8  8  7  8  8  8 \\n',\n",
    "         ' VIS   7  7  7  7  7  7  7  7  5  7  7  7  7  7  7  7  7  5  7  7  7 \\n',\n",
    "         ' OBV   N  N  N  N  N  N  N  N  N  N  N  N  N  N  N  N  N BR  N  N  N \\n']'''"
   ]
  },
  {
   "cell_type": "code",
   "execution_count": 46,
   "metadata": {},
   "outputs": [
    {
     "name": "stdout",
     "output_type": "stream",
     "text": [
      "   station short_model             model                   runtime  \\\n",
      "0     NSTU         GFS  GFS MOS GUIDANCE 2018-02-01 00:00:00+00:00   \n",
      "1     NSTU         GFS  GFS MOS GUIDANCE 2018-02-01 00:00:00+00:00   \n",
      "2     NSTU         GFS  GFS MOS GUIDANCE 2018-02-01 00:00:00+00:00   \n",
      "3     NSTU         GFS  GFS MOS GUIDANCE 2018-02-01 00:00:00+00:00   \n",
      "4     NSTU         GFS  GFS MOS GUIDANCE 2018-02-01 00:00:00+00:00   \n",
      "5     NSTU         GFS  GFS MOS GUIDANCE 2018-02-01 00:00:00+00:00   \n",
      "6     NSTU         GFS  GFS MOS GUIDANCE 2018-02-01 00:00:00+00:00   \n",
      "7     NSTU         GFS  GFS MOS GUIDANCE 2018-02-01 00:00:00+00:00   \n",
      "8     NSTU         GFS  GFS MOS GUIDANCE 2018-02-01 00:00:00+00:00   \n",
      "9     NSTU         GFS  GFS MOS GUIDANCE 2018-02-01 00:00:00+00:00   \n",
      "10    NSTU         GFS  GFS MOS GUIDANCE 2018-02-01 00:00:00+00:00   \n",
      "11    NSTU         GFS  GFS MOS GUIDANCE 2018-02-01 00:00:00+00:00   \n",
      "12    NSTU         GFS  GFS MOS GUIDANCE 2018-02-01 00:00:00+00:00   \n",
      "13    NSTU         GFS  GFS MOS GUIDANCE 2018-02-01 00:00:00+00:00   \n",
      "14    NSTU         GFS  GFS MOS GUIDANCE 2018-02-01 00:00:00+00:00   \n",
      "15    NSTU         GFS  GFS MOS GUIDANCE 2018-02-01 00:00:00+00:00   \n",
      "16    NSTU         GFS  GFS MOS GUIDANCE 2018-02-01 00:00:00+00:00   \n",
      "17    NSTU         GFS  GFS MOS GUIDANCE 2018-02-01 00:00:00+00:00   \n",
      "18    NSTU         GFS  GFS MOS GUIDANCE 2018-02-01 00:00:00+00:00   \n",
      "19    NSTU         GFS  GFS MOS GUIDANCE 2018-02-01 00:00:00+00:00   \n",
      "20    NSTU         GFS  GFS MOS GUIDANCE 2018-02-01 00:00:00+00:00   \n",
      "\n",
      "                 ftime  X/N TMP DPT CLD WDR  ...  Q12  T06  T12 CIG  VIS  OBV  \\\n",
      "0  2018-02-01 06:00:00  NaN  84  77  BK  32  ...  NaN  NaN  NaN   7  NaN  NaN   \n",
      "1  2018-02-01 09:00:00  NaN  83  77  BK  31  ...  NaN  NaN  NaN   7  NaN  NaN   \n",
      "2  2018-02-01 12:00:00  NaN  82  78  OV  32  ...  NaN  NaN  NaN   7  NaN  NaN   \n",
      "3  2018-02-01 15:00:00  NaN  83  78  OV  31  ...  NaN  NaN  NaN   7  NaN  NaN   \n",
      "4  2018-02-01 18:00:00  NaN  82  78  OV  32  ...  NaN  NaN  NaN   7  NaN  NaN   \n",
      "5  2018-02-01 21:00:00  NaN  86  78  OV  32  ...  NaN  NaN  NaN   6  NaN  NaN   \n",
      "6  2018-02-02 00:00:00  NaN  86  78  OV  33  ...  NaN  NaN  NaN   6  NaN  NaN   \n",
      "7  2018-02-02 03:00:00  NaN  85  79  OV  32  ...  NaN  NaN  NaN   7  NaN  NaN   \n",
      "8  2018-02-02 06:00:00  NaN  83  79  OV  31  ...  NaN  NaN  NaN   6  NaN  NaN   \n",
      "9  2018-02-02 09:00:00  NaN  83  79  OV  30  ...  NaN  NaN  NaN   7  NaN  NaN   \n",
      "10 2018-02-02 12:00:00  NaN  82  79  OV  31  ...  NaN  NaN  NaN   6  NaN  NaN   \n",
      "11 2018-02-02 15:00:00  NaN  80  78  OV  30  ...  NaN  NaN  NaN   6  NaN  NaN   \n",
      "12 2018-02-02 18:00:00  NaN  80  77  OV  30  ...  NaN  NaN  NaN   6  NaN  NaN   \n",
      "13 2018-02-02 21:00:00  NaN  84  79  OV  32  ...  NaN  NaN  NaN   7  NaN  NaN   \n",
      "14 2018-02-03 00:00:00  NaN  85  79  OV  32  ...  NaN  NaN  NaN   4  NaN  NaN   \n",
      "15 2018-02-03 03:00:00  NaN  85  79  OV  31  ...  NaN  NaN  NaN   5  NaN  NaN   \n",
      "16 2018-02-03 06:00:00  NaN  83  78  OV  30  ...  NaN  NaN  NaN   6  NaN  NaN   \n",
      "17 2018-02-03 09:00:00  NaN  79  76  OV  30  ...  NaN  NaN  NaN   7  NaN  NaN   \n",
      "18 2018-02-03 12:00:00  NaN  80  78  OV  30  ...  NaN  NaN  NaN   6  NaN  NaN   \n",
      "19 2018-02-03 18:00:00  NaN  80  77  OV  31  ...  NaN  NaN  NaN   7  NaN  NaN   \n",
      "20 2018-02-04 00:00:00  NaN  85  78  OV  31  ...  NaN  NaN  NaN   4  NaN  NaN   \n",
      "\n",
      "    TYP  POS  POZ  SNW  \n",
      "0   NaN  NaN  NaN  NaN  \n",
      "1   NaN  NaN  NaN  NaN  \n",
      "2   NaN  NaN  NaN  NaN  \n",
      "3   NaN  NaN  NaN  NaN  \n",
      "4   NaN  NaN  NaN  NaN  \n",
      "5   NaN  NaN  NaN  NaN  \n",
      "6   NaN  NaN  NaN  NaN  \n",
      "7   NaN  NaN  NaN  NaN  \n",
      "8   NaN  NaN  NaN  NaN  \n",
      "9   NaN  NaN  NaN  NaN  \n",
      "10  NaN  NaN  NaN  NaN  \n",
      "11  NaN  NaN  NaN  NaN  \n",
      "12  NaN  NaN  NaN  NaN  \n",
      "13  NaN  NaN  NaN  NaN  \n",
      "14  NaN  NaN  NaN  NaN  \n",
      "15  NaN  NaN  NaN  NaN  \n",
      "16  NaN  NaN  NaN  NaN  \n",
      "17  NaN  NaN  NaN  NaN  \n",
      "18  NaN  NaN  NaN  NaN  \n",
      "19  NaN  NaN  NaN  NaN  \n",
      "20  NaN  NaN  NaN  NaN  \n",
      "\n",
      "[21 rows x 24 columns]\n",
      "0     None\n",
      "1     None\n",
      "2     None\n",
      "3     None\n",
      "4       45\n",
      "5     None\n",
      "6     None\n",
      "7     None\n",
      "8       62\n",
      "9     None\n",
      "10    None\n",
      "11    None\n",
      "12      43\n",
      "13    None\n",
      "14    None\n",
      "15    None\n",
      "16      79\n",
      "17    None\n",
      "18    None\n",
      "19      51\n",
      "20    None\n",
      "Name: P12, dtype: object\n"
     ]
    }
   ],
   "source": [
    "print(mp.parse_station(station))\n",
    "print(mp.parse_station(station)['P12'])"
   ]
  },
  {
   "cell_type": "code",
   "execution_count": null,
   "metadata": {},
   "outputs": [],
   "source": [
    "import pandas\n",
    "a = pandas.DataFrame({'A': [1,2,3]})"
   ]
  },
  {
   "cell_type": "code",
   "execution_count": null,
   "metadata": {},
   "outputs": [],
   "source": [
    "a[2] = [1,2]"
   ]
  },
  {
   "cell_type": "code",
   "execution_count": null,
   "metadata": {},
   "outputs": [],
   "source": [
    "len(newco)"
   ]
  },
  {
   "cell_type": "code",
   "execution_count": null,
   "metadata": {},
   "outputs": [],
   "source": [
    "[1, 2] + [3,4]"
   ]
  },
  {
   "cell_type": "code",
   "execution_count": null,
   "metadata": {},
   "outputs": [],
   "source": [
    "list2=np.full(21-22, None)"
   ]
  },
  {
   "cell_type": "code",
   "execution_count": null,
   "metadata": {},
   "outputs": [],
   "source": []
  }
 ],
 "metadata": {
  "kernelspec": {
   "display_name": "Python 3",
   "language": "python",
   "name": "python3"
  },
  "language_info": {
   "codemirror_mode": {
    "name": "ipython",
    "version": 3
   },
   "file_extension": ".py",
   "mimetype": "text/x-python",
   "name": "python",
   "nbconvert_exporter": "python",
   "pygments_lexer": "ipython3",
   "version": "3.7.3"
  },
  "latex_envs": {
   "LaTeX_envs_menu_present": true,
   "autoclose": false,
   "autocomplete": true,
   "bibliofile": "biblio.bib",
   "cite_by": "apalike",
   "current_citInitial": 1,
   "eqLabelWithNumbers": true,
   "eqNumInitial": 1,
   "hotkeys": {
    "equation": "Ctrl-E",
    "itemize": "Ctrl-I"
   },
   "labels_anchors": false,
   "latex_user_defs": false,
   "report_style_numbering": false,
   "user_envs_cfg": false
  },
  "varInspector": {
   "cols": {
    "lenName": 16,
    "lenType": 16,
    "lenVar": 40
   },
   "kernels_config": {
    "python": {
     "delete_cmd_postfix": "",
     "delete_cmd_prefix": "del ",
     "library": "var_list.py",
     "varRefreshCmd": "print(var_dic_list())"
    },
    "r": {
     "delete_cmd_postfix": ") ",
     "delete_cmd_prefix": "rm(",
     "library": "var_list.r",
     "varRefreshCmd": "cat(var_dic_list()) "
    }
   },
   "types_to_exclude": [
    "module",
    "function",
    "builtin_function_or_method",
    "instance",
    "_Feature"
   ],
   "window_display": false
  }
 },
 "nbformat": 4,
 "nbformat_minor": 4
}
