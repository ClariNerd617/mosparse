{
 "cells": [
  {
   "cell_type": "code",
   "execution_count": null,
   "metadata": {},
   "outputs": [],
   "source": [
    "%matplotlib inline\n",
    "\n",
    "import pandas as pd\n",
    "import matplotlib.pyplot as plt\n",
    "import matplotlib.dates as mdates\n",
    "import seaborn as sns"
   ]
  },
  {
   "cell_type": "code",
   "execution_count": null,
   "metadata": {},
   "outputs": [],
   "source": [
    "df = pd.read_csv(\"ALL_2019.csv\", parse_dates=['DATE'])"
   ]
  },
  {
   "cell_type": "code",
   "execution_count": null,
   "metadata": {},
   "outputs": [],
   "source": [
    "df.head()"
   ]
  },
  {
   "cell_type": "code",
   "execution_count": null,
   "metadata": {},
   "outputs": [],
   "source": [
    "# convert 10th of a degree to degree F\n",
    "df['TMPF'] = (df['TMP']/10) *(9/5) + 32"
   ]
  },
  {
   "cell_type": "code",
   "execution_count": null,
   "metadata": {},
   "outputs": [],
   "source": [
    "temps = ['TMPF', 'TMP_0:06', 'TMP_0:09','TMP_0:12', 'TMP_0:15', 'TMP_0:18', 'TMP_0:21', 'TMP_1:00', 'TMP_1:03',\n",
    "       'TMP_1:06', 'TMP_1:09', 'TMP_1:12', 'TMP_1:15', 'TMP_1:18', 'TMP_1:21',\n",
    "       'TMP_2:00', 'TMP_2:03', 'TMP_2:06', 'TMP_2:09', 'TMP_2:12', 'TMP_2:18',\n",
    "       'TMP_3:00']"
   ]
  },
  {
   "cell_type": "code",
   "execution_count": null,
   "metadata": {},
   "outputs": [],
   "source": [
    "def get_hours(name):\n",
    "    _, time = name.split(\"_\")\n",
    "    days, hours = time.split(':')\n",
    "    return (int(hours) + 24*int(days))"
   ]
  },
  {
   "cell_type": "code",
   "execution_count": null,
   "metadata": {},
   "outputs": [],
   "source": [
    "new_cols = dict((t,get_hours(t)) for t in temps[1:])\n",
    "new_cols.update({'TMPF':\"baseline\"})"
   ]
  },
  {
   "cell_type": "code",
   "execution_count": null,
   "metadata": {},
   "outputs": [],
   "source": [
    "dfr = df.rename(columns=new_cols)\n",
    "dfr.head()"
   ]
  },
  {
   "cell_type": "code",
   "execution_count": null,
   "metadata": {},
   "outputs": [],
   "source": [
    "dfr['DATE'].max()"
   ]
  },
  {
   "cell_type": "markdown",
   "metadata": {},
   "source": [
    "## Plot JFK to check"
   ]
  },
  {
   "cell_type": "code",
   "execution_count": null,
   "metadata": {},
   "outputs": [],
   "source": [
    "fig, ax = plt.subplots(figsize=(20,5))\n",
    "for col in new_cols.values():\n",
    "    station = dfr[dfr['station'].str.match('KJFK')][['DATE',col]].set_index('DATE')\n",
    "    if col == 'baseline':\n",
    "        station.plot(ax=ax, color='k', zorder=10, x_compat=True)\n",
    "    else:\n",
    "        station.plot(ax=ax, linewidth=.5, linestyle='--', x_compat= True)\n",
    "        \n",
    "ax.xaxis.set_major_locator(mdates.MonthLocator())\n",
    "ax.xaxis.set_major_formatter(mdates.DateFormatter(\"%B %d\"))\n",
    "ax.tick_params('x', labelrotation=0)\n",
    "for label in ax.get_xticklabels():\n",
    "    label.set_horizontalalignment('center')\n",
    "ax.legend(title=\"Forecast Ahead (hrs)\", ncol=8, loc = 'lower center')\n",
    "ax.set_xlim((pd.Timestamp('2018-12-31').toordinal(), pd.Timestamp('2019-12-31').toordinal()))\n",
    "ax.grid()\n",
    "ax.set_xlabel(None)"
   ]
  },
  {
   "cell_type": "markdown",
   "metadata": {},
   "source": [
    "# Plot Observation Grids"
   ]
  },
  {
   "cell_type": "code",
   "execution_count": null,
   "metadata": {},
   "outputs": [],
   "source": [
    "for col in new_cols.values():\n",
    "    temp_grid = dfr[['station', 'DATE', col]].pivot(index='station', columns='DATE', values=col)\n",
    "    \n",
    "    fig, ax = plt.subplots(figsize=(10,10))\n",
    "    if col=='baseline':\n",
    "        title='GHCN observations'\n",
    "    else:\n",
    "        title=f'{col} Hrs'\n",
    "    ax.set_title(title)\n",
    "    im = ax.pcolormesh(temp_grid, vmin=-30, vmax=100, cmap='coolwarm')\n",
    "    ax.set(ylabel=\"stations\", xlabel=\"day of year\")\n",
    "    ax.set_yticks(range(len(temp_grid.index)))\n",
    "    ax.set_yticklabels(temp_grid.index, fontsize=4)\n",
    "    ax.tick_params(axis='y', length=0)\n",
    "    fig.colorbar(im, ax=ax)\n",
    "    fig.savefig(f\"{col}.png\")"
   ]
  },
  {
   "cell_type": "markdown",
   "metadata": {},
   "source": [
    "# Error images"
   ]
  },
  {
   "cell_type": "code",
   "execution_count": null,
   "metadata": {},
   "outputs": [],
   "source": [
    "baseline = df[['station', 'DATE', 'TMPF']].pivot(index='station', columns='DATE', values='TMPF')\n",
    "\n",
    "for col in new_cols.values():\n",
    "    if col == 'baseline':\n",
    "        continue\n",
    "    temp_grid = dfr[['station', 'DATE', col]].pivot(index='station', columns='DATE', values=col)\n",
    "    fig, ax = plt.subplots()\n",
    "    ax.set_title(f'{col} hour (forecast) - temperature (GHCN)')\n",
    "    im = ax.pcolormesh(temp_grid-baseline, vmin=-25, vmax=25,  cmap='RdBu_r')\n",
    "    ax.set(ylabel=\"stations\", xlabel=\"day of year\")\n",
    "    ax.set_yticklabels([]) # removed individual station ids cause not super helpful here\n",
    "    ax.tick_params(axis='y', length=0)\n",
    "    fig.colorbar(im, ax=ax)\n",
    "    fig.savefig(f\"ghcn_minius_{col}.png\")"
   ]
  },
  {
   "cell_type": "markdown",
   "metadata": {},
   "source": [
    "# Histograms"
   ]
  },
  {
   "cell_type": "code",
   "execution_count": null,
   "metadata": {},
   "outputs": [],
   "source": [
    "baseline = df[['station', 'DATE', 'TMPF']].pivot(index='station', columns='DATE', values='TMPF')"
   ]
  },
  {
   "cell_type": "code",
   "execution_count": null,
   "metadata": {},
   "outputs": [],
   "source": [
    "fig, ax = plt.subplots()\n",
    "for col in new_cols.values():\n",
    "    if col == 'baseline':continue\n",
    "    temp_grid = dfr[['station', 'DATE', col]].pivot(index='station', columns='DATE', values=col)\n",
    "    ax.hist((temp_grid-baseline).values.ravel(), label=col, histtype='step') \n",
    "\n",
    "ax.legend(bbox_to_anchor=(0., 1.02, 1., .102), loc='lower left',\n",
    "           ncol=5, mode=\"expand\", borderaxespad=0., title='hours')\n",
    "fig.savefig(f\"hist.png\")"
   ]
  },
  {
   "cell_type": "markdown",
   "metadata": {},
   "source": [
    "The above end sup so noisy it's kind of hard to see the differences, so instead we're going to try a technique called small multiples where we plot each histogram underneath the other, all on the same x and y intervals."
   ]
  },
  {
   "cell_type": "code",
   "execution_count": null,
   "metadata": {},
   "outputs": [],
   "source": [
    "# https://matplotlib.org/matplotblog/posts/create-ridgeplots-in-matplotlib/\n",
    "fig, ax = plt.subplots(figsize=(5,10), nrows=len(temps[1:]), sharex=True, sharey=True, \n",
    "                       constrained_layout=True)\n",
    "fig.suptitle(\"Histogram of Forecast Errors\")\n",
    "for ax, col in zip(ax, new_cols.values()):\n",
    "    if col=='baseline':continue\n",
    "    temp_grid = dfr[['station', 'DATE', col]].pivot(index='station', columns='DATE', values=col)\n",
    "    sns.distplot((temp_grid-baseline).values.ravel(), \n",
    "                 hist_kws={'histtype':'step'}, ax=ax)\n",
    "    ax.axvline(x=0, color='darkgrey')\n",
    "   \n",
    "    ax.annotate(f'{col} Hrs', (-60,0.1))\n",
    "    # we more care about the shape then the y values\n",
    "    ax.set_yticklabels([])\n",
    "    ax.tick_params(axis='y', length=0)\n",
    "\n",
    "fig.subplots_adjust(hspace=0)\n",
    "fig.savefig(f\"hist_stacked.png\")"
   ]
  },
  {
   "cell_type": "code",
   "execution_count": null,
   "metadata": {},
   "outputs": [],
   "source": []
  }
 ],
 "metadata": {
  "kernelspec": {
   "display_name": "Python [conda env:cuny-summer-2020]",
   "language": "python",
   "name": "conda-env-cuny-summer-2020-py"
  },
  "language_info": {
   "codemirror_mode": {
    "name": "ipython",
    "version": 3
   },
   "file_extension": ".py",
   "mimetype": "text/x-python",
   "name": "python",
   "nbconvert_exporter": "python",
   "pygments_lexer": "ipython3",
   "version": "3.8.5"
  },
  "widgets": {
   "application/vnd.jupyter.widget-state+json": {
    "state": {},
    "version_major": 2,
    "version_minor": 0
   }
  }
 },
 "nbformat": 4,
 "nbformat_minor": 4
}
