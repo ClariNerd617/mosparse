{
 "cells": [
  {
   "cell_type": "markdown",
   "metadata": {},
   "source": [
    "## What do these lines do?"
   ]
  },
  {
   "cell_type": "code",
   "execution_count": 1,
   "metadata": {},
   "outputs": [],
   "source": [#This commands allow you to make automatic updates to the library
    "%load_ext autoreload\n",
    "%autoreload 2"
   ]
  },
  {
   "cell_type": "code",
   "execution_count": 2,
   "metadata": {},
   "outputs": [],
   "source": [
    "from pathlib import Path\n",
    "\n",
    "import tqdm\n",
    "\n",
    "import mosparse as mp\n",
    "import mosparse.mavreader as mpr\n",
    "import mosparse.mavtodb as mdb "
   ]
  },
  {
   "cell_type": "markdown",
   "metadata": {},
   "source": [
    "## what does this line do?"
   ]
  },
  {
   "cell_type": "markdown",
   "metadata": {},
   "source": [
    "We're going to take one file again:"
   ]
  },
  {
   "cell_type": "code",
   "execution_count": 3,
   "metadata": {},
   "outputs": [],
   "source": [
    "zpath = (\"../../data/mav201302.t00z.Z\")"
   ]
  },
  {
   "cell_type": "markdown",
   "metadata": {},
   "source": [
    "## What's happening here? \n",
    "\n",
    "We're doing this process because we are going to want a progress bar in the next step, and for a generator we need to give the progress bar the total number of expected steps since it can not natively compute that number (because generators don't have a length)."
   ]
  },
  {
   "cell_type": "code",
   "execution_count": 5,
   "metadata": {},
   "outputs": [
    {
     "name": "stdout",
     "output_type": "stream",
     "text": [
      "47880\n"
     ]
    }
   ],
   "source": [
    "with mpr.MavReader(zpath, stations=True) as station_generator:\n",
    "    total = len(list(station_generator))\n",
    "print(total)"
   ]
  },
  {
   "cell_type": "markdown",
   "metadata": {},
   "source": [
    "## Write stations to a database\n",
    "`tqdm` creates a progress bar when used in a loop construction\n",
    "\n",
    "mdb.station_to_db -> \n",
    "* correct - writes to mos.sqlite\n",
    "* error - writes to moslog.out\n",
    "\n",
    "this takes between 1:30 - 2 hrs per file"
   ]
  },
  {
   "cell_type": "code",
   "execution_count": 7,
   "metadata": {},
   "outputs": [
    {
     "name": "stderr",
     "output_type": "stream",
     "text": [
      "100%|██████████| 47880/47880 [1:21:06<00:00,  9.84it/s]  \n"
     ]
    }
   ],
   "source": [
    "with mpr.MavReader(zpath, stations=True) as station_generator:\n",
    "    for station in tqdm.tqdm(station_generator, total=total):\n",
    "        if len(station)>0:\n",
    "            mdb.station_to_db(station)\n",
    "     "
   ]
  },
  {
   "cell_type": "code",
   "execution_count": 8,
   "metadata": {},
   "outputs": [],
   "source": [
    "#hack to close our database connection\n",
    "mdb.con.close()"
   ]
  },
  {
   "cell_type": "markdown",
   "metadata": {},
   "source": [
    "# SQL Viewer\n",
    "let's install a program so that we can look at our database\n",
    "https://github.com/pbugnion/jupyterlab-sql\n"
   ]
  },
  {
   "cell_type": "markdown",
   "metadata": {},
   "source": [
    "## let's open the database once the run has completed\n",
    "\n",
    "You may need to install `sqlalchemy` to use this function, but this lets us read a table into a dataframe object & manipulate it the same way we would a table. \n",
    "This is inefficient in the long term but useful for testing and working with one file. "
   ]
  },
  {
   "cell_type": "code",
   "execution_count": 2,
   "metadata": {},
   "outputs": [],
   "source": [
    "import pandas as pd\n",
    "df = pd.read_sql_table('GFS', 'sqlite:///mos.sqlite')"
   ]
  },
  {
   "cell_type": "code",
   "execution_count": 22,
   "metadata": {},
   "outputs": [
    {
     "data": {
      "text/plain": [
       "Index(['index', 'station', 'short_model', 'model', 'runtime', 'ftime', 'N/X',\n",
       "       'X/N', 'TMP', 'DPT', 'WDR', 'WSP', 'CIG', 'VIS', 'P06', 'P12', 'POS',\n",
       "       'POZ', 'SNW', 'CLD', 'OBV', 'TYP', 'Q06', 'Q12', 'T06', 'T12'],\n",
       "      dtype='object')"
      ]
     },
     "execution_count": 22,
     "metadata": {},
     "output_type": "execute_result"
    }
   ],
   "source": [
    "df.columns"
   ]
  },
  {
   "cell_type": "code",
   "execution_count": null,
   "metadata": {},
   "outputs": [],
   "source": []
  }
 ],
 "metadata": {
  "kernelspec": {
   "display_name": "Python [conda env:root] *",
   "language": "python",
   "name": "conda-root-py"
  },
  "language_info": {
   "codemirror_mode": {
    "name": "ipython",
    "version": 3
   },
   "file_extension": ".py",
   "mimetype": "text/x-python",
   "name": "python",
   "nbconvert_exporter": "python",
   "pygments_lexer": "ipython3",
   "version": "3.7.6"
  }
 },
 "nbformat": 4,
 "nbformat_minor": 4
}
