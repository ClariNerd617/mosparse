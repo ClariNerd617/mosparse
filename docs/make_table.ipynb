{
 "cells": [
  {
   "cell_type": "code",
   "execution_count": 2,
   "metadata": {},
   "outputs": [],
   "source": [
    "%matplotlib inline\n",
    "\n",
    "from pathlib import Path \n",
    "\n",
    "import dask.dataframe as dd\n",
    "import pandas as pd"
   ]
  },
  {
   "cell_type": "code",
   "execution_count": 3,
   "metadata": {},
   "outputs": [],
   "source": [
    "YEAR = 2019"
   ]
  },
  {
   "cell_type": "code",
   "execution_count": 4,
   "metadata": {},
   "outputs": [],
   "source": [
    "slookup = pd.read_csv('ghcn_mos_lookup.csv')"
   ]
  },
  {
   "cell_type": "markdown",
   "metadata": {},
   "source": [
    "# GHCN"
   ]
  },
  {
   "cell_type": "code",
   "execution_count": 5,
   "metadata": {},
   "outputs": [],
   "source": [
    "names = ['ID', 'DATE', 'ELEMENT', 'DATA_VALUE', 'M-FLAG', 'Q-FLAG', 'S-FLAG', 'OBS-TIME']\n",
    "ds = dd.read_csv(f's3://noaa-ghcn-pds/csv/{YEAR}.csv', storage_options={'anon':True},  \n",
    "                 names=names, parse_dates=['DATE'], dtype={'DATA_VALUE':'object'})\n",
    "\n",
    "ghcn = ds[['ID', 'DATE', 'ELEMENT', 'DATA_VALUE']][ds['ID'].isin(slookup['ID']) & ds['ELEMENT'].str.match('TAVG')].compute()"
   ]
  },
  {
   "cell_type": "code",
   "execution_count": 6,
   "metadata": {},
   "outputs": [
    {
     "data": {
      "text/html": [
       "<div>\n",
       "<style scoped>\n",
       "    .dataframe tbody tr th:only-of-type {\n",
       "        vertical-align: middle;\n",
       "    }\n",
       "\n",
       "    .dataframe tbody tr th {\n",
       "        vertical-align: top;\n",
       "    }\n",
       "\n",
       "    .dataframe thead th {\n",
       "        text-align: right;\n",
       "    }\n",
       "</style>\n",
       "<table border=\"1\" class=\"dataframe\">\n",
       "  <thead>\n",
       "    <tr style=\"text-align: right;\">\n",
       "      <th></th>\n",
       "      <th>ID</th>\n",
       "      <th>DATE</th>\n",
       "      <th>ELEMENT</th>\n",
       "      <th>DATA_VALUE</th>\n",
       "    </tr>\n",
       "  </thead>\n",
       "  <tbody>\n",
       "    <tr>\n",
       "      <th>61957</th>\n",
       "      <td>USC00244558</td>\n",
       "      <td>2019-01-01</td>\n",
       "      <td>TAVG</td>\n",
       "      <td>-74</td>\n",
       "    </tr>\n",
       "    <tr>\n",
       "      <th>85474</th>\n",
       "      <td>USW00003017</td>\n",
       "      <td>2019-01-01</td>\n",
       "      <td>TAVG</td>\n",
       "      <td>-155</td>\n",
       "    </tr>\n",
       "    <tr>\n",
       "      <th>85728</th>\n",
       "      <td>USW00003170</td>\n",
       "      <td>2019-01-01</td>\n",
       "      <td>TAVG</td>\n",
       "      <td>-144</td>\n",
       "    </tr>\n",
       "    <tr>\n",
       "      <th>85862</th>\n",
       "      <td>USW00003810</td>\n",
       "      <td>2019-01-01</td>\n",
       "      <td>TAVG</td>\n",
       "      <td>154</td>\n",
       "    </tr>\n",
       "    <tr>\n",
       "      <th>85885</th>\n",
       "      <td>USW00003812</td>\n",
       "      <td>2019-01-01</td>\n",
       "      <td>TAVG</td>\n",
       "      <td>145</td>\n",
       "    </tr>\n",
       "  </tbody>\n",
       "</table>\n",
       "</div>"
      ],
      "text/plain": [
       "                ID       DATE ELEMENT DATA_VALUE\n",
       "61957  USC00244558 2019-01-01    TAVG        -74\n",
       "85474  USW00003017 2019-01-01    TAVG       -155\n",
       "85728  USW00003170 2019-01-01    TAVG       -144\n",
       "85862  USW00003810 2019-01-01    TAVG        154\n",
       "85885  USW00003812 2019-01-01    TAVG        145"
      ]
     },
     "execution_count": 6,
     "metadata": {},
     "output_type": "execute_result"
    }
   ],
   "source": [
    "ghcn.head()"
   ]
  },
  {
   "cell_type": "markdown",
   "metadata": {},
   "source": [
    "# MOS"
   ]
  },
  {
   "cell_type": "code",
   "execution_count": 7,
   "metadata": {},
   "outputs": [],
   "source": [
    "file_list = list(Path(f'station_filter').glob(\"*.csv\"))"
   ]
  },
  {
   "cell_type": "code",
   "execution_count": 8,
   "metadata": {},
   "outputs": [],
   "source": [
    "columns = ['station', 'short_model', 'model', 'runtime', 'ftime', 'N/X', 'X/N',\n",
    "           'TMP', 'DPT', 'WDR', 'WSP', 'CIG', 'VIS', 'P06', 'P12', 'POS', 'POZ',\n",
    "           'SNW', 'CLD', 'OBV', 'TYP', 'Q06', 'Q12', 'T06', 'T12']\n",
    "usecols = ['station', 'runtime', 'ftime', 'TMP']"
   ]
  },
  {
   "cell_type": "code",
   "execution_count": 9,
   "metadata": {},
   "outputs": [
    {
     "name": "stderr",
     "output_type": "stream",
     "text": [
      "C:\\Users\\story\\Anaconda3\\envs\\mpp\\lib\\site-packages\\IPython\\core\\interactiveshell.py:3146: DtypeWarning: Columns (7) have mixed types.Specify dtype option on import or set low_memory=False.\n",
      "  has_raised = await self.run_ast_nodes(code_ast.body, cell_name,\n"
     ]
    }
   ],
   "source": [
    "df = pd.read_csv(file_list[0], names=columns, usecols=usecols).drop_duplicates().dropna()"
   ]
  },
  {
   "cell_type": "code",
   "execution_count": 10,
   "metadata": {},
   "outputs": [],
   "source": [
    "mask = df['runtime'].str.contains('2019') & df['ftime'].str.contains('2019')\n",
    "dt = pd.to_datetime(df['ftime'][mask])\n",
    "dt2 = pd.to_datetime(df['runtime'][mask])"
   ]
  },
  {
   "cell_type": "code",
   "execution_count": 11,
   "metadata": {},
   "outputs": [
    {
     "data": {
      "text/plain": [
       "0           6\n",
       "1           9\n",
       "2          12\n",
       "3          15\n",
       "4          18\n",
       "           ..\n",
       "3682545    54\n",
       "3682546    57\n",
       "3682547    60\n",
       "3682548    66\n",
       "3682549    72\n",
       "Length: 2275646, dtype: int32"
      ]
     },
     "execution_count": 11,
     "metadata": {},
     "output_type": "execute_result"
    }
   ],
   "source": [
    "((dt.dt.tz_localize('UTC') - dt2).dt.total_seconds()/3600).astype(int)"
   ]
  },
  {
   "cell_type": "code",
   "execution_count": 12,
   "metadata": {},
   "outputs": [
    {
     "name": "stderr",
     "output_type": "stream",
     "text": [
      "C:\\Users\\story\\Anaconda3\\envs\\mpp\\lib\\site-packages\\IPython\\core\\interactiveshell.py:3146: DtypeWarning: Columns (7) have mixed types.Specify dtype option on import or set low_memory=False.\n",
      "  has_raised = await self.run_ast_nodes(code_ast.body, cell_name,\n"
     ]
    }
   ],
   "source": [
    "mos_tables = []\n",
    "for f in sorted(file_list):\n",
    "    mos = pd.read_csv(f, names=columns, usecols=usecols).drop_duplicates().dropna()\n",
    "    #somehow there's a row where the header names got repeated\n",
    "    mos.drop(mos[mos['station'].str.match('station')].index, inplace=True)\n",
    "    mask = mos['runtime'].str.contains('2019') & mos['ftime'].str.contains('2019')\n",
    "    mos.drop(mos[~mask].index, inplace=True)\n",
    "    mos\n",
    "        \n",
    "    #filter & convert\n",
    "    mosc = mos[['station', 'TMP']].astype({'TMP':float})\n",
    "    mosc['runtime'] = pd.to_datetime(mos['runtime'])\n",
    "    mosc['ftime'] = pd.to_datetime(mos['ftime'])\n",
    "    mosc['hours'] = ((mosc['ftime'].dt.tz_localize('UTC') - mosc['runtime']).dt.total_seconds()/3600).astype(int)\n",
    "    mosc['date'] = mosc['ftime'].dt.date\n",
    "   \n",
    "    mosc['TMP'] = mosc['TMP']\n",
    "    mos_tables.append(mosc)"
   ]
  },
  {
   "cell_type": "code",
   "execution_count": 14,
   "metadata": {},
   "outputs": [],
   "source": [
    "mos_all = pd.concat(mos_tables)"
   ]
  },
  {
   "cell_type": "code",
   "execution_count": 154,
   "metadata": {},
   "outputs": [],
   "source": [
    "mos_all.to_csv(\"filtered_mos.csv\", index=False)"
   ]
  },
  {
   "cell_type": "code",
   "execution_count": 15,
   "metadata": {},
   "outputs": [
    {
     "data": {
      "text/html": [
       "<div>\n",
       "<style scoped>\n",
       "    .dataframe tbody tr th:only-of-type {\n",
       "        vertical-align: middle;\n",
       "    }\n",
       "\n",
       "    .dataframe tbody tr th {\n",
       "        vertical-align: top;\n",
       "    }\n",
       "\n",
       "    .dataframe thead th {\n",
       "        text-align: right;\n",
       "    }\n",
       "</style>\n",
       "<table border=\"1\" class=\"dataframe\">\n",
       "  <thead>\n",
       "    <tr style=\"text-align: right;\">\n",
       "      <th></th>\n",
       "      <th>station</th>\n",
       "      <th>TMP</th>\n",
       "      <th>runtime</th>\n",
       "      <th>ftime</th>\n",
       "      <th>hours</th>\n",
       "      <th>date</th>\n",
       "    </tr>\n",
       "  </thead>\n",
       "  <tbody>\n",
       "    <tr>\n",
       "      <th>0</th>\n",
       "      <td>NSTU</td>\n",
       "      <td>83.0</td>\n",
       "      <td>2019-01-01 00:00:00+00:00</td>\n",
       "      <td>2019-01-01 06:00:00</td>\n",
       "      <td>6</td>\n",
       "      <td>2019-01-01</td>\n",
       "    </tr>\n",
       "    <tr>\n",
       "      <th>1</th>\n",
       "      <td>NSTU</td>\n",
       "      <td>84.0</td>\n",
       "      <td>2019-01-01 00:00:00+00:00</td>\n",
       "      <td>2019-01-01 09:00:00</td>\n",
       "      <td>9</td>\n",
       "      <td>2019-01-01</td>\n",
       "    </tr>\n",
       "    <tr>\n",
       "      <th>2</th>\n",
       "      <td>NSTU</td>\n",
       "      <td>83.0</td>\n",
       "      <td>2019-01-01 00:00:00+00:00</td>\n",
       "      <td>2019-01-01 12:00:00</td>\n",
       "      <td>12</td>\n",
       "      <td>2019-01-01</td>\n",
       "    </tr>\n",
       "    <tr>\n",
       "      <th>3</th>\n",
       "      <td>NSTU</td>\n",
       "      <td>83.0</td>\n",
       "      <td>2019-01-01 00:00:00+00:00</td>\n",
       "      <td>2019-01-01 15:00:00</td>\n",
       "      <td>15</td>\n",
       "      <td>2019-01-01</td>\n",
       "    </tr>\n",
       "    <tr>\n",
       "      <th>4</th>\n",
       "      <td>NSTU</td>\n",
       "      <td>84.0</td>\n",
       "      <td>2019-01-01 00:00:00+00:00</td>\n",
       "      <td>2019-01-01 18:00:00</td>\n",
       "      <td>18</td>\n",
       "      <td>2019-01-01</td>\n",
       "    </tr>\n",
       "  </tbody>\n",
       "</table>\n",
       "</div>"
      ],
      "text/plain": [
       "  station   TMP                   runtime               ftime  hours  \\\n",
       "0    NSTU  83.0 2019-01-01 00:00:00+00:00 2019-01-01 06:00:00      6   \n",
       "1    NSTU  84.0 2019-01-01 00:00:00+00:00 2019-01-01 09:00:00      9   \n",
       "2    NSTU  83.0 2019-01-01 00:00:00+00:00 2019-01-01 12:00:00     12   \n",
       "3    NSTU  83.0 2019-01-01 00:00:00+00:00 2019-01-01 15:00:00     15   \n",
       "4    NSTU  84.0 2019-01-01 00:00:00+00:00 2019-01-01 18:00:00     18   \n",
       "\n",
       "         date  \n",
       "0  2019-01-01  \n",
       "1  2019-01-01  \n",
       "2  2019-01-01  \n",
       "3  2019-01-01  \n",
       "4  2019-01-01  "
      ]
     },
     "execution_count": 15,
     "metadata": {},
     "output_type": "execute_result"
    }
   ],
   "source": [
    "mos_all.head()"
   ]
  },
  {
   "cell_type": "code",
   "execution_count": 16,
   "metadata": {},
   "outputs": [
    {
     "data": {
      "text/plain": [
       "ID         object\n",
       "station    object\n",
       "dtype: object"
      ]
     },
     "execution_count": 16,
     "metadata": {},
     "output_type": "execute_result"
    }
   ],
   "source": [
    "slook = slookup.rename(columns={'Station':'station'})[['ID', 'station']]\n",
    "slook.dtypes"
   ]
  },
  {
   "cell_type": "code",
   "execution_count": 17,
   "metadata": {},
   "outputs": [
    {
     "name": "stdout",
     "output_type": "stream",
     "text": [
      "<class 'pandas.core.frame.DataFrame'>\n",
      "Int64Index: 62283443 entries, 0 to 1269436\n",
      "Data columns (total 6 columns):\n",
      " #   Column   Dtype              \n",
      "---  ------   -----              \n",
      " 0   station  object             \n",
      " 1   TMP      float64            \n",
      " 2   runtime  datetime64[ns, UTC]\n",
      " 3   ftime    datetime64[ns]     \n",
      " 4   hours    int32              \n",
      " 5   date     object             \n",
      "dtypes: datetime64[ns, UTC](1), datetime64[ns](1), float64(1), int32(1), object(2)\n",
      "memory usage: 3.0+ GB\n"
     ]
    }
   ],
   "source": [
    "mos_all.info()"
   ]
  },
  {
   "cell_type": "code",
   "execution_count": 18,
   "metadata": {},
   "outputs": [],
   "source": [
    "moswn = pd.merge(mos_all, slook, how='right', on='station')"
   ]
  },
  {
   "cell_type": "code",
   "execution_count": 19,
   "metadata": {},
   "outputs": [],
   "source": [
    "moswn['datestr'] = moswn['date'].astype(str)"
   ]
  },
  {
   "cell_type": "code",
   "execution_count": 20,
   "metadata": {},
   "outputs": [],
   "source": [
    "mtable = moswn[[ 'ID', 'datestr', 'station','hours', 'TMP']].pivot_table(index=[\"ID\", 'datestr', 'station'], columns=['hours'], values='TMP')"
   ]
  },
  {
   "cell_type": "code",
   "execution_count": 21,
   "metadata": {},
   "outputs": [],
   "source": [
    "ghcn['DATESTR'] = ghcn['DATE'].astype(str)"
   ]
  },
  {
   "cell_type": "code",
   "execution_count": 22,
   "metadata": {},
   "outputs": [
    {
     "data": {
      "text/html": [
       "<div>\n",
       "<style scoped>\n",
       "    .dataframe tbody tr th:only-of-type {\n",
       "        vertical-align: middle;\n",
       "    }\n",
       "\n",
       "    .dataframe tbody tr th {\n",
       "        vertical-align: top;\n",
       "    }\n",
       "\n",
       "    .dataframe thead th {\n",
       "        text-align: right;\n",
       "    }\n",
       "</style>\n",
       "<table border=\"1\" class=\"dataframe\">\n",
       "  <thead>\n",
       "    <tr style=\"text-align: right;\">\n",
       "      <th></th>\n",
       "      <th>ID</th>\n",
       "      <th>DATE</th>\n",
       "      <th>ELEMENT</th>\n",
       "      <th>DATA_VALUE</th>\n",
       "      <th>DATESTR</th>\n",
       "    </tr>\n",
       "  </thead>\n",
       "  <tbody>\n",
       "    <tr>\n",
       "      <th>61957</th>\n",
       "      <td>USC00244558</td>\n",
       "      <td>2019-01-01</td>\n",
       "      <td>TAVG</td>\n",
       "      <td>-74</td>\n",
       "      <td>2019-01-01</td>\n",
       "    </tr>\n",
       "    <tr>\n",
       "      <th>85474</th>\n",
       "      <td>USW00003017</td>\n",
       "      <td>2019-01-01</td>\n",
       "      <td>TAVG</td>\n",
       "      <td>-155</td>\n",
       "      <td>2019-01-01</td>\n",
       "    </tr>\n",
       "    <tr>\n",
       "      <th>85728</th>\n",
       "      <td>USW00003170</td>\n",
       "      <td>2019-01-01</td>\n",
       "      <td>TAVG</td>\n",
       "      <td>-144</td>\n",
       "      <td>2019-01-01</td>\n",
       "    </tr>\n",
       "    <tr>\n",
       "      <th>85862</th>\n",
       "      <td>USW00003810</td>\n",
       "      <td>2019-01-01</td>\n",
       "      <td>TAVG</td>\n",
       "      <td>154</td>\n",
       "      <td>2019-01-01</td>\n",
       "    </tr>\n",
       "    <tr>\n",
       "      <th>85885</th>\n",
       "      <td>USW00003812</td>\n",
       "      <td>2019-01-01</td>\n",
       "      <td>TAVG</td>\n",
       "      <td>145</td>\n",
       "      <td>2019-01-01</td>\n",
       "    </tr>\n",
       "  </tbody>\n",
       "</table>\n",
       "</div>"
      ],
      "text/plain": [
       "                ID       DATE ELEMENT DATA_VALUE     DATESTR\n",
       "61957  USC00244558 2019-01-01    TAVG        -74  2019-01-01\n",
       "85474  USW00003017 2019-01-01    TAVG       -155  2019-01-01\n",
       "85728  USW00003170 2019-01-01    TAVG       -144  2019-01-01\n",
       "85862  USW00003810 2019-01-01    TAVG        154  2019-01-01\n",
       "85885  USW00003812 2019-01-01    TAVG        145  2019-01-01"
      ]
     },
     "execution_count": 22,
     "metadata": {},
     "output_type": "execute_result"
    }
   ],
   "source": [
    "ghcn.head()"
   ]
  },
  {
   "cell_type": "code",
   "execution_count": 24,
   "metadata": {},
   "outputs": [],
   "source": [
    "pairup = pd.merge(mtable.reset_index(), ghcn, how='inner', right_on=['ID', 'DATESTR'], left_on=['ID', 'datestr'])"
   ]
  },
  {
   "cell_type": "code",
   "execution_count": 25,
   "metadata": {},
   "outputs": [
    {
     "name": "stdout",
     "output_type": "stream",
     "text": [
      "<class 'pandas.core.frame.DataFrame'>\n",
      "Int64Index: 102450 entries, 0 to 102449\n",
      "Data columns (total 28 columns):\n",
      " #   Column      Non-Null Count   Dtype         \n",
      "---  ------      --------------   -----         \n",
      " 0   ID          102450 non-null  object        \n",
      " 1   datestr     102450 non-null  object        \n",
      " 2   station     102450 non-null  object        \n",
      " 3   6.0         102450 non-null  float64       \n",
      " 4   9.0         102450 non-null  float64       \n",
      " 5   12.0        102450 non-null  float64       \n",
      " 6   15.0        102450 non-null  float64       \n",
      " 7   18.0        102450 non-null  float64       \n",
      " 8   21.0        102450 non-null  float64       \n",
      " 9   24.0        102173 non-null  float64       \n",
      " 10  27.0        102173 non-null  float64       \n",
      " 11  30.0        102173 non-null  float64       \n",
      " 12  33.0        102173 non-null  float64       \n",
      " 13  36.0        102173 non-null  float64       \n",
      " 14  39.0        102173 non-null  float64       \n",
      " 15  42.0        102173 non-null  float64       \n",
      " 16  45.0        102173 non-null  float64       \n",
      " 17  48.0        101896 non-null  float64       \n",
      " 18  51.0        101896 non-null  float64       \n",
      " 19  54.0        101896 non-null  float64       \n",
      " 20  57.0        101896 non-null  float64       \n",
      " 21  60.0        101896 non-null  float64       \n",
      " 22  66.0        101896 non-null  float64       \n",
      " 23  72.0        101619 non-null  float64       \n",
      " 24  DATE        102450 non-null  datetime64[ns]\n",
      " 25  ELEMENT     102450 non-null  object        \n",
      " 26  DATA_VALUE  102450 non-null  object        \n",
      " 27  DATESTR     102450 non-null  object        \n",
      "dtypes: datetime64[ns](1), float64(21), object(6)\n",
      "memory usage: 22.7+ MB\n"
     ]
    }
   ],
   "source": [
    "pairup.info()"
   ]
  },
  {
   "cell_type": "code",
   "execution_count": 26,
   "metadata": {},
   "outputs": [
    {
     "data": {
      "text/plain": [
       "Index([        'ID',    'datestr',    'station',          6.0,          9.0,\n",
       "               12.0,         15.0,         18.0,         21.0,         24.0,\n",
       "               27.0,         30.0,         33.0,         36.0,         39.0,\n",
       "               42.0,         45.0,         48.0,         51.0,         54.0,\n",
       "               57.0,         60.0,         66.0,         72.0,       'DATE',\n",
       "          'ELEMENT', 'DATA_VALUE',    'DATESTR'],\n",
       "      dtype='object')"
      ]
     },
     "execution_count": 26,
     "metadata": {},
     "output_type": "execute_result"
    }
   ],
   "source": [
    "pairup.columns"
   ]
  },
  {
   "cell_type": "code",
   "execution_count": 39,
   "metadata": {},
   "outputs": [],
   "source": [
    "hours = [6.0, 9.0, 12.0, 15.0, 18.0, 21.0, 24.0, 27.0, 30.0, 33.0, 36.0, 39.0, 42.0, 45.0, 48.0, 51.0, 54.0, 57.0, 60.0, 66.0, 72.0]\n",
    "hc = {i:str(int(i)) for i in hours}"
   ]
  },
  {
   "cell_type": "code",
   "execution_count": 41,
   "metadata": {},
   "outputs": [],
   "source": [
    "columns = {'datestr':'date', 'DATA_VALUE':'observed'}\n",
    "columns.update(hc)\n",
    "table = pairup[['station', 'datestr', 'DATA_VALUE']+hours].rename(columns=columns)"
   ]
  },
  {
   "cell_type": "code",
   "execution_count": 42,
   "metadata": {},
   "outputs": [
    {
     "data": {
      "text/html": [
       "<div>\n",
       "<style scoped>\n",
       "    .dataframe tbody tr th:only-of-type {\n",
       "        vertical-align: middle;\n",
       "    }\n",
       "\n",
       "    .dataframe tbody tr th {\n",
       "        vertical-align: top;\n",
       "    }\n",
       "\n",
       "    .dataframe thead th {\n",
       "        text-align: right;\n",
       "    }\n",
       "</style>\n",
       "<table border=\"1\" class=\"dataframe\">\n",
       "  <thead>\n",
       "    <tr style=\"text-align: right;\">\n",
       "      <th></th>\n",
       "      <th>station</th>\n",
       "      <th>date</th>\n",
       "      <th>observed</th>\n",
       "      <th>6</th>\n",
       "      <th>9</th>\n",
       "      <th>12</th>\n",
       "      <th>15</th>\n",
       "      <th>18</th>\n",
       "      <th>21</th>\n",
       "      <th>24</th>\n",
       "      <th>...</th>\n",
       "      <th>39</th>\n",
       "      <th>42</th>\n",
       "      <th>45</th>\n",
       "      <th>48</th>\n",
       "      <th>51</th>\n",
       "      <th>54</th>\n",
       "      <th>57</th>\n",
       "      <th>60</th>\n",
       "      <th>66</th>\n",
       "      <th>72</th>\n",
       "    </tr>\n",
       "  </thead>\n",
       "  <tbody>\n",
       "    <tr>\n",
       "      <th>0</th>\n",
       "      <td>KGPI</td>\n",
       "      <td>2019-01-01</td>\n",
       "      <td>-74</td>\n",
       "      <td>17.333333</td>\n",
       "      <td>18.00</td>\n",
       "      <td>15.50</td>\n",
       "      <td>17.50</td>\n",
       "      <td>19.00</td>\n",
       "      <td>24.00</td>\n",
       "      <td>NaN</td>\n",
       "      <td>...</td>\n",
       "      <td>NaN</td>\n",
       "      <td>NaN</td>\n",
       "      <td>NaN</td>\n",
       "      <td>NaN</td>\n",
       "      <td>NaN</td>\n",
       "      <td>NaN</td>\n",
       "      <td>NaN</td>\n",
       "      <td>NaN</td>\n",
       "      <td>NaN</td>\n",
       "      <td>NaN</td>\n",
       "    </tr>\n",
       "    <tr>\n",
       "      <th>1</th>\n",
       "      <td>KGPI</td>\n",
       "      <td>2019-01-02</td>\n",
       "      <td>-46</td>\n",
       "      <td>23.000000</td>\n",
       "      <td>23.20</td>\n",
       "      <td>23.20</td>\n",
       "      <td>23.20</td>\n",
       "      <td>23.20</td>\n",
       "      <td>24.60</td>\n",
       "      <td>22.00</td>\n",
       "      <td>...</td>\n",
       "      <td>23.50</td>\n",
       "      <td>25.00</td>\n",
       "      <td>31.00</td>\n",
       "      <td>NaN</td>\n",
       "      <td>NaN</td>\n",
       "      <td>NaN</td>\n",
       "      <td>NaN</td>\n",
       "      <td>NaN</td>\n",
       "      <td>NaN</td>\n",
       "      <td>NaN</td>\n",
       "    </tr>\n",
       "    <tr>\n",
       "      <th>2</th>\n",
       "      <td>KGPI</td>\n",
       "      <td>2019-01-03</td>\n",
       "      <td>-3</td>\n",
       "      <td>28.200000</td>\n",
       "      <td>29.60</td>\n",
       "      <td>29.40</td>\n",
       "      <td>29.20</td>\n",
       "      <td>30.60</td>\n",
       "      <td>31.20</td>\n",
       "      <td>30.60</td>\n",
       "      <td>...</td>\n",
       "      <td>29.20</td>\n",
       "      <td>30.20</td>\n",
       "      <td>32.40</td>\n",
       "      <td>30.00</td>\n",
       "      <td>29.75</td>\n",
       "      <td>27.333333</td>\n",
       "      <td>29.333333</td>\n",
       "      <td>28.5</td>\n",
       "      <td>33.00</td>\n",
       "      <td>NaN</td>\n",
       "    </tr>\n",
       "    <tr>\n",
       "      <th>3</th>\n",
       "      <td>KGPI</td>\n",
       "      <td>2019-01-04</td>\n",
       "      <td>38</td>\n",
       "      <td>38.800000</td>\n",
       "      <td>38.00</td>\n",
       "      <td>37.00</td>\n",
       "      <td>37.00</td>\n",
       "      <td>37.40</td>\n",
       "      <td>38.20</td>\n",
       "      <td>35.80</td>\n",
       "      <td>...</td>\n",
       "      <td>33.60</td>\n",
       "      <td>34.40</td>\n",
       "      <td>35.80</td>\n",
       "      <td>35.20</td>\n",
       "      <td>34.00</td>\n",
       "      <td>33.600000</td>\n",
       "      <td>33.200000</td>\n",
       "      <td>32.8</td>\n",
       "      <td>33.60</td>\n",
       "      <td>34.50</td>\n",
       "    </tr>\n",
       "    <tr>\n",
       "      <th>4</th>\n",
       "      <td>KGPI</td>\n",
       "      <td>2019-01-05</td>\n",
       "      <td>3</td>\n",
       "      <td>34.200000</td>\n",
       "      <td>32.40</td>\n",
       "      <td>33.40</td>\n",
       "      <td>33.00</td>\n",
       "      <td>34.60</td>\n",
       "      <td>35.80</td>\n",
       "      <td>36.20</td>\n",
       "      <td>...</td>\n",
       "      <td>30.80</td>\n",
       "      <td>31.80</td>\n",
       "      <td>32.80</td>\n",
       "      <td>33.60</td>\n",
       "      <td>32.60</td>\n",
       "      <td>32.000000</td>\n",
       "      <td>31.400000</td>\n",
       "      <td>32.2</td>\n",
       "      <td>32.40</td>\n",
       "      <td>33.00</td>\n",
       "    </tr>\n",
       "    <tr>\n",
       "      <th>...</th>\n",
       "      <td>...</td>\n",
       "      <td>...</td>\n",
       "      <td>...</td>\n",
       "      <td>...</td>\n",
       "      <td>...</td>\n",
       "      <td>...</td>\n",
       "      <td>...</td>\n",
       "      <td>...</td>\n",
       "      <td>...</td>\n",
       "      <td>...</td>\n",
       "      <td>...</td>\n",
       "      <td>...</td>\n",
       "      <td>...</td>\n",
       "      <td>...</td>\n",
       "      <td>...</td>\n",
       "      <td>...</td>\n",
       "      <td>...</td>\n",
       "      <td>...</td>\n",
       "      <td>...</td>\n",
       "      <td>...</td>\n",
       "      <td>...</td>\n",
       "    </tr>\n",
       "    <tr>\n",
       "      <th>102445</th>\n",
       "      <td>KALO</td>\n",
       "      <td>2019-12-27</td>\n",
       "      <td>8</td>\n",
       "      <td>30.000000</td>\n",
       "      <td>29.50</td>\n",
       "      <td>29.50</td>\n",
       "      <td>29.25</td>\n",
       "      <td>28.75</td>\n",
       "      <td>28.75</td>\n",
       "      <td>28.75</td>\n",
       "      <td>...</td>\n",
       "      <td>29.25</td>\n",
       "      <td>29.75</td>\n",
       "      <td>29.75</td>\n",
       "      <td>30.75</td>\n",
       "      <td>30.50</td>\n",
       "      <td>31.000000</td>\n",
       "      <td>32.000000</td>\n",
       "      <td>33.0</td>\n",
       "      <td>32.75</td>\n",
       "      <td>32.75</td>\n",
       "    </tr>\n",
       "    <tr>\n",
       "      <th>102446</th>\n",
       "      <td>KALO</td>\n",
       "      <td>2019-12-28</td>\n",
       "      <td>13</td>\n",
       "      <td>33.000000</td>\n",
       "      <td>33.00</td>\n",
       "      <td>32.50</td>\n",
       "      <td>33.50</td>\n",
       "      <td>33.00</td>\n",
       "      <td>33.50</td>\n",
       "      <td>32.50</td>\n",
       "      <td>...</td>\n",
       "      <td>34.00</td>\n",
       "      <td>33.75</td>\n",
       "      <td>34.50</td>\n",
       "      <td>34.75</td>\n",
       "      <td>35.75</td>\n",
       "      <td>35.250000</td>\n",
       "      <td>37.000000</td>\n",
       "      <td>37.5</td>\n",
       "      <td>38.25</td>\n",
       "      <td>37.00</td>\n",
       "    </tr>\n",
       "    <tr>\n",
       "      <th>102447</th>\n",
       "      <td>KALO</td>\n",
       "      <td>2019-12-29</td>\n",
       "      <td>76</td>\n",
       "      <td>46.250000</td>\n",
       "      <td>46.00</td>\n",
       "      <td>45.50</td>\n",
       "      <td>47.00</td>\n",
       "      <td>47.25</td>\n",
       "      <td>47.50</td>\n",
       "      <td>47.75</td>\n",
       "      <td>...</td>\n",
       "      <td>48.00</td>\n",
       "      <td>47.25</td>\n",
       "      <td>48.00</td>\n",
       "      <td>47.00</td>\n",
       "      <td>48.75</td>\n",
       "      <td>49.000000</td>\n",
       "      <td>49.000000</td>\n",
       "      <td>48.5</td>\n",
       "      <td>49.25</td>\n",
       "      <td>47.50</td>\n",
       "    </tr>\n",
       "    <tr>\n",
       "      <th>102448</th>\n",
       "      <td>KALO</td>\n",
       "      <td>2019-12-30</td>\n",
       "      <td>-11</td>\n",
       "      <td>30.500000</td>\n",
       "      <td>29.25</td>\n",
       "      <td>31.25</td>\n",
       "      <td>29.00</td>\n",
       "      <td>30.50</td>\n",
       "      <td>29.00</td>\n",
       "      <td>30.75</td>\n",
       "      <td>...</td>\n",
       "      <td>30.25</td>\n",
       "      <td>33.00</td>\n",
       "      <td>31.25</td>\n",
       "      <td>34.00</td>\n",
       "      <td>31.25</td>\n",
       "      <td>32.250000</td>\n",
       "      <td>30.750000</td>\n",
       "      <td>34.0</td>\n",
       "      <td>33.50</td>\n",
       "      <td>32.75</td>\n",
       "    </tr>\n",
       "    <tr>\n",
       "      <th>102449</th>\n",
       "      <td>KALO</td>\n",
       "      <td>2019-12-31</td>\n",
       "      <td>-39</td>\n",
       "      <td>24.250000</td>\n",
       "      <td>24.00</td>\n",
       "      <td>25.25</td>\n",
       "      <td>24.75</td>\n",
       "      <td>25.00</td>\n",
       "      <td>24.25</td>\n",
       "      <td>25.00</td>\n",
       "      <td>...</td>\n",
       "      <td>24.50</td>\n",
       "      <td>25.25</td>\n",
       "      <td>24.75</td>\n",
       "      <td>27.00</td>\n",
       "      <td>26.75</td>\n",
       "      <td>26.750000</td>\n",
       "      <td>27.500000</td>\n",
       "      <td>27.5</td>\n",
       "      <td>27.50</td>\n",
       "      <td>27.25</td>\n",
       "    </tr>\n",
       "  </tbody>\n",
       "</table>\n",
       "<p>102450 rows × 24 columns</p>\n",
       "</div>"
      ],
      "text/plain": [
       "       station        date observed          6      9     12     15     18  \\\n",
       "0         KGPI  2019-01-01      -74  17.333333  18.00  15.50  17.50  19.00   \n",
       "1         KGPI  2019-01-02      -46  23.000000  23.20  23.20  23.20  23.20   \n",
       "2         KGPI  2019-01-03       -3  28.200000  29.60  29.40  29.20  30.60   \n",
       "3         KGPI  2019-01-04       38  38.800000  38.00  37.00  37.00  37.40   \n",
       "4         KGPI  2019-01-05        3  34.200000  32.40  33.40  33.00  34.60   \n",
       "...        ...         ...      ...        ...    ...    ...    ...    ...   \n",
       "102445    KALO  2019-12-27        8  30.000000  29.50  29.50  29.25  28.75   \n",
       "102446    KALO  2019-12-28       13  33.000000  33.00  32.50  33.50  33.00   \n",
       "102447    KALO  2019-12-29       76  46.250000  46.00  45.50  47.00  47.25   \n",
       "102448    KALO  2019-12-30      -11  30.500000  29.25  31.25  29.00  30.50   \n",
       "102449    KALO  2019-12-31      -39  24.250000  24.00  25.25  24.75  25.00   \n",
       "\n",
       "           21     24  ...     39     42     45     48     51         54  \\\n",
       "0       24.00    NaN  ...    NaN    NaN    NaN    NaN    NaN        NaN   \n",
       "1       24.60  22.00  ...  23.50  25.00  31.00    NaN    NaN        NaN   \n",
       "2       31.20  30.60  ...  29.20  30.20  32.40  30.00  29.75  27.333333   \n",
       "3       38.20  35.80  ...  33.60  34.40  35.80  35.20  34.00  33.600000   \n",
       "4       35.80  36.20  ...  30.80  31.80  32.80  33.60  32.60  32.000000   \n",
       "...       ...    ...  ...    ...    ...    ...    ...    ...        ...   \n",
       "102445  28.75  28.75  ...  29.25  29.75  29.75  30.75  30.50  31.000000   \n",
       "102446  33.50  32.50  ...  34.00  33.75  34.50  34.75  35.75  35.250000   \n",
       "102447  47.50  47.75  ...  48.00  47.25  48.00  47.00  48.75  49.000000   \n",
       "102448  29.00  30.75  ...  30.25  33.00  31.25  34.00  31.25  32.250000   \n",
       "102449  24.25  25.00  ...  24.50  25.25  24.75  27.00  26.75  26.750000   \n",
       "\n",
       "               57    60     66     72  \n",
       "0             NaN   NaN    NaN    NaN  \n",
       "1             NaN   NaN    NaN    NaN  \n",
       "2       29.333333  28.5  33.00    NaN  \n",
       "3       33.200000  32.8  33.60  34.50  \n",
       "4       31.400000  32.2  32.40  33.00  \n",
       "...           ...   ...    ...    ...  \n",
       "102445  32.000000  33.0  32.75  32.75  \n",
       "102446  37.000000  37.5  38.25  37.00  \n",
       "102447  49.000000  48.5  49.25  47.50  \n",
       "102448  30.750000  34.0  33.50  32.75  \n",
       "102449  27.500000  27.5  27.50  27.25  \n",
       "\n",
       "[102450 rows x 24 columns]"
      ]
     },
     "execution_count": 42,
     "metadata": {},
     "output_type": "execute_result"
    }
   ],
   "source": [
    "table"
   ]
  },
  {
   "cell_type": "code",
   "execution_count": 44,
   "metadata": {},
   "outputs": [],
   "source": [
    "table.to_csv(\"ALL_2019.csv\", index=False)"
   ]
  },
  {
   "cell_type": "code",
   "execution_count": null,
   "metadata": {},
   "outputs": [],
   "source": []
  }
 ],
 "metadata": {
  "kernelspec": {
   "display_name": "Python 3",
   "language": "python",
   "name": "python3"
  },
  "language_info": {
   "codemirror_mode": {
    "name": "ipython",
    "version": 3
   },
   "file_extension": ".py",
   "mimetype": "text/x-python",
   "name": "python",
   "nbconvert_exporter": "python",
   "pygments_lexer": "ipython3",
   "version": "3.8.5"
  },
  "widgets": {
   "application/vnd.jupyter.widget-state+json": {
    "state": {},
    "version_major": 2,
    "version_minor": 0
   }
  }
 },
 "nbformat": 4,
 "nbformat_minor": 4
}
