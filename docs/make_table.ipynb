{
 "cells": [
  {
   "cell_type": "code",
   "execution_count": 2,
   "metadata": {},
   "outputs": [],
   "source": [
    "%matplotlib inline\n",
    "\n",
    "from pathlib import Path \n",
    "\n",
    "import dask.dataframe as dd\n",
    "import pandas as pd"
   ]
  },
  {
   "cell_type": "code",
   "execution_count": 3,
   "metadata": {},
   "outputs": [],
   "source": [
    "YEAR = 2019"
   ]
  },
  {
   "cell_type": "code",
   "execution_count": 4,
   "metadata": {},
   "outputs": [],
   "source": [
    "slookup = pd.read_csv('ghcn_mos_lookup.csv')"
   ]
  },
  {
   "cell_type": "markdown",
   "metadata": {},
   "source": [
    "# GHCN"
   ]
  },
  {
   "cell_type": "code",
   "execution_count": 5,
   "metadata": {},
   "outputs": [],
   "source": [
    "names = ['ID', 'DATE', 'ELEMENT', 'DATA_VALUE', 'M-FLAG', 'Q-FLAG', 'S-FLAG', 'OBS-TIME']\n",
    "ds = dd.read_csv(f's3://noaa-ghcn-pds/csv/{YEAR}.csv', storage_options={'anon':True},  \n",
    "                 names=names, parse_dates=['DATE'], dtype={'DATA_VALUE':'object'})\n",
    "\n",
    "ghcn = ds[['ID', 'DATE', 'ELEMENT', 'DATA_VALUE']][ds['ID'].isin(slookup['ID']) & ds['ELEMENT'].str.match('TAVG')].compute()"
   ]
  },
  {
   "cell_type": "code",
   "execution_count": 7,
   "metadata": {},
   "outputs": [
    {
     "data": {
      "text/html": [
       "<div>\n",
       "<style scoped>\n",
       "    .dataframe tbody tr th:only-of-type {\n",
       "        vertical-align: middle;\n",
       "    }\n",
       "\n",
       "    .dataframe tbody tr th {\n",
       "        vertical-align: top;\n",
       "    }\n",
       "\n",
       "    .dataframe thead th {\n",
       "        text-align: right;\n",
       "    }\n",
       "</style>\n",
       "<table border=\"1\" class=\"dataframe\">\n",
       "  <thead>\n",
       "    <tr style=\"text-align: right;\">\n",
       "      <th></th>\n",
       "      <th>ID</th>\n",
       "      <th>DATE</th>\n",
       "      <th>ELEMENT</th>\n",
       "      <th>DATA_VALUE</th>\n",
       "    </tr>\n",
       "  </thead>\n",
       "  <tbody>\n",
       "    <tr>\n",
       "      <th>60868</th>\n",
       "      <td>USC00244558</td>\n",
       "      <td>2019-01-01</td>\n",
       "      <td>TAVG</td>\n",
       "      <td>-74</td>\n",
       "    </tr>\n",
       "    <tr>\n",
       "      <th>84360</th>\n",
       "      <td>USW00003017</td>\n",
       "      <td>2019-01-01</td>\n",
       "      <td>TAVG</td>\n",
       "      <td>-155</td>\n",
       "    </tr>\n",
       "    <tr>\n",
       "      <th>84614</th>\n",
       "      <td>USW00003170</td>\n",
       "      <td>2019-01-01</td>\n",
       "      <td>TAVG</td>\n",
       "      <td>-144</td>\n",
       "    </tr>\n",
       "    <tr>\n",
       "      <th>84748</th>\n",
       "      <td>USW00003810</td>\n",
       "      <td>2019-01-01</td>\n",
       "      <td>TAVG</td>\n",
       "      <td>154</td>\n",
       "    </tr>\n",
       "    <tr>\n",
       "      <th>84771</th>\n",
       "      <td>USW00003812</td>\n",
       "      <td>2019-01-01</td>\n",
       "      <td>TAVG</td>\n",
       "      <td>145</td>\n",
       "    </tr>\n",
       "  </tbody>\n",
       "</table>\n",
       "</div>"
      ],
      "text/plain": [
       "                ID       DATE ELEMENT DATA_VALUE\n",
       "60868  USC00244558 2019-01-01    TAVG        -74\n",
       "84360  USW00003017 2019-01-01    TAVG       -155\n",
       "84614  USW00003170 2019-01-01    TAVG       -144\n",
       "84748  USW00003810 2019-01-01    TAVG        154\n",
       "84771  USW00003812 2019-01-01    TAVG        145"
      ]
     },
     "execution_count": 7,
     "metadata": {},
     "output_type": "execute_result"
    }
   ],
   "source": [
    "ghcn.head()"
   ]
  },
  {
   "cell_type": "markdown",
   "metadata": {},
   "source": [
    "# MOS"
   ]
  },
  {
   "cell_type": "code",
   "execution_count": 8,
   "metadata": {},
   "outputs": [],
   "source": [
    "file_list = list(Path(f'mos{YEAR}').iterdir())"
   ]
  },
  {
   "cell_type": "code",
   "execution_count": 9,
   "metadata": {},
   "outputs": [
    {
     "name": "stderr",
     "output_type": "stream",
     "text": [
      "<ipython-input-9-064848d0325b>:18: SettingWithCopyWarning: \n",
      "A value is trying to be set on a copy of a slice from a DataFrame.\n",
      "Try using .loc[row_indexer,col_indexer] = value instead\n",
      "\n",
      "See the caveats in the documentation: https://pandas.pydata.org/pandas-docs/stable/user_guide/indexing.html#returning-a-view-versus-a-copy\n",
      "  mos_tables[col_name] = mos_table['TMP']\n"
     ]
    }
   ],
   "source": [
    "mos_tables = pd.DataFrame()\n",
    "for f in sorted(file_list):\n",
    "    mos = pd.read_csv(f)[['station', 'runtime','TMP', 'forecast']].drop_duplicates()\n",
    "    #somehow there's a row where the header names got repeated\n",
    "    mos.drop(mos[mos['station'].str.match('station')].index, inplace=True)\n",
    "    #filter & convert\n",
    "    days, _, hours = mos['forecast'][0].split()\n",
    "    col_name = f'TMP_{days}:{hours.split(\":\")[0]}'\n",
    "    mosc = mos[['station', 'TMP']].astype({'TMP':float})\n",
    "    mosc['runtime'] = pd.to_datetime(mos['runtime'])\n",
    "    mos_table = mosc.groupby(['station', pd.Grouper(freq='D', key='runtime')]).mean().reset_index()\n",
    "    mos_table['date'] = mos_table['runtime'].dt.date\n",
    "    if len(mos_tables) == 0:\n",
    "        mos_tables = mos_table[['station','date']]\n",
    "    else:\n",
    "        if not(mos_tables['station'].eq(mos_table['station']).all() or mos_tables['date'].eq(mos_table['date']).all()):\n",
    "            continue\n",
    "    mos_tables[col_name] = mos_table['TMP']"
   ]
  },
  {
   "cell_type": "code",
   "execution_count": 10,
   "metadata": {},
   "outputs": [
    {
     "data": {
      "text/plain": [
       "Index(['station', 'date', 'TMP_0:06', 'TMP_0:09', 'TMP_0:12', 'TMP_0:15',\n",
       "       'TMP_0:18', 'TMP_0:21', 'TMP_1:00', 'TMP_1:03', 'TMP_1:06', 'TMP_1:09',\n",
       "       'TMP_1:12', 'TMP_1:15', 'TMP_1:18', 'TMP_1:21', 'TMP_2:00', 'TMP_2:03',\n",
       "       'TMP_2:06', 'TMP_2:09', 'TMP_2:12', 'TMP_2:18', 'TMP_3:00'],\n",
       "      dtype='object')"
      ]
     },
     "execution_count": 10,
     "metadata": {},
     "output_type": "execute_result"
    }
   ],
   "source": [
    "mos_tables.columns"
   ]
  },
  {
   "cell_type": "code",
   "execution_count": 11,
   "metadata": {},
   "outputs": [
    {
     "data": {
      "text/plain": [
       "ID         object\n",
       "station    object\n",
       "dtype: object"
      ]
     },
     "execution_count": 11,
     "metadata": {},
     "output_type": "execute_result"
    }
   ],
   "source": [
    "slook = slookup.rename(columns={'Station':'station'})[['ID', 'station']]\n",
    "slook.dtypes"
   ]
  },
  {
   "cell_type": "code",
   "execution_count": 12,
   "metadata": {},
   "outputs": [
    {
     "name": "stdout",
     "output_type": "stream",
     "text": [
      "<class 'pandas.core.frame.DataFrame'>\n",
      "RangeIndex: 206955 entries, 0 to 206954\n",
      "Data columns (total 23 columns):\n",
      " #   Column    Non-Null Count   Dtype  \n",
      "---  ------    --------------   -----  \n",
      " 0   station   206955 non-null  object \n",
      " 1   date      206955 non-null  object \n",
      " 2   TMP_0:06  206955 non-null  float64\n",
      " 3   TMP_0:09  206955 non-null  float64\n",
      " 4   TMP_0:12  206955 non-null  float64\n",
      " 5   TMP_0:15  206955 non-null  float64\n",
      " 6   TMP_0:18  206955 non-null  float64\n",
      " 7   TMP_0:21  206955 non-null  float64\n",
      " 8   TMP_1:00  206955 non-null  float64\n",
      " 9   TMP_1:03  206955 non-null  float64\n",
      " 10  TMP_1:06  206955 non-null  float64\n",
      " 11  TMP_1:09  206955 non-null  float64\n",
      " 12  TMP_1:12  206955 non-null  float64\n",
      " 13  TMP_1:15  206955 non-null  float64\n",
      " 14  TMP_1:18  206955 non-null  float64\n",
      " 15  TMP_1:21  206955 non-null  float64\n",
      " 16  TMP_2:00  206955 non-null  float64\n",
      " 17  TMP_2:03  206955 non-null  float64\n",
      " 18  TMP_2:06  206955 non-null  float64\n",
      " 19  TMP_2:09  206955 non-null  float64\n",
      " 20  TMP_2:12  206955 non-null  float64\n",
      " 21  TMP_2:18  206955 non-null  float64\n",
      " 22  TMP_3:00  206955 non-null  float64\n",
      "dtypes: float64(21), object(2)\n",
      "memory usage: 36.3+ MB\n"
     ]
    }
   ],
   "source": [
    "mos_tables.info()"
   ]
  },
  {
   "cell_type": "code",
   "execution_count": 13,
   "metadata": {},
   "outputs": [],
   "source": [
    "moswn = pd.merge(mos_tables, slook, how='right', on='station')"
   ]
  },
  {
   "cell_type": "code",
   "execution_count": 14,
   "metadata": {},
   "outputs": [
    {
     "data": {
      "text/html": [
       "<div>\n",
       "<style scoped>\n",
       "    .dataframe tbody tr th:only-of-type {\n",
       "        vertical-align: middle;\n",
       "    }\n",
       "\n",
       "    .dataframe tbody tr th {\n",
       "        vertical-align: top;\n",
       "    }\n",
       "\n",
       "    .dataframe thead th {\n",
       "        text-align: right;\n",
       "    }\n",
       "</style>\n",
       "<table border=\"1\" class=\"dataframe\">\n",
       "  <thead>\n",
       "    <tr style=\"text-align: right;\">\n",
       "      <th></th>\n",
       "      <th>station</th>\n",
       "      <th>date</th>\n",
       "      <th>TMP_0:06</th>\n",
       "      <th>TMP_0:09</th>\n",
       "      <th>TMP_0:12</th>\n",
       "      <th>TMP_0:15</th>\n",
       "      <th>TMP_0:18</th>\n",
       "      <th>TMP_0:21</th>\n",
       "      <th>TMP_1:00</th>\n",
       "      <th>TMP_1:03</th>\n",
       "      <th>...</th>\n",
       "      <th>TMP_1:18</th>\n",
       "      <th>TMP_1:21</th>\n",
       "      <th>TMP_2:00</th>\n",
       "      <th>TMP_2:03</th>\n",
       "      <th>TMP_2:06</th>\n",
       "      <th>TMP_2:09</th>\n",
       "      <th>TMP_2:12</th>\n",
       "      <th>TMP_2:18</th>\n",
       "      <th>TMP_3:00</th>\n",
       "      <th>ID</th>\n",
       "    </tr>\n",
       "  </thead>\n",
       "  <tbody>\n",
       "    <tr>\n",
       "      <th>0</th>\n",
       "      <td>K04W</td>\n",
       "      <td>2019-01-01</td>\n",
       "      <td>2.0</td>\n",
       "      <td>2.0</td>\n",
       "      <td>2.25</td>\n",
       "      <td>2.0</td>\n",
       "      <td>2.5</td>\n",
       "      <td>2.5</td>\n",
       "      <td>3.0</td>\n",
       "      <td>4.25</td>\n",
       "      <td>...</td>\n",
       "      <td>13.75</td>\n",
       "      <td>16.25</td>\n",
       "      <td>18.5</td>\n",
       "      <td>20.75</td>\n",
       "      <td>22.75</td>\n",
       "      <td>23.25</td>\n",
       "      <td>24.75</td>\n",
       "      <td>28.0</td>\n",
       "      <td>30.5</td>\n",
       "      <td>USW00054932</td>\n",
       "    </tr>\n",
       "  </tbody>\n",
       "</table>\n",
       "<p>1 rows × 24 columns</p>\n",
       "</div>"
      ],
      "text/plain": [
       "  station        date  TMP_0:06  TMP_0:09  TMP_0:12  TMP_0:15  TMP_0:18  \\\n",
       "0    K04W  2019-01-01       2.0       2.0      2.25       2.0       2.5   \n",
       "\n",
       "   TMP_0:21  TMP_1:00  TMP_1:03  ...  TMP_1:18  TMP_1:21  TMP_2:00  TMP_2:03  \\\n",
       "0       2.5       3.0      4.25  ...     13.75     16.25      18.5     20.75   \n",
       "\n",
       "   TMP_2:06  TMP_2:09  TMP_2:12  TMP_2:18  TMP_3:00           ID  \n",
       "0     22.75     23.25     24.75      28.0      30.5  USW00054932  \n",
       "\n",
       "[1 rows x 24 columns]"
      ]
     },
     "execution_count": 14,
     "metadata": {},
     "output_type": "execute_result"
    }
   ],
   "source": [
    "moswn.head(1)"
   ]
  },
  {
   "cell_type": "code",
   "execution_count": 15,
   "metadata": {},
   "outputs": [],
   "source": [
    "moswn['DATE'] = pd.to_datetime(moswn['date'])"
   ]
  },
  {
   "cell_type": "code",
   "execution_count": 16,
   "metadata": {},
   "outputs": [],
   "source": [
    "pairup = pd.merge(moswn, ghcn, how='inner', on=['ID', 'DATE']).rename(columns={'DATA_VALUE':'TMP'})"
   ]
  },
  {
   "cell_type": "code",
   "execution_count": 17,
   "metadata": {},
   "outputs": [
    {
     "data": {
      "text/plain": [
       "Index(['station', 'date', 'TMP_0:06', 'TMP_0:09', 'TMP_0:12', 'TMP_0:15',\n",
       "       'TMP_0:18', 'TMP_0:21', 'TMP_1:00', 'TMP_1:03', 'TMP_1:06', 'TMP_1:09',\n",
       "       'TMP_1:12', 'TMP_1:15', 'TMP_1:18', 'TMP_1:21', 'TMP_2:00', 'TMP_2:03',\n",
       "       'TMP_2:06', 'TMP_2:09', 'TMP_2:12', 'TMP_2:18', 'TMP_3:00', 'ID',\n",
       "       'DATE', 'ELEMENT', 'TMP'],\n",
       "      dtype='object')"
      ]
     },
     "execution_count": 17,
     "metadata": {},
     "output_type": "execute_result"
    }
   ],
   "source": [
    "pairup.columns"
   ]
  },
  {
   "cell_type": "code",
   "execution_count": 18,
   "metadata": {},
   "outputs": [],
   "source": [
    "temps = pairup[['station', 'ID', 'DATE','TMP','TMP_0:06', 'TMP_0:09', 'TMP_0:12', 'TMP_0:15',\n",
    "       'TMP_0:18', 'TMP_0:21', 'TMP_1:00', 'TMP_1:03', 'TMP_1:06', 'TMP_1:09',\n",
    "       'TMP_1:12', 'TMP_1:15', 'TMP_1:18', 'TMP_1:21', 'TMP_2:00', 'TMP_2:03',\n",
    "       'TMP_2:06', 'TMP_2:09', 'TMP_2:12', 'TMP_2:18', 'TMP_3:00']]"
   ]
  },
  {
   "cell_type": "code",
   "execution_count": 19,
   "metadata": {},
   "outputs": [],
   "source": [
    "temps.to_csv(f\"ALL_{YEAR}.csv\")"
   ]
  },
  {
   "cell_type": "code",
   "execution_count": null,
   "metadata": {},
   "outputs": [],
   "source": []
  }
 ],
 "metadata": {
  "kernelspec": {
   "display_name": "Python [conda env:cuny-summer-2020]",
   "language": "python",
   "name": "conda-env-cuny-summer-2020-py"
  },
  "language_info": {
   "codemirror_mode": {
    "name": "ipython",
    "version": 3
   },
   "file_extension": ".py",
   "mimetype": "text/x-python",
   "name": "python",
   "nbconvert_exporter": "python",
   "pygments_lexer": "ipython3",
   "version": "3.8.5"
  },
  "widgets": {
   "application/vnd.jupyter.widget-state+json": {
    "state": {},
    "version_major": 2,
    "version_minor": 0
   }
  }
 },
 "nbformat": 4,
 "nbformat_minor": 4
}
