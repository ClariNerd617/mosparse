{
 "cells": [
  {
   "cell_type": "markdown",
   "metadata": {},
   "source": [
    "# Parallel writes of fewer files to csvs \n",
    "\n",
    "because writing to the database is taking a very long time, we will instead use `dask` to read in and parse a couple of files in parallel. We will save out to spreadsheets since we are doing parallel writes. "
   ]
  },
  {
   "cell_type": "markdown",
   "metadata": {},
   "source": [
    "## local install\n",
    "Install mosparse library locally"
   ]
  },
  {
   "cell_type": "code",
   "execution_count": null,
   "metadata": {},
   "outputs": [],
   "source": [
    "%pip install -ve ../"
   ]
  },
  {
   "cell_type": "markdown",
   "metadata": {},
   "source": [
    "## Import"
   ]
  },
  {
   "cell_type": "code",
   "execution_count": 1,
   "metadata": {},
   "outputs": [],
   "source": [
    "%load_ext autoreload\n",
    "%autoreload 2"
   ]
  },
  {
   "cell_type": "markdown",
   "metadata": {},
   "source": [
    "The libraries that will be used for this example."
   ]
  },
  {
   "cell_type": "code",
   "execution_count": 9,
   "metadata": {},
   "outputs": [],
   "source": [
    "from pathlib import Path\n",
    "\n",
    "from tqdm.auto import tqdm\n",
    "\n",
    "import dask.bag as db\n",
    "from dask.diagnostics import ProgressBar\n",
    "\n",
    "import mosparse.mavreader as mpr\n",
    "import mosparse.mavparse as mpp\n",
    "\n",
    "import pandas as pd"
   ]
  },
  {
   "cell_type": "markdown",
   "metadata": {},
   "source": [
    "## Find the 2017 files\n",
    "Directions to get to the file you want to open."
   ]
  },
  {
   "cell_type": "code",
   "execution_count": 10,
   "metadata": {},
   "outputs": [],
   "source": [
    "mos_files = list(Path(\"downthemall\").iterdir())"
   ]
  },
  {
   "cell_type": "code",
   "execution_count": 11,
   "metadata": {},
   "outputs": [
    {
     "data": {
      "text/plain": [
       "48"
      ]
     },
     "execution_count": 11,
     "metadata": {},
     "output_type": "execute_result"
    }
   ],
   "source": [
    "len(mos_files)"
   ]
  },
  {
   "cell_type": "code",
   "execution_count": 12,
   "metadata": {},
   "outputs": [
    {
     "data": {
      "text/html": [
       "<div>\n",
       "<style scoped>\n",
       "    .dataframe tbody tr th:only-of-type {\n",
       "        vertical-align: middle;\n",
       "    }\n",
       "\n",
       "    .dataframe tbody tr th {\n",
       "        vertical-align: top;\n",
       "    }\n",
       "\n",
       "    .dataframe thead th {\n",
       "        text-align: right;\n",
       "    }\n",
       "</style>\n",
       "<table border=\"1\" class=\"dataframe\">\n",
       "  <thead>\n",
       "    <tr style=\"text-align: right;\">\n",
       "      <th></th>\n",
       "      <th>Unnamed: 0</th>\n",
       "      <th>ID</th>\n",
       "      <th>LATITUDE</th>\n",
       "      <th>LONGITUDE</th>\n",
       "      <th>Station</th>\n",
       "      <th>Latitude</th>\n",
       "      <th>Longitude</th>\n",
       "    </tr>\n",
       "  </thead>\n",
       "  <tbody>\n",
       "    <tr>\n",
       "      <th>0</th>\n",
       "      <td>0</td>\n",
       "      <td>USC00026180</td>\n",
       "      <td>36.9208</td>\n",
       "      <td>-111.4483</td>\n",
       "      <td>KPGA</td>\n",
       "      <td>36.9333</td>\n",
       "      <td>-111.4500</td>\n",
       "    </tr>\n",
       "    <tr>\n",
       "      <th>1</th>\n",
       "      <td>1</td>\n",
       "      <td>USW00003162</td>\n",
       "      <td>36.9261</td>\n",
       "      <td>-111.4478</td>\n",
       "      <td>KPGA</td>\n",
       "      <td>36.9333</td>\n",
       "      <td>-111.4500</td>\n",
       "    </tr>\n",
       "    <tr>\n",
       "      <th>2</th>\n",
       "      <td>2</td>\n",
       "      <td>USC00080211</td>\n",
       "      <td>29.7258</td>\n",
       "      <td>-85.0206</td>\n",
       "      <td>KAAF</td>\n",
       "      <td>29.7333</td>\n",
       "      <td>-85.0167</td>\n",
       "    </tr>\n",
       "    <tr>\n",
       "      <th>3</th>\n",
       "      <td>3</td>\n",
       "      <td>USW00012832</td>\n",
       "      <td>29.7333</td>\n",
       "      <td>-85.0333</td>\n",
       "      <td>KAAF</td>\n",
       "      <td>29.7333</td>\n",
       "      <td>-85.0167</td>\n",
       "    </tr>\n",
       "    <tr>\n",
       "      <th>4</th>\n",
       "      <td>4</td>\n",
       "      <td>USC00088782</td>\n",
       "      <td>27.7053</td>\n",
       "      <td>-82.4008</td>\n",
       "      <td>KMCF</td>\n",
       "      <td>27.8500</td>\n",
       "      <td>-82.5000</td>\n",
       "    </tr>\n",
       "  </tbody>\n",
       "</table>\n",
       "</div>"
      ],
      "text/plain": [
       "   Unnamed: 0           ID  LATITUDE  LONGITUDE Station  Latitude  Longitude\n",
       "0           0  USC00026180   36.9208  -111.4483    KPGA   36.9333  -111.4500\n",
       "1           1  USW00003162   36.9261  -111.4478    KPGA   36.9333  -111.4500\n",
       "2           2  USC00080211   29.7258   -85.0206    KAAF   29.7333   -85.0167\n",
       "3           3  USW00012832   29.7333   -85.0333    KAAF   29.7333   -85.0167\n",
       "4           4  USC00088782   27.7053   -82.4008    KMCF   27.8500   -82.5000"
      ]
     },
     "execution_count": 12,
     "metadata": {},
     "output_type": "execute_result"
    }
   ],
   "source": [
    "df = pd.read_csv(\"ghcn_mos_lookup.csv\")\n",
    "df.head()"
   ]
  },
  {
   "cell_type": "code",
   "execution_count": 13,
   "metadata": {},
   "outputs": [],
   "source": [
    "stations = df['Station'].unique()"
   ]
  },
  {
   "cell_type": "markdown",
   "metadata": {},
   "source": [
    "## convert the .gz file to a csv\n",
    "Extracts data from filepath, parses the file into a spreadsheet, saves out as a .csv"
   ]
  },
  {
   "cell_type": "code",
   "execution_count": 14,
   "metadata": {},
   "outputs": [],
   "source": [
    "def process_file(filepath):\n",
    "    with open(\"completed_files.txt\", 'a') as f:\n",
    "        with mpr.MavReader(filepath, stations=True) as station_generator:\n",
    "            [mpp.write_station(station, filename=f'{filepath.name}.csv', \n",
    "                               stations=stations, saveout=\"station_filter\") for \n",
    "                 station in station_generator if len(station)>0]\n",
    "            print(filepath.name, file=f)"
   ]
  },
  {
   "cell_type": "markdown",
   "metadata": {},
   "source": [
    "## concurrently process files\n",
    "apply the process_file function to multiple files in the mos_files list at the same time"
   ]
  },
  {
   "cell_type": "code",
   "execution_count": 15,
   "metadata": {},
   "outputs": [
    {
     "name": "stdout",
     "output_type": "stream",
     "text": [
      "[########################################] | 100% Completed |  2hr 52min 36.6s\n"
     ]
    }
   ],
   "source": [
    "pb = db.from_sequence(mos_files).map(process_file)\n",
    "with ProgressBar():\n",
    "    pb.compute()"
   ]
  },
  {
   "cell_type": "code",
   "execution_count": 19,
   "metadata": {},
   "outputs": [
    {
     "name": "stdout",
     "output_type": "stream",
     "text": [
      "{'station': 'NSTU', 'short_model': 'GFS', 'model': 'GFS MOS GUIDANCE', 'runtime': datetime.datetime(2019, 1, 1, 0, 0, tzinfo=tzutc())}\n"
     ]
    }
   ],
   "source": [
    "with mpr.MavReader(mos_files[0], stations=True) as station_generator:\n",
    "    next(station_generator)\n",
    "    for station in station_generator:\n",
    "        print(mpp.get_header(station[0]))\n",
    "        break"
   ]
  },
  {
   "cell_type": "code",
   "execution_count": null,
   "metadata": {},
   "outputs": [],
   "source": []
  }
 ],
 "metadata": {
  "kernelspec": {
   "display_name": "Python 3",
   "language": "python",
   "name": "python3"
  },
  "language_info": {
   "codemirror_mode": {
    "name": "ipython",
    "version": 3
   },
   "file_extension": ".py",
   "mimetype": "text/x-python",
   "name": "python",
   "nbconvert_exporter": "python",
   "pygments_lexer": "ipython3",
   "version": "3.8.5"
  },
  "widgets": {
   "application/vnd.jupyter.widget-state+json": {
    "state": {},
    "version_major": 2,
    "version_minor": 0
   }
  }
 },
 "nbformat": 4,
 "nbformat_minor": 4
}
