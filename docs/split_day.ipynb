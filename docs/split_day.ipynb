{
 "cells": [
  {
   "cell_type": "code",
   "execution_count": 2,
   "metadata": {},
   "outputs": [],
   "source": [
    "from pathlib import Path  \n",
    "\n",
    "from tqdm.auto import tqdm\n",
    "\n",
    "import pandas as pd\n",
    "import dask.dataframe as dd\n",
    "from dask.diagnostics import ProgressBar"
   ]
  },
  {
   "cell_type": "code",
   "execution_count": 3,
   "metadata": {},
   "outputs": [],
   "source": [
    "stations = pd.read_csv(\"ghcn_mos_lookup.csv\")"
   ]
  },
  {
   "cell_type": "code",
   "execution_count": 4,
   "metadata": {},
   "outputs": [
    {
     "data": {
      "text/html": [
       "<div>\n",
       "<style scoped>\n",
       "    .dataframe tbody tr th:only-of-type {\n",
       "        vertical-align: middle;\n",
       "    }\n",
       "\n",
       "    .dataframe tbody tr th {\n",
       "        vertical-align: top;\n",
       "    }\n",
       "\n",
       "    .dataframe thead th {\n",
       "        text-align: right;\n",
       "    }\n",
       "</style>\n",
       "<table border=\"1\" class=\"dataframe\">\n",
       "  <thead>\n",
       "    <tr style=\"text-align: right;\">\n",
       "      <th></th>\n",
       "      <th>Unnamed: 0</th>\n",
       "      <th>ID</th>\n",
       "      <th>LATITUDE</th>\n",
       "      <th>LONGITUDE</th>\n",
       "      <th>Station</th>\n",
       "      <th>Latitude</th>\n",
       "      <th>Longitude</th>\n",
       "    </tr>\n",
       "  </thead>\n",
       "  <tbody>\n",
       "    <tr>\n",
       "      <th>0</th>\n",
       "      <td>0</td>\n",
       "      <td>USC00026180</td>\n",
       "      <td>36.9208</td>\n",
       "      <td>-111.4483</td>\n",
       "      <td>KPGA</td>\n",
       "      <td>36.9333</td>\n",
       "      <td>-111.4500</td>\n",
       "    </tr>\n",
       "    <tr>\n",
       "      <th>1</th>\n",
       "      <td>1</td>\n",
       "      <td>USW00003162</td>\n",
       "      <td>36.9261</td>\n",
       "      <td>-111.4478</td>\n",
       "      <td>KPGA</td>\n",
       "      <td>36.9333</td>\n",
       "      <td>-111.4500</td>\n",
       "    </tr>\n",
       "    <tr>\n",
       "      <th>2</th>\n",
       "      <td>2</td>\n",
       "      <td>USC00080211</td>\n",
       "      <td>29.7258</td>\n",
       "      <td>-85.0206</td>\n",
       "      <td>KAAF</td>\n",
       "      <td>29.7333</td>\n",
       "      <td>-85.0167</td>\n",
       "    </tr>\n",
       "    <tr>\n",
       "      <th>3</th>\n",
       "      <td>3</td>\n",
       "      <td>USW00012832</td>\n",
       "      <td>29.7333</td>\n",
       "      <td>-85.0333</td>\n",
       "      <td>KAAF</td>\n",
       "      <td>29.7333</td>\n",
       "      <td>-85.0167</td>\n",
       "    </tr>\n",
       "    <tr>\n",
       "      <th>4</th>\n",
       "      <td>4</td>\n",
       "      <td>USC00088782</td>\n",
       "      <td>27.7053</td>\n",
       "      <td>-82.4008</td>\n",
       "      <td>KMCF</td>\n",
       "      <td>27.8500</td>\n",
       "      <td>-82.5000</td>\n",
       "    </tr>\n",
       "  </tbody>\n",
       "</table>\n",
       "</div>"
      ],
      "text/plain": [
       "   Unnamed: 0           ID  LATITUDE  LONGITUDE Station  Latitude  Longitude\n",
       "0           0  USC00026180   36.9208  -111.4483    KPGA   36.9333  -111.4500\n",
       "1           1  USW00003162   36.9261  -111.4478    KPGA   36.9333  -111.4500\n",
       "2           2  USC00080211   29.7258   -85.0206    KAAF   29.7333   -85.0167\n",
       "3           3  USW00012832   29.7333   -85.0333    KAAF   29.7333   -85.0167\n",
       "4           4  USC00088782   27.7053   -82.4008    KMCF   27.8500   -82.5000"
      ]
     },
     "execution_count": 4,
     "metadata": {},
     "output_type": "execute_result"
    }
   ],
   "source": [
    "stations.head()"
   ]
  },
  {
   "cell_type": "code",
   "execution_count": 21,
   "metadata": {},
   "outputs": [],
   "source": [
    "YEAR = 2018"
   ]
  },
  {
   "cell_type": "code",
   "execution_count": 23,
   "metadata": {},
   "outputs": [
    {
     "name": "stdout",
     "output_type": "stream",
     "text": [
      "<class 'pandas.core.frame.DataFrame'>\n",
      "RangeIndex: 1269450 entries, 0 to 1269449\n",
      "Data columns (total 25 columns):\n",
      " #   Column       Non-Null Count    Dtype              \n",
      "---  ------       --------------    -----              \n",
      " 0   station      1269450 non-null  object             \n",
      " 1   short_model  1269450 non-null  object             \n",
      " 2   model        1269450 non-null  object             \n",
      " 3   runtime      1269450 non-null  datetime64[ns, UTC]\n",
      " 4   ftime        1269450 non-null  datetime64[ns]     \n",
      " 5   N/X          0 non-null        float64            \n",
      " 6   X/N          298950 non-null   float64            \n",
      " 7   TMP          1263150 non-null  float64            \n",
      " 8   DPT          1262520 non-null  float64            \n",
      " 9   WDR          1260630 non-null  float64            \n",
      " 10  WSP          1260630 non-null  float64            \n",
      " 11  CIG          1266300 non-null  float64            \n",
      " 12  VIS          1227870 non-null  float64            \n",
      " 13  P06          664620 non-null   float64            \n",
      " 14  P12          302100 non-null   float64            \n",
      " 15  POS          0 non-null        float64            \n",
      " 16  POZ          0 non-null        float64            \n",
      " 17  SNW          0 non-null        float64            \n",
      " 18  CLD          1266300 non-null  object             \n",
      " 19  OBV          1265670 non-null  object             \n",
      " 20  TYP          0 non-null        float64            \n",
      " 21  Q06          664620 non-null   float64            \n",
      " 22  Q12          302100 non-null   float64            \n",
      " 23  T06          595800 non-null   object             \n",
      " 24  T12          297900 non-null   object             \n",
      "dtypes: datetime64[ns, UTC](1), datetime64[ns](1), float64(16), object(7)\n",
      "memory usage: 242.1+ MB\n"
     ]
    }
   ],
   "source": [
    "columns = ['station', 'short_model', 'model', 'runtime', 'ftime', 'N/X', 'X/N',\n",
    "           'TMP', 'DPT', 'WDR', 'WSP', 'CIG', 'VIS', 'P06', 'P12', 'POS', 'POZ',\n",
    "           'SNW', 'CLD', 'OBV', 'TYP', 'Q06', 'Q12', 'T06', 'T12']\n",
    "colfilt = ['station', 'runtime', 'ftime','TMP']\n",
    "for f in Path('station_filter').glob(f'mav{YEAR}*.csv'):\n",
    "    df = pd.read_csv(f, names = columns, parse_dates=['runtime', 'ftime'])\n",
    "    df.info()\n",
    "    break\n",
    "    mdf = df[colfilt][df['station'].isin(stations['Station'])]\n",
    "    mdf['forecast'] = (mdf['ftime'].dt.tz_localize('utc') - mdf['runtime'])\n",
    "    for td, tdf in mdf.groupby('forecast'):\n",
    "        tds = str(td).replace(\" \", \"_\")\n",
    "        fout = f'MOS_{YEAR}_{tds}.csv'\n",
    "        mode = 'a' if Path(fout).exists() else 'w'\n",
    "        tdf.to_csv(fout, mode=mode)\n",
    "    "
   ]
  },
  {
   "cell_type": "code",
   "execution_count": null,
   "metadata": {},
   "outputs": [],
   "source": []
  }
 ],
 "metadata": {
  "kernelspec": {
   "display_name": "Python 3",
   "language": "python",
   "name": "python3"
  },
  "language_info": {
   "codemirror_mode": {
    "name": "ipython",
    "version": 3
   },
   "file_extension": ".py",
   "mimetype": "text/x-python",
   "name": "python",
   "nbconvert_exporter": "python",
   "pygments_lexer": "ipython3",
   "version": "3.8.5"
  },
  "widgets": {
   "application/vnd.jupyter.widget-state+json": {
    "state": {},
    "version_major": 2,
    "version_minor": 0
   }
  }
 },
 "nbformat": 4,
 "nbformat_minor": 4
}
