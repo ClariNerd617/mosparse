{
 "cells": [
  {
   "cell_type": "code",
   "execution_count": 1,
   "metadata": {},
   "outputs": [],
   "source": [
    "import urllib \n",
    "\n",
    "import pandas as pd\n",
    "import numpy as np \n",
    "\n",
    "import dask.dataframe as dd\n",
    "import dask.bag as db\n",
    "import dask.diagnostics as dg"
   ]
  },
  {
   "cell_type": "markdown",
   "metadata": {},
   "source": [
    "## figure out which stations we need"
   ]
  },
  {
   "cell_type": "code",
   "execution_count": 2,
   "metadata": {},
   "outputs": [],
   "source": [
    "# {column name:extents of the fixed-width fields}\n",
    "columns = {\"ID\": (0,11), \"LATITUDE\": (12, 20), \"LONGITUDE\": (21, 30), \"ELEVATION\": (31, 37),\"STATE\": (38, 40),\n",
    "           \"NAME\": (41, 71), \"GSN FLAG\": (72, 75), \"HCN/CRN FLAG\": (76, 79),\"WMO ID\": (80, 85)}"
   ]
  },
  {
   "cell_type": "code",
   "execution_count": 3,
   "metadata": {},
   "outputs": [],
   "source": [
    "df = pd.read_fwf(\"http://noaa-ghcn-pds.s3.amazonaws.com/ghcnd-stations.txt\", \n",
    "                    colspecs=list(columns.values()), names=list(columns.keys()),\n",
    "                    dtype={'ID': str, 'LATITUDE':float, 'LONGITUDE':float, \n",
    "                           'ELEVATION':float, 'STATE':str, 'NAME':str, \n",
    "                           'GSN FLAG': str, 'HCN/CRN FLAG': str, 'WMO ID':str})"
   ]
  },
  {
   "cell_type": "markdown",
   "metadata": {},
   "source": [
    "In our documentation sheet https://docs.opendata.aws/noaa-ghcn-pds/readme.html\n",
    "ID = the station identification code.\n",
    "* The first two characters denote the FIPS country code\n",
    "So we're going to use that to get all the US Station IDs, but first we're going to check what it returns, which \n",
    "is states + DC + PR + VI"
   ]
  },
  {
   "cell_type": "code",
   "execution_count": 4,
   "metadata": {},
   "outputs": [
    {
     "data": {
      "text/plain": [
       "array(['SD', 'CO', 'NE', 'AK', 'AL', 'AR', 'AZ', 'CA', 'TN', 'CT', 'DC',\n",
       "       'DE', 'FL', 'GA', 'HI', 'IA', 'ID', 'IL', 'IN', 'KS', 'KY', 'LA',\n",
       "       'MA', 'MD', 'ME', 'MI', 'MN', 'MO', 'MS', 'MT', 'NC', 'ND', 'NH',\n",
       "       'NJ', 'NM', 'NV', 'NY', 'OH', 'OK', 'OR', 'PA', 'RI', 'SC', 'TX',\n",
       "       'UT', 'VA', 'VT', 'WA', 'WI', 'WV', 'WY', 'PI', 'UM'], dtype=object)"
      ]
     },
     "execution_count": 4,
     "metadata": {},
     "output_type": "execute_result"
    }
   ],
   "source": [
    "df[df['ID'].str.startswith('US')]['STATE'].unique()"
   ]
  },
  {
   "cell_type": "code",
   "execution_count": 5,
   "metadata": {},
   "outputs": [],
   "source": [
    "# So lets get all the US country codes where the STATE is not in ['PR', 'VI'] 'cause it's easier to map\n",
    "# Also we need a WMO ID 'cause thats how we cross reference against mos\n",
    "# this is just a check that our filter is correct"
   ]
  },
  {
   "cell_type": "code",
   "execution_count": 6,
   "metadata": {},
   "outputs": [
    {
     "data": {
      "text/plain": [
       "array(['AZ', 'FL', 'GA', 'IL', 'IA', 'ME', 'MD', 'MA', 'MI', 'MN', 'MO',\n",
       "       'MT', 'NH', 'SD', 'TX', 'UT', 'VT', 'WA', 'WI', 'AK', 'HI', 'CA',\n",
       "       'CO', 'NM', 'OK', 'KS', 'NV', 'SC', 'WV', 'VA', 'NC', 'PA', 'KY',\n",
       "       'TN', 'AL', 'LA', 'MS', 'AR', 'OR', 'ID', 'WY', 'NY', 'DE', 'IN',\n",
       "       'OH', 'NJ', 'CT', 'RI', 'ND', 'NE'], dtype=object)"
      ]
     },
     "execution_count": 6,
     "metadata": {},
     "output_type": "execute_result"
    }
   ],
   "source": [
    "mask = (df['ID'].str.startswith('US') & ~ df['STATE'].isin(['PR', 'VI']) & ~df['WMO ID'].isnull())\n",
    "df[mask]['STATE'].unique()"
   ]
  },
  {
   "cell_type": "code",
   "execution_count": 7,
   "metadata": {},
   "outputs": [
    {
     "data": {
      "text/html": [
       "<div>\n",
       "<style scoped>\n",
       "    .dataframe tbody tr th:only-of-type {\n",
       "        vertical-align: middle;\n",
       "    }\n",
       "\n",
       "    .dataframe tbody tr th {\n",
       "        vertical-align: top;\n",
       "    }\n",
       "\n",
       "    .dataframe thead th {\n",
       "        text-align: right;\n",
       "    }\n",
       "</style>\n",
       "<table border=\"1\" class=\"dataframe\">\n",
       "  <thead>\n",
       "    <tr style=\"text-align: right;\">\n",
       "      <th></th>\n",
       "      <th>ID</th>\n",
       "      <th>LATITUDE</th>\n",
       "      <th>LONGITUDE</th>\n",
       "      <th>ELEVATION</th>\n",
       "      <th>STATE</th>\n",
       "      <th>NAME</th>\n",
       "      <th>GSN FLAG</th>\n",
       "      <th>HCN/CRN FLAG</th>\n",
       "      <th>WMO ID</th>\n",
       "    </tr>\n",
       "  </thead>\n",
       "  <tbody>\n",
       "    <tr>\n",
       "      <th>88311</th>\n",
       "      <td>USC00026180</td>\n",
       "      <td>36.9208</td>\n",
       "      <td>-111.4483</td>\n",
       "      <td>1301.5</td>\n",
       "      <td>AZ</td>\n",
       "      <td>PAGE</td>\n",
       "      <td>NaN</td>\n",
       "      <td>NaN</td>\n",
       "      <td>72378</td>\n",
       "    </tr>\n",
       "    <tr>\n",
       "      <th>90722</th>\n",
       "      <td>USC00080211</td>\n",
       "      <td>29.7258</td>\n",
       "      <td>-85.0206</td>\n",
       "      <td>6.1</td>\n",
       "      <td>FL</td>\n",
       "      <td>APALACHICOLA  AIRPORT</td>\n",
       "      <td>NaN</td>\n",
       "      <td>HCN</td>\n",
       "      <td>72220</td>\n",
       "    </tr>\n",
       "    <tr>\n",
       "      <th>91014</th>\n",
       "      <td>USC00088782</td>\n",
       "      <td>27.7053</td>\n",
       "      <td>-82.4008</td>\n",
       "      <td>12.2</td>\n",
       "      <td>FL</td>\n",
       "      <td>TAMPA BAY AREA WFO</td>\n",
       "      <td>NaN</td>\n",
       "      <td>NaN</td>\n",
       "      <td>72210</td>\n",
       "    </tr>\n",
       "    <tr>\n",
       "      <th>91103</th>\n",
       "      <td>USC00091544</td>\n",
       "      <td>31.8667</td>\n",
       "      <td>-81.6167</td>\n",
       "      <td>27.1</td>\n",
       "      <td>GA</td>\n",
       "      <td>FT STEWART</td>\n",
       "      <td>NaN</td>\n",
       "      <td>NaN</td>\n",
       "      <td>74780</td>\n",
       "    </tr>\n",
       "    <tr>\n",
       "      <th>91191</th>\n",
       "      <td>USC00093538</td>\n",
       "      <td>31.8694</td>\n",
       "      <td>-81.6236</td>\n",
       "      <td>28.0</td>\n",
       "      <td>GA</td>\n",
       "      <td>FT STEWART</td>\n",
       "      <td>NaN</td>\n",
       "      <td>NaN</td>\n",
       "      <td>74780</td>\n",
       "    </tr>\n",
       "    <tr>\n",
       "      <th>...</th>\n",
       "      <td>...</td>\n",
       "      <td>...</td>\n",
       "      <td>...</td>\n",
       "      <td>...</td>\n",
       "      <td>...</td>\n",
       "      <td>...</td>\n",
       "      <td>...</td>\n",
       "      <td>...</td>\n",
       "      <td>...</td>\n",
       "    </tr>\n",
       "    <tr>\n",
       "      <th>114296</th>\n",
       "      <td>USW00094996</td>\n",
       "      <td>40.6953</td>\n",
       "      <td>-96.8542</td>\n",
       "      <td>418.2</td>\n",
       "      <td>NE</td>\n",
       "      <td>LINCOLN 11 SW</td>\n",
       "      <td>NaN</td>\n",
       "      <td>CRN</td>\n",
       "      <td>74441</td>\n",
       "    </tr>\n",
       "    <tr>\n",
       "      <th>114297</th>\n",
       "      <td>USW00096404</td>\n",
       "      <td>62.7369</td>\n",
       "      <td>-141.2083</td>\n",
       "      <td>609.6</td>\n",
       "      <td>AK</td>\n",
       "      <td>TOK 70 SE</td>\n",
       "      <td>NaN</td>\n",
       "      <td>CRN</td>\n",
       "      <td>70292</td>\n",
       "    </tr>\n",
       "    <tr>\n",
       "      <th>114299</th>\n",
       "      <td>USW00096406</td>\n",
       "      <td>64.5014</td>\n",
       "      <td>-154.1297</td>\n",
       "      <td>78.9</td>\n",
       "      <td>AK</td>\n",
       "      <td>RUBY 44 ESE</td>\n",
       "      <td>NaN</td>\n",
       "      <td>CRN</td>\n",
       "      <td>70224</td>\n",
       "    </tr>\n",
       "    <tr>\n",
       "      <th>114300</th>\n",
       "      <td>USW00096407</td>\n",
       "      <td>66.5620</td>\n",
       "      <td>-159.0036</td>\n",
       "      <td>6.7</td>\n",
       "      <td>AK</td>\n",
       "      <td>SELAWIK 28 E</td>\n",
       "      <td>NaN</td>\n",
       "      <td>CRN</td>\n",
       "      <td>70170</td>\n",
       "    </tr>\n",
       "    <tr>\n",
       "      <th>114301</th>\n",
       "      <td>USW00096408</td>\n",
       "      <td>63.4519</td>\n",
       "      <td>-150.8747</td>\n",
       "      <td>678.2</td>\n",
       "      <td>AK</td>\n",
       "      <td>DENALI 27 N</td>\n",
       "      <td>NaN</td>\n",
       "      <td>CRN</td>\n",
       "      <td>70244</td>\n",
       "    </tr>\n",
       "  </tbody>\n",
       "</table>\n",
       "<p>666 rows × 9 columns</p>\n",
       "</div>"
      ],
      "text/plain": [
       "                 ID  LATITUDE  LONGITUDE  ELEVATION STATE  \\\n",
       "88311   USC00026180   36.9208  -111.4483     1301.5    AZ   \n",
       "90722   USC00080211   29.7258   -85.0206        6.1    FL   \n",
       "91014   USC00088782   27.7053   -82.4008       12.2    FL   \n",
       "91103   USC00091544   31.8667   -81.6167       27.1    GA   \n",
       "91191   USC00093538   31.8694   -81.6236       28.0    GA   \n",
       "...             ...       ...        ...        ...   ...   \n",
       "114296  USW00094996   40.6953   -96.8542      418.2    NE   \n",
       "114297  USW00096404   62.7369  -141.2083      609.6    AK   \n",
       "114299  USW00096406   64.5014  -154.1297       78.9    AK   \n",
       "114300  USW00096407   66.5620  -159.0036        6.7    AK   \n",
       "114301  USW00096408   63.4519  -150.8747      678.2    AK   \n",
       "\n",
       "                         NAME GSN FLAG HCN/CRN FLAG WMO ID  \n",
       "88311                    PAGE      NaN          NaN  72378  \n",
       "90722   APALACHICOLA  AIRPORT      NaN          HCN  72220  \n",
       "91014      TAMPA BAY AREA WFO      NaN          NaN  72210  \n",
       "91103              FT STEWART      NaN          NaN  74780  \n",
       "91191              FT STEWART      NaN          NaN  74780  \n",
       "...                       ...      ...          ...    ...  \n",
       "114296          LINCOLN 11 SW      NaN          CRN  74441  \n",
       "114297              TOK 70 SE      NaN          CRN  70292  \n",
       "114299            RUBY 44 ESE      NaN          CRN  70224  \n",
       "114300           SELAWIK 28 E      NaN          CRN  70170  \n",
       "114301            DENALI 27 N      NaN          CRN  70244  \n",
       "\n",
       "[666 rows x 9 columns]"
      ]
     },
     "execution_count": 7,
     "metadata": {},
     "output_type": "execute_result"
    }
   ],
   "source": [
    "df[mask]"
   ]
  },
  {
   "cell_type": "code",
   "execution_count": 8,
   "metadata": {},
   "outputs": [
    {
     "data": {
      "text/plain": [
       "666"
      ]
     },
     "execution_count": 8,
     "metadata": {},
     "output_type": "execute_result"
    }
   ],
   "source": [
    "# we're getting the list of US unique stations\n",
    "us_stations = df[mask]\n",
    "len(us_stations['ID'])"
   ]
  },
  {
   "cell_type": "code",
   "execution_count": 9,
   "metadata": {},
   "outputs": [
    {
     "data": {
      "text/html": [
       "<div>\n",
       "<style scoped>\n",
       "    .dataframe tbody tr th:only-of-type {\n",
       "        vertical-align: middle;\n",
       "    }\n",
       "\n",
       "    .dataframe tbody tr th {\n",
       "        vertical-align: top;\n",
       "    }\n",
       "\n",
       "    .dataframe thead th {\n",
       "        text-align: right;\n",
       "    }\n",
       "</style>\n",
       "<table border=\"1\" class=\"dataframe\">\n",
       "  <thead>\n",
       "    <tr style=\"text-align: right;\">\n",
       "      <th></th>\n",
       "      <th>ID</th>\n",
       "      <th>LATITUDE</th>\n",
       "      <th>LONGITUDE</th>\n",
       "      <th>ELEVATION</th>\n",
       "      <th>STATE</th>\n",
       "      <th>NAME</th>\n",
       "      <th>GSN FLAG</th>\n",
       "      <th>HCN/CRN FLAG</th>\n",
       "      <th>WMO ID</th>\n",
       "    </tr>\n",
       "  </thead>\n",
       "  <tbody>\n",
       "    <tr>\n",
       "      <th>88311</th>\n",
       "      <td>USC00026180</td>\n",
       "      <td>36.9208</td>\n",
       "      <td>-111.4483</td>\n",
       "      <td>1301.5</td>\n",
       "      <td>AZ</td>\n",
       "      <td>PAGE</td>\n",
       "      <td>NaN</td>\n",
       "      <td>NaN</td>\n",
       "      <td>72378</td>\n",
       "    </tr>\n",
       "    <tr>\n",
       "      <th>90722</th>\n",
       "      <td>USC00080211</td>\n",
       "      <td>29.7258</td>\n",
       "      <td>-85.0206</td>\n",
       "      <td>6.1</td>\n",
       "      <td>FL</td>\n",
       "      <td>APALACHICOLA  AIRPORT</td>\n",
       "      <td>NaN</td>\n",
       "      <td>HCN</td>\n",
       "      <td>72220</td>\n",
       "    </tr>\n",
       "    <tr>\n",
       "      <th>91014</th>\n",
       "      <td>USC00088782</td>\n",
       "      <td>27.7053</td>\n",
       "      <td>-82.4008</td>\n",
       "      <td>12.2</td>\n",
       "      <td>FL</td>\n",
       "      <td>TAMPA BAY AREA WFO</td>\n",
       "      <td>NaN</td>\n",
       "      <td>NaN</td>\n",
       "      <td>72210</td>\n",
       "    </tr>\n",
       "    <tr>\n",
       "      <th>91103</th>\n",
       "      <td>USC00091544</td>\n",
       "      <td>31.8667</td>\n",
       "      <td>-81.6167</td>\n",
       "      <td>27.1</td>\n",
       "      <td>GA</td>\n",
       "      <td>FT STEWART</td>\n",
       "      <td>NaN</td>\n",
       "      <td>NaN</td>\n",
       "      <td>74780</td>\n",
       "    </tr>\n",
       "    <tr>\n",
       "      <th>91191</th>\n",
       "      <td>USC00093538</td>\n",
       "      <td>31.8694</td>\n",
       "      <td>-81.6236</td>\n",
       "      <td>28.0</td>\n",
       "      <td>GA</td>\n",
       "      <td>FT STEWART</td>\n",
       "      <td>NaN</td>\n",
       "      <td>NaN</td>\n",
       "      <td>74780</td>\n",
       "    </tr>\n",
       "  </tbody>\n",
       "</table>\n",
       "</div>"
      ],
      "text/plain": [
       "                ID  LATITUDE  LONGITUDE  ELEVATION STATE  \\\n",
       "88311  USC00026180   36.9208  -111.4483     1301.5    AZ   \n",
       "90722  USC00080211   29.7258   -85.0206        6.1    FL   \n",
       "91014  USC00088782   27.7053   -82.4008       12.2    FL   \n",
       "91103  USC00091544   31.8667   -81.6167       27.1    GA   \n",
       "91191  USC00093538   31.8694   -81.6236       28.0    GA   \n",
       "\n",
       "                        NAME GSN FLAG HCN/CRN FLAG WMO ID  \n",
       "88311                   PAGE      NaN          NaN  72378  \n",
       "90722  APALACHICOLA  AIRPORT      NaN          HCN  72220  \n",
       "91014     TAMPA BAY AREA WFO      NaN          NaN  72210  \n",
       "91103             FT STEWART      NaN          NaN  74780  \n",
       "91191             FT STEWART      NaN          NaN  74780  "
      ]
     },
     "execution_count": 9,
     "metadata": {},
     "output_type": "execute_result"
    }
   ],
   "source": [
    "us_stations.head()"
   ]
  },
  {
   "cell_type": "markdown",
   "metadata": {},
   "source": [
    "### Lets sample that!\n",
    "Do we really need all our stations?"
   ]
  },
  {
   "cell_type": "code",
   "execution_count": 10,
   "metadata": {},
   "outputs": [],
   "source": [
    "import geopandas as gpd"
   ]
  },
  {
   "cell_type": "code",
   "execution_count": 11,
   "metadata": {},
   "outputs": [],
   "source": [
    "gdf = gpd.GeoDataFrame(us_stations, geometry=gpd.points_from_xy(us_stations['LONGITUDE'], us_stations['LATITUDE']))"
   ]
  },
  {
   "cell_type": "code",
   "execution_count": 12,
   "metadata": {},
   "outputs": [
    {
     "data": {
      "text/plain": [
       "<AxesSubplot:>"
      ]
     },
     "execution_count": 12,
     "metadata": {},
     "output_type": "execute_result"
    },
    {
     "data": {
      "image/png": "[encoded data removed]",
      "text/plain": [
       "<Figure size 720x360 with 1 Axes>"
      ]
     },
     "metadata": {
      "needs_background": "light"
     },
     "output_type": "display_data"
    }
   ],
   "source": [
    "gdf.plot(figsize=(10,5))"
   ]
  },
  {
   "cell_type": "markdown",
   "metadata": {},
   "source": [
    "let's find those outliers by looking at the longitude"
   ]
  },
  {
   "cell_type": "code",
   "execution_count": 14,
   "metadata": {},
   "outputs": [
    {
     "data": {
      "text/html": [
       "<div>\n",
       "<style scoped>\n",
       "    .dataframe tbody tr th:only-of-type {\n",
       "        vertical-align: middle;\n",
       "    }\n",
       "\n",
       "    .dataframe tbody tr th {\n",
       "        vertical-align: top;\n",
       "    }\n",
       "\n",
       "    .dataframe thead th {\n",
       "        text-align: right;\n",
       "    }\n",
       "</style>\n",
       "<table border=\"1\" class=\"dataframe\">\n",
       "  <thead>\n",
       "    <tr style=\"text-align: right;\">\n",
       "      <th></th>\n",
       "      <th>ID</th>\n",
       "      <th>LATITUDE</th>\n",
       "      <th>LONGITUDE</th>\n",
       "      <th>ELEVATION</th>\n",
       "      <th>STATE</th>\n",
       "      <th>NAME</th>\n",
       "      <th>GSN FLAG</th>\n",
       "      <th>HCN/CRN FLAG</th>\n",
       "      <th>WMO ID</th>\n",
       "      <th>geometry</th>\n",
       "    </tr>\n",
       "  </thead>\n",
       "  <tbody>\n",
       "    <tr>\n",
       "      <th>113706</th>\n",
       "      <td>USW00045715</td>\n",
       "      <td>52.7167</td>\n",
       "      <td>174.1000</td>\n",
       "      <td>37.2</td>\n",
       "      <td>AK</td>\n",
       "      <td>SHEMYA USAF BASE</td>\n",
       "      <td>NaN</td>\n",
       "      <td>NaN</td>\n",
       "      <td>70414</td>\n",
       "      <td>POINT (174.10000 52.71670)</td>\n",
       "    </tr>\n",
       "    <tr>\n",
       "      <th>109028</th>\n",
       "      <td>USC00500452</td>\n",
       "      <td>52.8333</td>\n",
       "      <td>173.1833</td>\n",
       "      <td>21.3</td>\n",
       "      <td>AK</td>\n",
       "      <td>ATTU</td>\n",
       "      <td>NaN</td>\n",
       "      <td>NaN</td>\n",
       "      <td>70409</td>\n",
       "      <td>POINT (173.18330 52.83330)</td>\n",
       "    </tr>\n",
       "    <tr>\n",
       "      <th>113704</th>\n",
       "      <td>USW00045709</td>\n",
       "      <td>52.8000</td>\n",
       "      <td>173.1667</td>\n",
       "      <td>28.0</td>\n",
       "      <td>AK</td>\n",
       "      <td>ATTU NS</td>\n",
       "      <td>NaN</td>\n",
       "      <td>NaN</td>\n",
       "      <td>70409</td>\n",
       "      <td>POINT (173.16670 52.80000)</td>\n",
       "    </tr>\n",
       "    <tr>\n",
       "      <th>94657</th>\n",
       "      <td>USC00172426</td>\n",
       "      <td>44.9067</td>\n",
       "      <td>-66.9919</td>\n",
       "      <td>25.9</td>\n",
       "      <td>ME</td>\n",
       "      <td>EASTPORT</td>\n",
       "      <td>NaN</td>\n",
       "      <td>HCN</td>\n",
       "      <td>72608</td>\n",
       "      <td>POINT (-66.99190 44.90670)</td>\n",
       "    </tr>\n",
       "    <tr>\n",
       "      <th>114215</th>\n",
       "      <td>USW00094645</td>\n",
       "      <td>46.9600</td>\n",
       "      <td>-67.8833</td>\n",
       "      <td>224.6</td>\n",
       "      <td>ME</td>\n",
       "      <td>LIMESTONE 4 NNW</td>\n",
       "      <td>NaN</td>\n",
       "      <td>CRN</td>\n",
       "      <td>72710</td>\n",
       "      <td>POINT (-67.88330 46.96000)</td>\n",
       "    </tr>\n",
       "  </tbody>\n",
       "</table>\n",
       "</div>"
      ],
      "text/plain": [
       "                 ID  LATITUDE  LONGITUDE  ELEVATION STATE              NAME  \\\n",
       "113706  USW00045715   52.7167   174.1000       37.2    AK  SHEMYA USAF BASE   \n",
       "109028  USC00500452   52.8333   173.1833       21.3    AK              ATTU   \n",
       "113704  USW00045709   52.8000   173.1667       28.0    AK           ATTU NS   \n",
       "94657   USC00172426   44.9067   -66.9919       25.9    ME          EASTPORT   \n",
       "114215  USW00094645   46.9600   -67.8833      224.6    ME   LIMESTONE 4 NNW   \n",
       "\n",
       "       GSN FLAG HCN/CRN FLAG WMO ID                    geometry  \n",
       "113706      NaN          NaN  70414  POINT (174.10000 52.71670)  \n",
       "109028      NaN          NaN  70409  POINT (173.18330 52.83330)  \n",
       "113704      NaN          NaN  70409  POINT (173.16670 52.80000)  \n",
       "94657       NaN          HCN  72608  POINT (-66.99190 44.90670)  \n",
       "114215      NaN          CRN  72710  POINT (-67.88330 46.96000)  "
      ]
     },
     "execution_count": 14,
     "metadata": {},
     "output_type": "execute_result"
    }
   ],
   "source": [
    "gdf.sort_values('LONGITUDE', ascending=False).head()"
   ]
  },
  {
   "cell_type": "code",
   "execution_count": 13,
   "metadata": {},
   "outputs": [
    {
     "data": {
      "text/plain": [
       "<AxesSubplot:>"
      ]
     },
     "execution_count": 13,
     "metadata": {},
     "output_type": "execute_result"
    },
    {
     "data": {
      "image/png": "[encoded data removed]",
      "text/plain": [
       "<Figure size 432x288 with 1 Axes>"
      ]
     },
     "metadata": {
      "needs_background": "light"
     },
     "output_type": "display_data"
    }
   ],
   "source": [
    "# let's drop them:\n",
    "gdf_w = gdf[gdf['LONGITUDE']<0]\n",
    "gdf_w.plot()"
   ]
  },
  {
   "cell_type": "markdown",
   "metadata": {},
   "source": [
    "We really don't need that dense of a network of plots, let's sample by 10 percent and see what happens"
   ]
  },
  {
   "cell_type": "code",
   "execution_count": 16,
   "metadata": {},
   "outputs": [
    {
     "data": {
      "text/plain": [
       "<AxesSubplot:>"
      ]
     },
     "execution_count": 16,
     "metadata": {},
     "output_type": "execute_result"
    },
    {
     "data": {
      "image/png": "[encoded data removed]",
      "text/plain": [
       "<Figure size 720x360 with 1 Axes>"
      ]
     },
     "metadata": {
      "needs_background": "light"
     },
     "output_type": "display_data"
    }
   ],
   "source": [
    "gdf_w.sample(frac=.10).plot(figsize=(10,5))"
   ]
  },
  {
   "cell_type": "code",
   "execution_count": 17,
   "metadata": {},
   "outputs": [
    {
     "data": {
      "text/plain": [
       "<AxesSubplot:>"
      ]
     },
     "execution_count": 17,
     "metadata": {},
     "output_type": "execute_result"
    },
    {
     "data": {
      "image/png": "[encoded data removed]",
      "text/plain": [
       "<Figure size 720x360 with 1 Axes>"
      ]
     },
     "metadata": {
      "needs_background": "light"
     },
     "output_type": "display_data"
    }
   ],
   "source": [
    "#1% which is about 6 stations\n",
    "gdf_w.sample(frac=.01).plot(figsize=(10,5))"
   ]
  },
  {
   "cell_type": "code",
   "execution_count": 18,
   "metadata": {},
   "outputs": [
    {
     "ename": "SyntaxError",
     "evalue": "invalid syntax (<ipython-input-18-0fd1e2a8b2d0>, line 2)",
     "output_type": "error",
     "traceback": [
      "\u001b[0;36m  File \u001b[0;32m\"<ipython-input-18-0fd1e2a8b2d0>\"\u001b[0;36m, line \u001b[0;32m2\u001b[0m\n\u001b[0;31m    frac = ?\u001b[0m\n\u001b[0m           ^\u001b[0m\n\u001b[0;31mSyntaxError\u001b[0m\u001b[0;31m:\u001b[0m invalid syntax\n"
     ]
    }
   ],
   "source": [
    "# try your own \n",
    "frac = ?\n",
    "gdf_w.sample(frac=frac).plot(figsize=(10,5))"
   ]
  },
  {
   "cell_type": "code",
   "execution_count": 14,
   "metadata": {},
   "outputs": [],
   "source": [
    "# lets use the 60 stations from our sample to filter down our dataset\n",
    "us_stations = gdf_w.sample(frac=.1)['ID']"
   ]
  },
  {
   "cell_type": "markdown",
   "metadata": {},
   "source": [
    "## Filter MOS down to our sample set of stations\n",
    "OUR MOS codes aren't matching up w/ our WMO above so we're gonna find the nearest neighbors to the above stations\n",
    "This is a spreadsheet of where the mos stations are "
   ]
  },
  {
   "cell_type": "code",
   "execution_count": 15,
   "metadata": {},
   "outputs": [],
   "source": [
    "mdf = pd.read_csv(\"https://www.weather.gov/source/mdl/tables/MOS_stationtable_20190702.csv\")"
   ]
  },
  {
   "cell_type": "code",
   "execution_count": 16,
   "metadata": {},
   "outputs": [],
   "source": [
    "# us stations only have 4 values\n",
    "mosdf = mdf[mdf['Station'].str.len()==4]"
   ]
  },
  {
   "cell_type": "code",
   "execution_count": 17,
   "metadata": {},
   "outputs": [],
   "source": [
    "mgdf = gpd.GeoDataFrame(mosdf,geometry=gpd.points_from_xy(mosdf['Longitude'], mosdf['Latitude']))"
   ]
  },
  {
   "cell_type": "code",
   "execution_count": 18,
   "metadata": {},
   "outputs": [
    {
     "data": {
      "text/plain": [
       "2113"
      ]
     },
     "execution_count": 18,
     "metadata": {},
     "output_type": "execute_result"
    }
   ],
   "source": [
    "len(mgdf['Station'].unique())"
   ]
  },
  {
   "cell_type": "markdown",
   "metadata": {},
   "source": [
    "## Let's find our nearest neighbor\n",
    "https://gis.stackexchange.com/questions/222315/geopandas-find-nearest-point-in-other-dataframe/222316"
   ]
  },
  {
   "cell_type": "code",
   "execution_count": 19,
   "metadata": {},
   "outputs": [],
   "source": [
    "# compute distance between each station and all the others\n",
    "def distance(row):\n",
    "    return mgdf['geometry'].distance(row['geometry'])\n",
    "    \n",
    "distances = gdf_w.apply(distance, axis=1)"
   ]
  },
  {
   "cell_type": "code",
   "execution_count": 21,
   "metadata": {},
   "outputs": [
    {
     "data": {
      "text/plain": [
       "(663, 2113)"
      ]
     },
     "execution_count": 21,
     "metadata": {},
     "output_type": "execute_result"
    }
   ],
   "source": [
    "distances.shape # rows in gdf_w x rows in mgdf"
   ]
  },
  {
   "cell_type": "code",
   "execution_count": 22,
   "metadata": {},
   "outputs": [],
   "source": [
    "# get the id of the closet station by finding the index of the station with the minimum distance\n",
    "# and then create a new column in our gdf_w with the closest MOS station\n",
    "stationloc = np.argmin(distances.values,axis=1)"
   ]
  },
  {
   "cell_type": "code",
   "execution_count": 23,
   "metadata": {},
   "outputs": [
    {
     "data": {
      "text/plain": [
       "((663,), (2113, 8), (663, 10))"
      ]
     },
     "execution_count": 23,
     "metadata": {},
     "output_type": "execute_result"
    }
   ],
   "source": [
    "stationloc.shape, mgdf.shape, gdf_w.shape"
   ]
  },
  {
   "cell_type": "code",
   "execution_count": 24,
   "metadata": {},
   "outputs": [
    {
     "name": "stderr",
     "output_type": "stream",
     "text": [
      "/opt/conda/envs/cuny-summer-2020/lib/python3.8/site-packages/geopandas/geodataframe.py:853: SettingWithCopyWarning: \n",
      "A value is trying to be set on a copy of a slice from a DataFrame.\n",
      "Try using .loc[row_indexer,col_indexer] = value instead\n",
      "\n",
      "See the caveats in the documentation: https://pandas.pydata.org/pandas-docs/stable/user_guide/indexing.html#returning-a-view-versus-a-copy\n",
      "  super(GeoDataFrame, self).__setitem__(key, value)\n"
     ]
    }
   ],
   "source": [
    "# from mgdf pull the station closest in distance to the gdf station for that row\n",
    "gdf_w['neighbor'] = mgdf.iloc[stationloc]['Station'].values\n",
    "gdf_w['distance'] = distances.min(axis=1)"
   ]
  },
  {
   "cell_type": "code",
   "execution_count": 25,
   "metadata": {},
   "outputs": [
    {
     "data": {
      "text/html": [
       "<div>\n",
       "<style scoped>\n",
       "    .dataframe tbody tr th:only-of-type {\n",
       "        vertical-align: middle;\n",
       "    }\n",
       "\n",
       "    .dataframe tbody tr th {\n",
       "        vertical-align: top;\n",
       "    }\n",
       "\n",
       "    .dataframe thead th {\n",
       "        text-align: right;\n",
       "    }\n",
       "</style>\n",
       "<table border=\"1\" class=\"dataframe\">\n",
       "  <thead>\n",
       "    <tr style=\"text-align: right;\">\n",
       "      <th></th>\n",
       "      <th>ID</th>\n",
       "      <th>neighbor</th>\n",
       "    </tr>\n",
       "  </thead>\n",
       "  <tbody>\n",
       "    <tr>\n",
       "      <th>88311</th>\n",
       "      <td>USC00026180</td>\n",
       "      <td>KPGA</td>\n",
       "    </tr>\n",
       "    <tr>\n",
       "      <th>90722</th>\n",
       "      <td>USC00080211</td>\n",
       "      <td>KAAF</td>\n",
       "    </tr>\n",
       "    <tr>\n",
       "      <th>91014</th>\n",
       "      <td>USC00088782</td>\n",
       "      <td>KMCF</td>\n",
       "    </tr>\n",
       "    <tr>\n",
       "      <th>91103</th>\n",
       "      <td>USC00091544</td>\n",
       "      <td>KLHW</td>\n",
       "    </tr>\n",
       "    <tr>\n",
       "      <th>91191</th>\n",
       "      <td>USC00093538</td>\n",
       "      <td>KLHW</td>\n",
       "    </tr>\n",
       "  </tbody>\n",
       "</table>\n",
       "</div>"
      ],
      "text/plain": [
       "                ID neighbor\n",
       "88311  USC00026180     KPGA\n",
       "90722  USC00080211     KAAF\n",
       "91014  USC00088782     KMCF\n",
       "91103  USC00091544     KLHW\n",
       "91191  USC00093538     KLHW"
      ]
     },
     "execution_count": 25,
     "metadata": {},
     "output_type": "execute_result"
    }
   ],
   "source": [
    "# this is our lookup comparison\n",
    "gdf_w[['ID', 'neighbor']].head()"
   ]
  },
  {
   "cell_type": "code",
   "execution_count": 26,
   "metadata": {},
   "outputs": [],
   "source": [
    "#lets merge in the mgdf since we're going to end up wanting the center lat/lon for plotting\n",
    "gdmo = gdf_w.merge(mgdf, left_on = 'neighbor', right_on='Station', suffixes=('_ghcn', '_mos'))"
   ]
  },
  {
   "cell_type": "code",
   "execution_count": 27,
   "metadata": {},
   "outputs": [
    {
     "data": {
      "text/html": [
       "<div>\n",
       "<style scoped>\n",
       "    .dataframe tbody tr th:only-of-type {\n",
       "        vertical-align: middle;\n",
       "    }\n",
       "\n",
       "    .dataframe tbody tr th {\n",
       "        vertical-align: top;\n",
       "    }\n",
       "\n",
       "    .dataframe thead th {\n",
       "        text-align: right;\n",
       "    }\n",
       "</style>\n",
       "<table border=\"1\" class=\"dataframe\">\n",
       "  <thead>\n",
       "    <tr style=\"text-align: right;\">\n",
       "      <th></th>\n",
       "      <th>ID</th>\n",
       "      <th>LATITUDE</th>\n",
       "      <th>LONGITUDE</th>\n",
       "      <th>ELEVATION</th>\n",
       "      <th>STATE</th>\n",
       "      <th>NAME</th>\n",
       "      <th>GSN FLAG</th>\n",
       "      <th>HCN/CRN FLAG</th>\n",
       "      <th>WMO ID</th>\n",
       "      <th>geometry_ghcn</th>\n",
       "      <th>neighbor</th>\n",
       "      <th>distance</th>\n",
       "      <th>Station</th>\n",
       "      <th>Station Name</th>\n",
       "      <th>State/Region</th>\n",
       "      <th>Latitude</th>\n",
       "      <th>Longitude</th>\n",
       "      <th>Elevation(ft)</th>\n",
       "      <th>Products</th>\n",
       "      <th>geometry_mos</th>\n",
       "    </tr>\n",
       "  </thead>\n",
       "  <tbody>\n",
       "    <tr>\n",
       "      <th>0</th>\n",
       "      <td>USC00026180</td>\n",
       "      <td>36.9208</td>\n",
       "      <td>-111.4483</td>\n",
       "      <td>1301.5</td>\n",
       "      <td>AZ</td>\n",
       "      <td>PAGE</td>\n",
       "      <td>NaN</td>\n",
       "      <td>NaN</td>\n",
       "      <td>72378</td>\n",
       "      <td>POINT (-111.44830 36.92080)</td>\n",
       "      <td>KPGA</td>\n",
       "      <td>0.012615</td>\n",
       "      <td>KPGA</td>\n",
       "      <td>PAGE           ASOS</td>\n",
       "      <td>AZ</td>\n",
       "      <td>36.9333</td>\n",
       "      <td>-111.4500</td>\n",
       "      <td>4278</td>\n",
       "      <td>mex mav00 mav06 mav12 mav18 rfc met</td>\n",
       "      <td>POINT (-111.45000 36.93330)</td>\n",
       "    </tr>\n",
       "    <tr>\n",
       "      <th>1</th>\n",
       "      <td>USW00003162</td>\n",
       "      <td>36.9261</td>\n",
       "      <td>-111.4478</td>\n",
       "      <td>1313.7</td>\n",
       "      <td>AZ</td>\n",
       "      <td>PAGE MUNI AP</td>\n",
       "      <td>NaN</td>\n",
       "      <td>NaN</td>\n",
       "      <td>72371</td>\n",
       "      <td>POINT (-111.44780 36.92610)</td>\n",
       "      <td>KPGA</td>\n",
       "      <td>0.007529</td>\n",
       "      <td>KPGA</td>\n",
       "      <td>PAGE           ASOS</td>\n",
       "      <td>AZ</td>\n",
       "      <td>36.9333</td>\n",
       "      <td>-111.4500</td>\n",
       "      <td>4278</td>\n",
       "      <td>mex mav00 mav06 mav12 mav18 rfc met</td>\n",
       "      <td>POINT (-111.45000 36.93330)</td>\n",
       "    </tr>\n",
       "    <tr>\n",
       "      <th>2</th>\n",
       "      <td>USC00080211</td>\n",
       "      <td>29.7258</td>\n",
       "      <td>-85.0206</td>\n",
       "      <td>6.1</td>\n",
       "      <td>FL</td>\n",
       "      <td>APALACHICOLA  AIRPORT</td>\n",
       "      <td>NaN</td>\n",
       "      <td>HCN</td>\n",
       "      <td>72220</td>\n",
       "      <td>POINT (-85.02060 29.72580)</td>\n",
       "      <td>KAAF</td>\n",
       "      <td>0.008453</td>\n",
       "      <td>KAAF</td>\n",
       "      <td>APALACHICOLA</td>\n",
       "      <td>FL</td>\n",
       "      <td>29.7333</td>\n",
       "      <td>-85.0167</td>\n",
       "      <td>20</td>\n",
       "      <td>mex mav00 mav06 mav12 mav18 met</td>\n",
       "      <td>POINT (-85.01670 29.73330)</td>\n",
       "    </tr>\n",
       "    <tr>\n",
       "      <th>3</th>\n",
       "      <td>USW00012832</td>\n",
       "      <td>29.7333</td>\n",
       "      <td>-85.0333</td>\n",
       "      <td>5.8</td>\n",
       "      <td>FL</td>\n",
       "      <td>APALACHICOLA AP</td>\n",
       "      <td>NaN</td>\n",
       "      <td>NaN</td>\n",
       "      <td>72220</td>\n",
       "      <td>POINT (-85.03330 29.73330)</td>\n",
       "      <td>KAAF</td>\n",
       "      <td>0.016600</td>\n",
       "      <td>KAAF</td>\n",
       "      <td>APALACHICOLA</td>\n",
       "      <td>FL</td>\n",
       "      <td>29.7333</td>\n",
       "      <td>-85.0167</td>\n",
       "      <td>20</td>\n",
       "      <td>mex mav00 mav06 mav12 mav18 met</td>\n",
       "      <td>POINT (-85.01670 29.73330)</td>\n",
       "    </tr>\n",
       "    <tr>\n",
       "      <th>4</th>\n",
       "      <td>USC00088782</td>\n",
       "      <td>27.7053</td>\n",
       "      <td>-82.4008</td>\n",
       "      <td>12.2</td>\n",
       "      <td>FL</td>\n",
       "      <td>TAMPA BAY AREA WFO</td>\n",
       "      <td>NaN</td>\n",
       "      <td>NaN</td>\n",
       "      <td>72210</td>\n",
       "      <td>POINT (-82.40080 27.70530)</td>\n",
       "      <td>KMCF</td>\n",
       "      <td>0.175439</td>\n",
       "      <td>KMCF</td>\n",
       "      <td>MAC DILL AFB</td>\n",
       "      <td>FL</td>\n",
       "      <td>27.8500</td>\n",
       "      <td>-82.5000</td>\n",
       "      <td>13</td>\n",
       "      <td>mex mav00 mav06 mav12 mav18 met</td>\n",
       "      <td>POINT (-82.50000 27.85000)</td>\n",
       "    </tr>\n",
       "  </tbody>\n",
       "</table>\n",
       "</div>"
      ],
      "text/plain": [
       "            ID  LATITUDE  LONGITUDE  ELEVATION STATE                   NAME  \\\n",
       "0  USC00026180   36.9208  -111.4483     1301.5    AZ                   PAGE   \n",
       "1  USW00003162   36.9261  -111.4478     1313.7    AZ           PAGE MUNI AP   \n",
       "2  USC00080211   29.7258   -85.0206        6.1    FL  APALACHICOLA  AIRPORT   \n",
       "3  USW00012832   29.7333   -85.0333        5.8    FL        APALACHICOLA AP   \n",
       "4  USC00088782   27.7053   -82.4008       12.2    FL     TAMPA BAY AREA WFO   \n",
       "\n",
       "  GSN FLAG HCN/CRN FLAG WMO ID                geometry_ghcn neighbor  \\\n",
       "0      NaN          NaN  72378  POINT (-111.44830 36.92080)     KPGA   \n",
       "1      NaN          NaN  72371  POINT (-111.44780 36.92610)     KPGA   \n",
       "2      NaN          HCN  72220   POINT (-85.02060 29.72580)     KAAF   \n",
       "3      NaN          NaN  72220   POINT (-85.03330 29.73330)     KAAF   \n",
       "4      NaN          NaN  72210   POINT (-82.40080 27.70530)     KMCF   \n",
       "\n",
       "   distance Station          Station Name State/Region  Latitude  Longitude  \\\n",
       "0  0.012615    KPGA  PAGE           ASOS            AZ   36.9333  -111.4500   \n",
       "1  0.007529    KPGA  PAGE           ASOS            AZ   36.9333  -111.4500   \n",
       "2  0.008453    KAAF  APALACHICOLA                   FL   29.7333   -85.0167   \n",
       "3  0.016600    KAAF  APALACHICOLA                   FL   29.7333   -85.0167   \n",
       "4  0.175439    KMCF  MAC DILL AFB                   FL   27.8500   -82.5000   \n",
       "\n",
       "   Elevation(ft)                             Products  \\\n",
       "0           4278  mex mav00 mav06 mav12 mav18 rfc met   \n",
       "1           4278  mex mav00 mav06 mav12 mav18 rfc met   \n",
       "2             20      mex mav00 mav06 mav12 mav18 met   \n",
       "3             20      mex mav00 mav06 mav12 mav18 met   \n",
       "4             13      mex mav00 mav06 mav12 mav18 met   \n",
       "\n",
       "                  geometry_mos  \n",
       "0  POINT (-111.45000 36.93330)  \n",
       "1  POINT (-111.45000 36.93330)  \n",
       "2   POINT (-85.01670 29.73330)  \n",
       "3   POINT (-85.01670 29.73330)  \n",
       "4   POINT (-82.50000 27.85000)  "
      ]
     },
     "execution_count": 27,
     "metadata": {},
     "output_type": "execute_result"
    }
   ],
   "source": [
    "gdmo.head()"
   ]
  },
  {
   "cell_type": "code",
   "execution_count": 28,
   "metadata": {},
   "outputs": [],
   "source": [
    "#let's save out what we need:\n",
    "gdmo[['ID', 'LATITUDE', 'LONGITUDE', 'Station', 'Latitude', 'Longitude']].to_csv(\"ghcn_mos_lookup.csv\")"
   ]
  },
  {
   "cell_type": "markdown",
   "metadata": {},
   "source": [
    "## Filter GHCN down to our sample set of stations & variables"
   ]
  },
  {
   "cell_type": "code",
   "execution_count": 29,
   "metadata": {},
   "outputs": [],
   "source": [
    "# the above lines up w/ mos, let's filter GHCN down to the us_stations\n",
    "YEAR = 2017\n",
    "names = ['ID', 'DATE', 'ELEMENT', 'DATA_VALUE', 'M-FLAG', 'Q-FLAG', 'S-FLAG', 'OBS-TIME']\n",
    "ds = dd.read_csv(f's3://noaa-ghcn-pds/csv/{YEAR}.csv', storage_options={'anon':True},  \n",
    "                 names=names, dtype={'DATA_VALUE':'object'})"
   ]
  },
  {
   "cell_type": "markdown",
   "metadata": {},
   "source": [
    "* PRCP = Precipitation (tenths of mm)\n",
    "* TMAX = Maximum temperature (tenths of degrees C)\n",
    "* TMIN = Minimum temperature (tenths of degrees C)"
   ]
  },
  {
   "cell_type": "code",
   "execution_count": 30,
   "metadata": {},
   "outputs": [
    {
     "data": {
      "text/html": [
       "<div>\n",
       "<style scoped>\n",
       "    .dataframe tbody tr th:only-of-type {\n",
       "        vertical-align: middle;\n",
       "    }\n",
       "\n",
       "    .dataframe tbody tr th {\n",
       "        vertical-align: top;\n",
       "    }\n",
       "\n",
       "    .dataframe thead th {\n",
       "        text-align: right;\n",
       "    }\n",
       "</style>\n",
       "<table border=\"1\" class=\"dataframe\">\n",
       "  <thead>\n",
       "    <tr style=\"text-align: right;\">\n",
       "      <th></th>\n",
       "      <th>ID</th>\n",
       "      <th>DATE</th>\n",
       "      <th>ELEMENT</th>\n",
       "      <th>DATA_VALUE</th>\n",
       "      <th>M-FLAG</th>\n",
       "      <th>Q-FLAG</th>\n",
       "      <th>S-FLAG</th>\n",
       "      <th>OBS-TIME</th>\n",
       "    </tr>\n",
       "  </thead>\n",
       "  <tbody>\n",
       "    <tr>\n",
       "      <th>50300</th>\n",
       "      <td>USC00088782</td>\n",
       "      <td>20170101</td>\n",
       "      <td>TMAX</td>\n",
       "      <td>283</td>\n",
       "      <td>NaN</td>\n",
       "      <td>NaN</td>\n",
       "      <td>7</td>\n",
       "      <td>2400.0</td>\n",
       "    </tr>\n",
       "    <tr>\n",
       "      <th>50301</th>\n",
       "      <td>USC00088782</td>\n",
       "      <td>20170101</td>\n",
       "      <td>TMIN</td>\n",
       "      <td>133</td>\n",
       "      <td>NaN</td>\n",
       "      <td>NaN</td>\n",
       "      <td>7</td>\n",
       "      <td>2400.0</td>\n",
       "    </tr>\n",
       "    <tr>\n",
       "      <th>50303</th>\n",
       "      <td>USC00088782</td>\n",
       "      <td>20170101</td>\n",
       "      <td>PRCP</td>\n",
       "      <td>0</td>\n",
       "      <td>NaN</td>\n",
       "      <td>NaN</td>\n",
       "      <td>7</td>\n",
       "      <td>2400.0</td>\n",
       "    </tr>\n",
       "    <tr>\n",
       "      <th>50536</th>\n",
       "      <td>USC00093538</td>\n",
       "      <td>20170101</td>\n",
       "      <td>TMAX</td>\n",
       "      <td>239</td>\n",
       "      <td>NaN</td>\n",
       "      <td>NaN</td>\n",
       "      <td>7</td>\n",
       "      <td>1600.0</td>\n",
       "    </tr>\n",
       "    <tr>\n",
       "      <th>50537</th>\n",
       "      <td>USC00093538</td>\n",
       "      <td>20170101</td>\n",
       "      <td>TMIN</td>\n",
       "      <td>78</td>\n",
       "      <td>NaN</td>\n",
       "      <td>NaN</td>\n",
       "      <td>7</td>\n",
       "      <td>1600.0</td>\n",
       "    </tr>\n",
       "  </tbody>\n",
       "</table>\n",
       "</div>"
      ],
      "text/plain": [
       "                ID      DATE ELEMENT DATA_VALUE M-FLAG Q-FLAG S-FLAG  OBS-TIME\n",
       "50300  USC00088782  20170101    TMAX        283    NaN    NaN      7    2400.0\n",
       "50301  USC00088782  20170101    TMIN        133    NaN    NaN      7    2400.0\n",
       "50303  USC00088782  20170101    PRCP          0    NaN    NaN      7    2400.0\n",
       "50536  USC00093538  20170101    TMAX        239    NaN    NaN      7    1600.0\n",
       "50537  USC00093538  20170101    TMIN         78    NaN    NaN      7    1600.0"
      ]
     },
     "execution_count": 30,
     "metadata": {},
     "output_type": "execute_result"
    }
   ],
   "source": [
    "# Here we're filtering to just the rows where these conditions are met\n",
    "dsus = ds[ds['ID'].isin(gdmo['ID']) & ds['ELEMENT'].isin(['PRCP', 'TMAX', 'TMIN'])]\n",
    "dsus.head()"
   ]
  },
  {
   "cell_type": "code",
   "execution_count": 33,
   "metadata": {},
   "outputs": [
    {
     "data": {
      "text/html": [
       "<div>\n",
       "<style scoped>\n",
       "    .dataframe tbody tr th:only-of-type {\n",
       "        vertical-align: middle;\n",
       "    }\n",
       "\n",
       "    .dataframe tbody tr th {\n",
       "        vertical-align: top;\n",
       "    }\n",
       "\n",
       "    .dataframe thead th {\n",
       "        text-align: right;\n",
       "    }\n",
       "</style>\n",
       "<table border=\"1\" class=\"dataframe\">\n",
       "  <thead>\n",
       "    <tr style=\"text-align: right;\">\n",
       "      <th></th>\n",
       "      <th>ID</th>\n",
       "      <th>DATE</th>\n",
       "      <th>ELEMENT</th>\n",
       "      <th>DATA_VALUE</th>\n",
       "      <th>M-FLAG</th>\n",
       "      <th>Q-FLAG</th>\n",
       "    </tr>\n",
       "  </thead>\n",
       "  <tbody>\n",
       "    <tr>\n",
       "      <th>50300</th>\n",
       "      <td>USC00088782</td>\n",
       "      <td>20170101</td>\n",
       "      <td>TMAX</td>\n",
       "      <td>283</td>\n",
       "      <td>NaN</td>\n",
       "      <td>NaN</td>\n",
       "    </tr>\n",
       "    <tr>\n",
       "      <th>50301</th>\n",
       "      <td>USC00088782</td>\n",
       "      <td>20170101</td>\n",
       "      <td>TMIN</td>\n",
       "      <td>133</td>\n",
       "      <td>NaN</td>\n",
       "      <td>NaN</td>\n",
       "    </tr>\n",
       "    <tr>\n",
       "      <th>50303</th>\n",
       "      <td>USC00088782</td>\n",
       "      <td>20170101</td>\n",
       "      <td>PRCP</td>\n",
       "      <td>0</td>\n",
       "      <td>NaN</td>\n",
       "      <td>NaN</td>\n",
       "    </tr>\n",
       "    <tr>\n",
       "      <th>50536</th>\n",
       "      <td>USC00093538</td>\n",
       "      <td>20170101</td>\n",
       "      <td>TMAX</td>\n",
       "      <td>239</td>\n",
       "      <td>NaN</td>\n",
       "      <td>NaN</td>\n",
       "    </tr>\n",
       "    <tr>\n",
       "      <th>50537</th>\n",
       "      <td>USC00093538</td>\n",
       "      <td>20170101</td>\n",
       "      <td>TMIN</td>\n",
       "      <td>78</td>\n",
       "      <td>NaN</td>\n",
       "      <td>NaN</td>\n",
       "    </tr>\n",
       "  </tbody>\n",
       "</table>\n",
       "</div>"
      ],
      "text/plain": [
       "                ID      DATE ELEMENT DATA_VALUE M-FLAG Q-FLAG\n",
       "50300  USC00088782  20170101    TMAX        283    NaN    NaN\n",
       "50301  USC00088782  20170101    TMIN        133    NaN    NaN\n",
       "50303  USC00088782  20170101    PRCP          0    NaN    NaN\n",
       "50536  USC00093538  20170101    TMAX        239    NaN    NaN\n",
       "50537  USC00093538  20170101    TMIN         78    NaN    NaN"
      ]
     },
     "execution_count": 33,
     "metadata": {},
     "output_type": "execute_result"
    }
   ],
   "source": [
    "# Lets only get the columns we want\n",
    "dsus_subset = dsus[['ID', 'DATE', 'ELEMENT', 'DATA_VALUE',  'M-FLAG', 'Q-FLAG']]\n",
    "dsus_subset.head()"
   ]
  },
  {
   "cell_type": "code",
   "execution_count": 40,
   "metadata": {},
   "outputs": [],
   "source": [
    "# let's save out to a single largeish CSV, .compute convers it into a csv\n",
    "dsus_subset.compute().to_csv(f\"GHCN_{YEAR}.csv\")"
   ]
  },
  {
   "cell_type": "markdown",
   "metadata": {},
   "source": [
    "## Filter MOS down to just stations in our lookup"
   ]
  },
  {
   "cell_type": "code",
   "execution_count": 35,
   "metadata": {},
   "outputs": [],
   "source": [
    "columns = ['station', 'short_model', 'model', 'runtime', 'ftime', 'N/X', 'X/N',\n",
    "           'TMP', 'DPT', 'WDR', 'WSP', 'CIG', 'VIS', 'P06', 'P12', 'POS', 'POZ',\n",
    "           'SNW', 'CLD', 'OBV', 'TYP', 'Q06', 'Q12', 'T06', 'T12']\n",
    "mos = dd.read_csv(f'mos/modelrun/mav{YEAR}*.csv', names=columns, \n",
    "                  dtype={'CLD': 'object', 'OBV': 'object', 'T06': 'object',\n",
    "                         'T12': 'object','TYP': 'object','ftime': 'object','runtime': 'object'})"
   ]
  },
  {
   "cell_type": "code",
   "execution_count": 36,
   "metadata": {},
   "outputs": [
    {
     "data": {
      "text/html": [
       "<div>\n",
       "<style scoped>\n",
       "    .dataframe tbody tr th:only-of-type {\n",
       "        vertical-align: middle;\n",
       "    }\n",
       "\n",
       "    .dataframe tbody tr th {\n",
       "        vertical-align: top;\n",
       "    }\n",
       "\n",
       "    .dataframe thead th {\n",
       "        text-align: right;\n",
       "    }\n",
       "</style>\n",
       "<table border=\"1\" class=\"dataframe\">\n",
       "  <thead>\n",
       "    <tr style=\"text-align: right;\">\n",
       "      <th></th>\n",
       "      <th>station</th>\n",
       "      <th>short_model</th>\n",
       "      <th>model</th>\n",
       "      <th>runtime</th>\n",
       "      <th>ftime</th>\n",
       "      <th>N/X</th>\n",
       "      <th>X/N</th>\n",
       "      <th>TMP</th>\n",
       "      <th>DPT</th>\n",
       "      <th>WDR</th>\n",
       "      <th>...</th>\n",
       "      <th>POS</th>\n",
       "      <th>POZ</th>\n",
       "      <th>SNW</th>\n",
       "      <th>CLD</th>\n",
       "      <th>OBV</th>\n",
       "      <th>TYP</th>\n",
       "      <th>Q06</th>\n",
       "      <th>Q12</th>\n",
       "      <th>T06</th>\n",
       "      <th>T12</th>\n",
       "    </tr>\n",
       "  </thead>\n",
       "  <tbody>\n",
       "    <tr>\n",
       "      <th>0</th>\n",
       "      <td>PHBK</td>\n",
       "      <td>2017-04-01 06:00:00+00:00</td>\n",
       "      <td>2017-04-01 12:00:00</td>\n",
       "      <td>NaN</td>\n",
       "      <td>NaN</td>\n",
       "      <td>NaN</td>\n",
       "      <td>NaN</td>\n",
       "      <td>NaN</td>\n",
       "      <td>NaN</td>\n",
       "      <td>NaN</td>\n",
       "      <td>...</td>\n",
       "      <td>NaN</td>\n",
       "      <td>NaN</td>\n",
       "      <td>NaN</td>\n",
       "      <td>NaN</td>\n",
       "      <td>NaN</td>\n",
       "      <td>NaN</td>\n",
       "      <td>NaN</td>\n",
       "      <td>NaN</td>\n",
       "      <td>NaN</td>\n",
       "      <td>NaN</td>\n",
       "    </tr>\n",
       "    <tr>\n",
       "      <th>1</th>\n",
       "      <td>PHBK</td>\n",
       "      <td>2017-04-01 06:00:00+00:00</td>\n",
       "      <td>2017-04-01 15:00:00</td>\n",
       "      <td>NaN</td>\n",
       "      <td>NaN</td>\n",
       "      <td>NaN</td>\n",
       "      <td>NaN</td>\n",
       "      <td>NaN</td>\n",
       "      <td>NaN</td>\n",
       "      <td>NaN</td>\n",
       "      <td>...</td>\n",
       "      <td>NaN</td>\n",
       "      <td>NaN</td>\n",
       "      <td>NaN</td>\n",
       "      <td>NaN</td>\n",
       "      <td>NaN</td>\n",
       "      <td>NaN</td>\n",
       "      <td>NaN</td>\n",
       "      <td>NaN</td>\n",
       "      <td>NaN</td>\n",
       "      <td>NaN</td>\n",
       "    </tr>\n",
       "    <tr>\n",
       "      <th>2</th>\n",
       "      <td>PHBK</td>\n",
       "      <td>2017-04-01 06:00:00+00:00</td>\n",
       "      <td>2017-04-01 18:00:00</td>\n",
       "      <td>NaN</td>\n",
       "      <td>NaN</td>\n",
       "      <td>0.0</td>\n",
       "      <td>NaN</td>\n",
       "      <td>NaN</td>\n",
       "      <td>NaN</td>\n",
       "      <td>NaN</td>\n",
       "      <td>...</td>\n",
       "      <td>NaN</td>\n",
       "      <td>NaN</td>\n",
       "      <td>NaN</td>\n",
       "      <td>NaN</td>\n",
       "      <td>NaN</td>\n",
       "      <td>NaN</td>\n",
       "      <td>NaN</td>\n",
       "      <td>NaN</td>\n",
       "      <td>NaN</td>\n",
       "      <td>NaN</td>\n",
       "    </tr>\n",
       "    <tr>\n",
       "      <th>3</th>\n",
       "      <td>PHBK</td>\n",
       "      <td>2017-04-01 06:00:00+00:00</td>\n",
       "      <td>2017-04-01 21:00:00</td>\n",
       "      <td>NaN</td>\n",
       "      <td>NaN</td>\n",
       "      <td>NaN</td>\n",
       "      <td>NaN</td>\n",
       "      <td>NaN</td>\n",
       "      <td>NaN</td>\n",
       "      <td>NaN</td>\n",
       "      <td>...</td>\n",
       "      <td>NaN</td>\n",
       "      <td>NaN</td>\n",
       "      <td>NaN</td>\n",
       "      <td>NaN</td>\n",
       "      <td>NaN</td>\n",
       "      <td>NaN</td>\n",
       "      <td>NaN</td>\n",
       "      <td>NaN</td>\n",
       "      <td>NaN</td>\n",
       "      <td>NaN</td>\n",
       "    </tr>\n",
       "    <tr>\n",
       "      <th>4</th>\n",
       "      <td>PHBK</td>\n",
       "      <td>2017-04-01 06:00:00+00:00</td>\n",
       "      <td>2017-04-02 00:00:00</td>\n",
       "      <td>NaN</td>\n",
       "      <td>83</td>\n",
       "      <td>0.0</td>\n",
       "      <td>NaN</td>\n",
       "      <td>NaN</td>\n",
       "      <td>NaN</td>\n",
       "      <td>NaN</td>\n",
       "      <td>...</td>\n",
       "      <td>NaN</td>\n",
       "      <td>NaN</td>\n",
       "      <td>NaN</td>\n",
       "      <td>NaN</td>\n",
       "      <td>NaN</td>\n",
       "      <td>NaN</td>\n",
       "      <td>NaN</td>\n",
       "      <td>NaN</td>\n",
       "      <td>NaN</td>\n",
       "      <td>NaN</td>\n",
       "    </tr>\n",
       "  </tbody>\n",
       "</table>\n",
       "<p>5 rows × 25 columns</p>\n",
       "</div>"
      ],
      "text/plain": [
       "  station                short_model                model runtime ftime  N/X  \\\n",
       "0    PHBK  2017-04-01 06:00:00+00:00  2017-04-01 12:00:00     NaN   NaN  NaN   \n",
       "1    PHBK  2017-04-01 06:00:00+00:00  2017-04-01 15:00:00     NaN   NaN  NaN   \n",
       "2    PHBK  2017-04-01 06:00:00+00:00  2017-04-01 18:00:00     NaN   NaN  0.0   \n",
       "3    PHBK  2017-04-01 06:00:00+00:00  2017-04-01 21:00:00     NaN   NaN  NaN   \n",
       "4    PHBK  2017-04-01 06:00:00+00:00  2017-04-02 00:00:00     NaN    83  0.0   \n",
       "\n",
       "   X/N  TMP  DPT  WDR  ...  POS  POZ  SNW  CLD  OBV  TYP  Q06  Q12  T06  T12  \n",
       "0  NaN  NaN  NaN  NaN  ...  NaN  NaN  NaN  NaN  NaN  NaN  NaN  NaN  NaN  NaN  \n",
       "1  NaN  NaN  NaN  NaN  ...  NaN  NaN  NaN  NaN  NaN  NaN  NaN  NaN  NaN  NaN  \n",
       "2  NaN  NaN  NaN  NaN  ...  NaN  NaN  NaN  NaN  NaN  NaN  NaN  NaN  NaN  NaN  \n",
       "3  NaN  NaN  NaN  NaN  ...  NaN  NaN  NaN  NaN  NaN  NaN  NaN  NaN  NaN  NaN  \n",
       "4  NaN  NaN  NaN  NaN  ...  NaN  NaN  NaN  NaN  NaN  NaN  NaN  NaN  NaN  NaN  \n",
       "\n",
       "[5 rows x 25 columns]"
      ]
     },
     "execution_count": 36,
     "metadata": {},
     "output_type": "execute_result"
    }
   ],
   "source": [
    "mos.head()"
   ]
  },
  {
   "cell_type": "code",
   "execution_count": 37,
   "metadata": {},
   "outputs": [],
   "source": [
    "# row filters\n",
    "mosus = mos[mos['station'].isin(gdmo['Station'])]"
   ]
  },
  {
   "cell_type": "markdown",
   "metadata": {},
   "source": [
    "* N/X = nighttime minimum/daytime maximum surface temperatures.\n",
    "* TMP = surface temperature valid at that hour.\n",
    "* Q06 = quantitative precipitation forecast (QPF) category for liquid equivalent precipitation amount during a 6-h period ending at that time.\n",
    "* Q12 = QPF category for liquid equivalent precipitation amount during a 12-h period ending at the indicated time.\n",
    "     "
   ]
  },
  {
   "cell_type": "code",
   "execution_count": 38,
   "metadata": {},
   "outputs": [],
   "source": [
    "# column filter\n",
    "mosv = mosus[['station', 'runtime', 'ftime', 'N/X', 'X/N','Q06', 'Q12']]"
   ]
  },
  {
   "cell_type": "code",
   "execution_count": 39,
   "metadata": {},
   "outputs": [],
   "source": [
    "# save to csv , compute turns it to a dataframe so we only have 1 file to worry about\n",
    "mosv.compute().to_csv(f\"MOS_{YEAR}.csv\")"
   ]
  },
  {
   "cell_type": "code",
   "execution_count": null,
   "metadata": {},
   "outputs": [],
   "source": []
  }
 ],
 "metadata": {
  "kernelspec": {
   "display_name": "Python [conda env:cuny-summer-2020]",
   "language": "python",
   "name": "conda-env-cuny-summer-2020-py"
  },
  "language_info": {
   "codemirror_mode": {
    "name": "ipython",
    "version": 3
   },
   "file_extension": ".py",
   "mimetype": "text/x-python",
   "name": "python",
   "nbconvert_exporter": "python",
   "pygments_lexer": "ipython3",
   "version": "3.8.5"
  },
  "widgets": {
   "application/vnd.jupyter.widget-state+json": {
    "state": {},
    "version_major": 2,
    "version_minor": 0
   }
  }
 },
 "nbformat": 4,
 "nbformat_minor": 4
}
