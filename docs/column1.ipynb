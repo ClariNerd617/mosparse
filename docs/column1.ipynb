{
 "cells": [
  {
   "cell_type": "markdown",
   "metadata": {},
   "source": [
    "![Whiteboard[2]-01.png](Whiteboard[2]-01.png)"
   ]
  },
  {
   "cell_type": "code",
   "execution_count": null,
   "metadata": {},
   "outputs": [],
   "source": [
    "%matplotlib inline\n",
    "\n",
    "import dask.dataframe as dd\n",
    "import pandas as pd\n",
    "\n",
    "import matplotlib.pyplot as plt\n",
    "\n",
    "import seaborn as sns"
   ]
  },
  {
   "cell_type": "markdown",
   "metadata": {},
   "source": [
    "Read in GHCN"
   ]
  },
  {
   "cell_type": "code",
   "execution_count": null,
   "metadata": {},
   "outputs": [],
   "source": [
    "YEAR = 2018\n",
    "names = ['ID', 'DATE', 'ELEMENT', 'DATA_VALUE', 'M-FLAG', 'Q-FLAG', 'S-FLAG', 'OBS-TIME']\n",
    "ds = dd.read_csv(f's3://noaa-ghcn-pds/csv/{YEAR}.csv', storage_options={'anon':True},  \n",
    "                 names=names, parse_dates=['DATE'], dtype={'DATA_VALUE':'object'})"
   ]
  },
  {
   "cell_type": "code",
   "execution_count": null,
   "metadata": {},
   "outputs": [],
   "source": [
    "slookup = pd.read_csv('ghcn_mos_lookup.csv')"
   ]
  },
  {
   "cell_type": "markdown",
   "metadata": {},
   "source": [
    "Filter down to stations in US, just the columns we need for visualization, and just the TAVG variable"
   ]
  },
  {
   "cell_type": "code",
   "execution_count": null,
   "metadata": {},
   "outputs": [],
   "source": [
    "ghcn = ds[['ID', 'DATE', 'ELEMENT', 'DATA_VALUE']][ds['ID'].isin(slookup['ID']) & ds['ELEMENT'].str.match('TAVG')].compute()ghcn = ds[['ID', 'DATE', 'ELEMENT', 'DATA_VALUE']][ds['ID'].isin(slookup['ID']) & ds['ELEMENT'].str.match('TAVG')].compute()"
   ]
  },
  {
   "cell_type": "code",
   "execution_count": null,
   "metadata": {},
   "outputs": [],
   "source": [
    "ghcn.head()"
   ]
  },
  {
   "cell_type": "markdown",
   "metadata": {},
   "source": [
    "Turn this into a station by date table"
   ]
  },
  {
   "cell_type": "code",
   "execution_count": null,
   "metadata": {},
   "outputs": [],
   "source": [
    "ghcnt = ghcn.pivot(index='DATE', columns='ID', values='DATA_VALUE')\n",
    "ghcnt.head()"
   ]
  },
  {
   "cell_type": "code",
   "execution_count": null,
   "metadata": {},
   "outputs": [],
   "source": [
    "# Compute our station order, which is how we're gonna compare one against the other"
   ]
  },
  {
   "cell_type": "code",
   "execution_count": null,
   "metadata": {},
   "outputs": [],
   "source": [
    "mos_0 = pd.read_csv('mos2018/MOS_2018_0_days_06:00:00.csv')[['station', 'runtime','TMP']]\n",
    "mos_0.head()"
   ]
  },
  {
   "cell_type": "code",
   "execution_count": null,
   "metadata": {},
   "outputs": [],
   "source": [
    "mos_0.head()"
   ]
  },
  {
   "cell_type": "code",
   "execution_count": null,
   "metadata": {},
   "outputs": [],
   "source": [
    "in_both = (slookup['ID'].isin(ghcnt.columns) & slookup['Station'].isin(mos_0['station'].unique()))\n",
    "station_order = slookup[['ID','Station']][in_both]"
   ]
  },
  {
   "cell_type": "code",
   "execution_count": null,
   "metadata": {},
   "outputs": [],
   "source": [
    "station_order.head()"
   ]
  },
  {
   "cell_type": "markdown",
   "metadata": {},
   "source": [
    "# Lets get the GHCN observations in the same order & Plot"
   ]
  },
  {
   "cell_type": "code",
   "execution_count": null,
   "metadata": {},
   "outputs": [],
   "source": [
    "ghcnt[station_order['ID']].head()"
   ]
  },
  {
   "cell_type": "code",
   "execution_count": null,
   "metadata": {},
   "outputs": [],
   "source": [
    "fig, ax = plt.subplots()\n",
    "ax.set_title(\"GHCN Observations\")\n",
    "im = ax.pcolormesh(ghcnt[station_order['ID']].values.astype(float).T, cmap='RdBu')\n",
    "ax.set(ylabel=\"stations\", xlabel=\"day of year\")\n",
    "ax.set_yticklabels([]) # removed individual station ids cause not super helpful here\n",
    "ax.tick_params(axis='y', length=0)\n",
    "fig.colorbar(im, ax=ax)\n",
    "fig.savefig(\"GHCN_observations.png\")"
   ]
  },
  {
   "cell_type": "markdown",
   "metadata": {},
   "source": [
    "# Plot GFS MAV 6 hour ahead\n",
    "\n",
    "Open our first prediction (0 days), pivot and line it up w/ GHCN"
   ]
  },
  {
   "cell_type": "code",
   "execution_count": null,
   "metadata": {},
   "outputs": [],
   "source": [
    "df = pd.read_csv('mos2018/MOS_2018_0_days_06:00:00.csv',\n",
    "                 parse_dates=['runtime', 'ftime']).drop_duplicates()"
   ]
  },
  {
   "cell_type": "code",
   "execution_count": null,
   "metadata": {},
   "outputs": [],
   "source": [
    "#somehow there's a row where the header names got repeated\n",
    "df.drop(df[df['station'].str.match('station')].index, inplace=True)"
   ]
  },
  {
   "cell_type": "code",
   "execution_count": null,
   "metadata": {},
   "outputs": [],
   "source": [
    "#filter & convert\n",
    "dfc = df[['station', 'TMP']].astype({'TMP':float})\n",
    "dfc['runtime'] = pd.to_datetime(df['runtime'])"
   ]
  },
  {
   "cell_type": "code",
   "execution_count": null,
   "metadata": {},
   "outputs": [],
   "source": [
    "# we have 4xDAY we predicted out, so let's average to one prediction per day \n",
    "dfc['runtime'].unique()"
   ]
  },
  {
   "cell_type": "markdown",
   "metadata": {},
   "source": [
    "We need to for each station, take the average of the 4 predictions per day. We're going to end up w/ a table that is structured like our GHCN one above"
   ]
  },
  {
   "cell_type": "code",
   "execution_count": null,
   "metadata": {},
   "outputs": [],
   "source": [
    "mos_0_table = dfc.groupby(['station', pd.Grouper(freq='D', key='runtime')]).mean().unstack()['TMP'].T"
   ]
  },
  {
   "cell_type": "code",
   "execution_count": null,
   "metadata": {},
   "outputs": [],
   "source": [
    "mos_0_table.head()"
   ]
  },
  {
   "cell_type": "markdown",
   "metadata": {},
   "source": [
    "Same plotting code, now just with most table in place of ghcn"
   ]
  },
  {
   "cell_type": "code",
   "execution_count": null,
   "metadata": {},
   "outputs": [],
   "source": [
    "fig, ax = plt.subplots()\n",
    "ax.set_title(\"GHS MAV 6HR ahead prediction\")\n",
    "im = ax.pcolormesh(mos_0_table[station_order['Station']].values.astype(float).T, cmap='RdBu')\n",
    "ax.set(ylabel=\"stations\", xlabel=\"day of year\")\n",
    "ax.set_yticklabels([]) # removed individual station ids cause not super helpful here\n",
    "ax.tick_params(axis='y', length=0)\n",
    "fig.colorbar(im, ax=ax)\n",
    "fig.savefig(\"MOS_6hr.png\")"
   ]
  },
  {
   "cell_type": "markdown",
   "metadata": {},
   "source": [
    "# To do:\n",
    "repeat  plot GFS MAV 6 hour ahead for \n",
    "* MOS_2018_0_days_06:00:00.csv  \n",
    "* MOS_2018_0_days_09:00:00.csv  \n",
    "* MOS_2018_0_days_12:00:00.csv\n",
    "* MOS_2018_0_days_15:00:00.csv  \n",
    "* MOS_2018_0_days_18:00:00.csv  \n",
    "* MOS_2018_0_days_21:00:00.csv  \n",
    "* MOS_2018_1_days_00:00:00.csv  \n",
    "* MOS_2018_1_days_03:00:00.csv  \n",
    "* MOS_2018_1_days_06:00:00.csv  \n",
    "* MOS_2018_1_days_09:00:00.csv  \n",
    "* MOS_2018_1_days_12:00:00.csv \n",
    "* MOS_2018_1_days_15:00:00.csv\n",
    "* MOS_2018_1_days_18:00:00.csv\n",
    "* MOS_2018_1_days_21:00:00.csv\n",
    "* MOS_2018_2_days_00:00:00.csv\n",
    "* MOS_2018_2_days_03:00:00.csv\n",
    "* MOS_2018_2_days_06:00:00.csv\n",
    "* MOS_2018_2_days_09:00:00.csv\n",
    "* MOS_2018_2_days_12:00:00.csv\n",
    "* MOS_2018_2_days_18:00:00.csv\n",
    "* MOS_2018_368_days_00:00:00.csv\n",
    "* MOS_2018_3_days_00:00:00.csv\n",
    "\n",
    "You can ignore those last two for now"
   ]
  },
  {
   "cell_type": "code",
   "execution_count": null,
   "metadata": {},
   "outputs": [],
   "source": []
  }
 ],
 "metadata": {
  "kernelspec": {
   "display_name": "Python [conda env:cuny-summer-2020]",
   "language": "python",
   "name": "conda-env-cuny-summer-2020-py"
  },
  "language_info": {
   "codemirror_mode": {
    "name": "ipython",
    "version": 3
   },
   "file_extension": ".py",
   "mimetype": "text/x-python",
   "name": "python",
   "nbconvert_exporter": "python",
   "pygments_lexer": "ipython3",
   "version": "3.8.5"
  },
  "widgets": {
   "application/vnd.jupyter.widget-state+json": {
    "state": {},
    "version_major": 2,
    "version_minor": 0
   }
  }
 },
 "nbformat": 4,
 "nbformat_minor": 4
}
