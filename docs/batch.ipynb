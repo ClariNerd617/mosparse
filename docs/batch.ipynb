{
 "cells": [
  {
   "cell_type": "markdown",
   "metadata": {},
   "source": [
    "Let's manually install mosparse into our kernel. Here we give the relative path to the location of the setup.py file"
   ]
  },
  {
   "cell_type": "code",
   "execution_count": null,
   "metadata": {},
   "outputs": [],
   "source": [
    "%pip install -ve ../mosparse/"
   ]
  },
  {
   "cell_type": "code",
   "execution_count": 1,
   "metadata": {},
   "outputs": [],
   "source": [
    "from pathlib import Path\n",
    "\n",
    "from tqdm.auto import tqdm\n",
    "\n",
    "import mosparse.mavreader as mpr\n",
    "import mosparse.mavtodb as mdb "
   ]
  },
  {
   "cell_type": "code",
   "execution_count": 3,
   "metadata": {},
   "outputs": [],
   "source": [
    "mos_files = list(Path(\"../../avnmav/\").iterdir())"
   ]
  },
  {
   "cell_type": "code",
   "execution_count": null,
   "metadata": {},
   "outputs": [
    {
     "data": {
      "application/vnd.jupyter.widget-view+json": {
       "model_id": "ae4d70b56e6a4a40b73c32a38986d79b",
       "version_major": 2,
       "version_minor": 0
      },
      "text/plain": [
       "HBox(children=(FloatProgress(value=0.0, max=807.0), HTML(value='')))"
      ]
     },
     "metadata": {},
     "output_type": "display_data"
    },
    {
     "data": {
      "application/vnd.jupyter.widget-view+json": {
       "model_id": "10a8c647ab804ef0a128a9f7ee38ce89",
       "version_major": 2,
       "version_minor": 0
      },
      "text/plain": [
       "HBox(children=(FloatProgress(value=1.0, bar_style='info', description='mav201810.t00z.gz', max=1.0, style=Prog…"
      ]
     },
     "metadata": {},
     "output_type": "display_data"
    },
    {
     "name": "stdout",
     "output_type": "stream",
     "text": [
      "\n"
     ]
    },
    {
     "data": {
      "application/vnd.jupyter.widget-view+json": {
       "model_id": "60e1814004884027b16e44d7e75551b9",
       "version_major": 2,
       "version_minor": 0
      },
      "text/plain": [
       "HBox(children=(FloatProgress(value=1.0, bar_style='info', description='mav200507.t12z.Z', max=1.0, style=Progr…"
      ]
     },
     "metadata": {},
     "output_type": "display_data"
    },
    {
     "name": "stdout",
     "output_type": "stream",
     "text": [
      "\n"
     ]
    },
    {
     "data": {
      "application/vnd.jupyter.widget-view+json": {
       "model_id": "7a171b06869b42089e0ff4abd5d561e1",
       "version_major": 2,
       "version_minor": 0
      },
      "text/plain": [
       "HBox(children=(FloatProgress(value=1.0, bar_style='info', description='mav201207.t18z.Z', max=1.0, style=Progr…"
      ]
     },
     "metadata": {},
     "output_type": "display_data"
    },
    {
     "name": "stdout",
     "output_type": "stream",
     "text": [
      "\n"
     ]
    },
    {
     "data": {
      "application/vnd.jupyter.widget-view+json": {
       "model_id": "4e79d643823f420cad9e8e231e63c114",
       "version_major": 2,
       "version_minor": 0
      },
      "text/plain": [
       "HBox(children=(FloatProgress(value=1.0, bar_style='info', description='mav201904.t06z.gz', max=1.0, style=Prog…"
      ]
     },
     "metadata": {},
     "output_type": "display_data"
    },
    {
     "name": "stdout",
     "output_type": "stream",
     "text": [
      "\n"
     ]
    },
    {
     "data": {
      "application/vnd.jupyter.widget-view+json": {
       "model_id": "34bf37dd0e834f81a1eefedc38043997",
       "version_major": 2,
       "version_minor": 0
      },
      "text/plain": [
       "HBox(children=(FloatProgress(value=1.0, bar_style='info', description='mav201103.t06z.Z', max=1.0, style=Progr…"
      ]
     },
     "metadata": {},
     "output_type": "display_data"
    },
    {
     "name": "stdout",
     "output_type": "stream",
     "text": [
      "\n"
     ]
    },
    {
     "data": {
      "application/vnd.jupyter.widget-view+json": {
       "model_id": "05f3c368ade54b33a5ba40480f5ca171",
       "version_major": 2,
       "version_minor": 0
      },
      "text/plain": [
       "HBox(children=(FloatProgress(value=1.0, bar_style='info', description='mav201809.t18z.gz', max=1.0, style=Prog…"
      ]
     },
     "metadata": {},
     "output_type": "display_data"
    },
    {
     "name": "stdout",
     "output_type": "stream",
     "text": [
      "\n"
     ]
    },
    {
     "data": {
      "application/vnd.jupyter.widget-view+json": {
       "model_id": "aa4687ff5fad4097820fbada740d6362",
       "version_major": 2,
       "version_minor": 0
      },
      "text/plain": [
       "HBox(children=(FloatProgress(value=1.0, bar_style='info', description='mav201510.t12z.gz', max=1.0, style=Prog…"
      ]
     },
     "metadata": {},
     "output_type": "display_data"
    },
    {
     "name": "stdout",
     "output_type": "stream",
     "text": [
      "\n"
     ]
    },
    {
     "data": {
      "application/vnd.jupyter.widget-view+json": {
       "model_id": "58ae008f1e9c45eeb7d3790076f8e120",
       "version_major": 2,
       "version_minor": 0
      },
      "text/plain": [
       "HBox(children=(FloatProgress(value=1.0, bar_style='info', description='mav201704.t18z.gz', max=1.0, style=Prog…"
      ]
     },
     "metadata": {},
     "output_type": "display_data"
    },
    {
     "name": "stdout",
     "output_type": "stream",
     "text": [
      "\n"
     ]
    },
    {
     "data": {
      "application/vnd.jupyter.widget-view+json": {
       "model_id": "6261ebbd4c5547c9b55e963a132e2948",
       "version_major": 2,
       "version_minor": 0
      },
      "text/plain": [
       "HBox(children=(FloatProgress(value=1.0, bar_style='info', description='mav202004.t18z.gz', max=1.0, style=Prog…"
      ]
     },
     "metadata": {},
     "output_type": "display_data"
    },
    {
     "name": "stdout",
     "output_type": "stream",
     "text": [
      "\n"
     ]
    },
    {
     "data": {
      "application/vnd.jupyter.widget-view+json": {
       "model_id": "748f56b6b8fe4618ad9162e59fa2a2bd",
       "version_major": 2,
       "version_minor": 0
      },
      "text/plain": [
       "HBox(children=(FloatProgress(value=1.0, bar_style='info', description='mav201811.t00z.gz', max=1.0, style=Prog…"
      ]
     },
     "metadata": {},
     "output_type": "display_data"
    },
    {
     "name": "stdout",
     "output_type": "stream",
     "text": [
      "\n"
     ]
    },
    {
     "data": {
      "application/vnd.jupyter.widget-view+json": {
       "model_id": "b24bf282ada14446b3fcb85c60912caa",
       "version_major": 2,
       "version_minor": 0
      },
      "text/plain": [
       "HBox(children=(FloatProgress(value=1.0, bar_style='info', description='mav200901.t18z.Z', max=1.0, style=Progr…"
      ]
     },
     "metadata": {},
     "output_type": "display_data"
    }
   ],
   "source": [
    "with open(\"completed_files.txt\", 'a') as f:\n",
    "    for path in tqdm(mos_files):\n",
    "        with mpr.MavReader(path, stations=True) as station_generator:\n",
    "            with tqdm(desc=path.name, position=1) as pbar:\n",
    "                for station in station_generator:\n",
    "                    if len(station)>0:\n",
    "                        mdb.station_to_db(station)\n",
    "                    pbar.update(1)\n",
    "        print(path.name, file=f)\n"
   ]
  },
  {
   "cell_type": "code",
   "execution_count": null,
   "metadata": {},
   "outputs": [],
   "source": []
  }
 ],
 "metadata": {
  "kernelspec": {
   "display_name": "Python [conda env:cuny-summer-2020]",
   "language": "python",
   "name": "conda-env-cuny-summer-2020-py"
  },
  "language_info": {
   "codemirror_mode": {
    "name": "ipython",
    "version": 3
   },
   "file_extension": ".py",
   "mimetype": "text/x-python",
   "name": "python",
   "nbconvert_exporter": "python",
   "pygments_lexer": "ipython3",
   "version": "3.7.8"
  },
  "widgets": {
   "application/vnd.jupyter.widget-state+json": {
    "state": {
     "004e0b7abfe24f35aafa8262e1b7355e": {
      "model_module": "@jupyter-widgets/controls",
      "model_module_version": "1.5.0",
      "model_name": "ProgressStyleModel",
      "state": {
       "description_width": "initial"
      }
     },
     "019318b2e4f248228b06b7bf92017a29": {
      "model_module": "@jupyter-widgets/controls",
      "model_module_version": "1.5.0",
      "model_name": "FloatProgressModel",
      "state": {
       "bar_style": "success",
       "description": "mav201810.t00z.gz: ",
       "layout": "IPY_MODEL_57442f6cb440490395e1a8f0a45bce1e",
       "max": 1,
       "style": "IPY_MODEL_1ae460bc6e30407590a68223570e1ec8",
       "value": 1
      }
     },
     "048a9827f4694f969ac032aed9903a84": {
      "model_module": "@jupyter-widgets/controls",
      "model_module_version": "1.5.0",
      "model_name": "FloatProgressModel",
      "state": {
       "description": "  1%",
       "layout": "IPY_MODEL_29387e70e83640c88f3615f76047f847",
       "max": 807,
       "style": "IPY_MODEL_7e8131c435074220b279f4d388005e73",
       "value": 10
      }
     },
     "055c34528da2407394aa4c32d2318df0": {
      "model_module": "@jupyter-widgets/controls",
      "model_module_version": "1.5.0",
      "model_name": "FloatProgressModel",
      "state": {
       "bar_style": "success",
       "description": "mav201510.t12z.gz: ",
       "layout": "IPY_MODEL_8b22f44cc623404b8f3efb3eac656983",
       "max": 1,
       "style": "IPY_MODEL_d1774673ab684f528540853de261bd8b",
       "value": 1
      }
     },
     "05f3c368ade54b33a5ba40480f5ca171": {
      "model_module": "@jupyter-widgets/controls",
      "model_module_version": "1.5.0",
      "model_name": "HBoxModel",
      "state": {
       "children": [
        "IPY_MODEL_69be842f8c5e43419cc516e284da29d2",
        "IPY_MODEL_15ebbd1dd57a4249ad5d0486c4de2056"
       ],
       "layout": "IPY_MODEL_ec1bcdbcb54940bdb46dc4f57a736b57"
      }
     },
     "078a26fbde6846058964d9dbdcf19429": {
      "model_module": "@jupyter-widgets/controls",
      "model_module_version": "1.5.0",
      "model_name": "HTMLModel",
      "state": {
       "layout": "IPY_MODEL_4cd2f136cec544c1844c9b48bdf8f1a0",
       "style": "IPY_MODEL_1bfc8a114de2400cb927b2c762355557",
       "value": " 60480/? [3:51:14&lt;00:00,  4.36it/s]"
      }
     },
     "0fc5c215ca4943b98aa175814ed55da7": {
      "model_module": "@jupyter-widgets/base",
      "model_module_version": "1.2.0",
      "model_name": "LayoutModel",
      "state": {}
     },
     "10a8c647ab804ef0a128a9f7ee38ce89": {
      "model_module": "@jupyter-widgets/controls",
      "model_module_version": "1.5.0",
      "model_name": "HBoxModel",
      "state": {
       "children": [
        "IPY_MODEL_019318b2e4f248228b06b7bf92017a29",
        "IPY_MODEL_13270745e37a40879e4bc16352ac39e7"
       ],
       "layout": "IPY_MODEL_6e8b2b3c5f4e4fb193aab8a3949735a8"
      }
     },
     "13270745e37a40879e4bc16352ac39e7": {
      "model_module": "@jupyter-widgets/controls",
      "model_module_version": "1.5.0",
      "model_name": "HTMLModel",
      "state": {
       "layout": "IPY_MODEL_0fc5c215ca4943b98aa175814ed55da7",
       "style": "IPY_MODEL_d944cbcaf9e34a34b5ca666a525a7911",
       "value": " 62992/? [1:48:34&lt;00:00,  9.67it/s]"
      }
     },
     "13e5e742853647d7b337864ed09a1139": {
      "model_module": "@jupyter-widgets/base",
      "model_module_version": "1.2.0",
      "model_name": "LayoutModel",
      "state": {}
     },
     "154b82c06627490e984419bb09966cf9": {
      "model_module": "@jupyter-widgets/base",
      "model_module_version": "1.2.0",
      "model_name": "LayoutModel",
      "state": {}
     },
     "15ebbd1dd57a4249ad5d0486c4de2056": {
      "model_module": "@jupyter-widgets/controls",
      "model_module_version": "1.5.0",
      "model_name": "HTMLModel",
      "state": {
       "layout": "IPY_MODEL_41b6c23babb3428f931aecce55619141",
       "style": "IPY_MODEL_90bc4a29f89b41b6a1357369e84adc44",
       "value": " 60480/? [2:56:25&lt;00:00,  5.71it/s]"
      }
     },
     "17d9e115a3334412913f7077912bb0d4": {
      "model_module": "@jupyter-widgets/controls",
      "model_module_version": "1.5.0",
      "model_name": "HTMLModel",
      "state": {
       "layout": "IPY_MODEL_4f355a256e564f09a175bb5bb442106e",
       "style": "IPY_MODEL_6049d709585a412c80ee17a96622c6c2",
       "value": " 60480/? [2:06:26&lt;00:00,  7.97it/s]"
      }
     },
     "181578c218a24e42a574f4966c61245a": {
      "model_module": "@jupyter-widgets/base",
      "model_module_version": "1.2.0",
      "model_name": "LayoutModel",
      "state": {}
     },
     "1ae460bc6e30407590a68223570e1ec8": {
      "model_module": "@jupyter-widgets/controls",
      "model_module_version": "1.5.0",
      "model_name": "ProgressStyleModel",
      "state": {
       "description_width": "initial"
      }
     },
     "1bfc8a114de2400cb927b2c762355557": {
      "model_module": "@jupyter-widgets/controls",
      "model_module_version": "1.5.0",
      "model_name": "DescriptionStyleModel",
      "state": {
       "description_width": ""
      }
     },
     "20935d5999cb47339143f0efacb44458": {
      "model_module": "@jupyter-widgets/base",
      "model_module_version": "1.2.0",
      "model_name": "LayoutModel",
      "state": {}
     },
     "21e1b09f2ba84787a237dbaaa6813941": {
      "model_module": "@jupyter-widgets/base",
      "model_module_version": "1.2.0",
      "model_name": "LayoutModel",
      "state": {}
     },
     "25c367ffec294e4c9e996c8ab383adee": {
      "model_module": "@jupyter-widgets/controls",
      "model_module_version": "1.5.0",
      "model_name": "HTMLModel",
      "state": {
       "layout": "IPY_MODEL_5319c83306ad4c3dbe4b3ef2aee45938",
       "style": "IPY_MODEL_52d15e9e43e4447d92fc6f5a59a1ce50",
       "value": " 47771/? [1:14:05&lt;00:00, 10.75it/s]"
      }
     },
     "27247116496f4b599bc27ea9dc1f6d46": {
      "model_module": "@jupyter-widgets/controls",
      "model_module_version": "1.5.0",
      "model_name": "FloatProgressModel",
      "state": {
       "bar_style": "info",
       "description": "mav200901.t18z.Z: ",
       "layout": "IPY_MODEL_a5eb49f186234311a0f00b7e092cb4dd",
       "max": 1,
       "style": "IPY_MODEL_889996ac8fb54c62b73a983afc0bb7b4",
       "value": 1
      }
     },
     "29387e70e83640c88f3615f76047f847": {
      "model_module": "@jupyter-widgets/base",
      "model_module_version": "1.2.0",
      "model_name": "LayoutModel",
      "state": {}
     },
     "319e9ac06d3e4277b658a7c54c8380dc": {
      "model_module": "@jupyter-widgets/controls",
      "model_module_version": "1.5.0",
      "model_name": "FloatProgressModel",
      "state": {
       "bar_style": "success",
       "description": "mav200507.t12z.Z: ",
       "layout": "IPY_MODEL_4f83d716acc94cc5aab2bb9690c1d722",
       "max": 1,
       "style": "IPY_MODEL_9a460afb8f6f4f169197838ed8c852ee",
       "value": 1
      }
     },
     "331645c92f394aa998a9c27e84529094": {
      "model_module": "@jupyter-widgets/base",
      "model_module_version": "1.2.0",
      "model_name": "LayoutModel",
      "state": {}
     },
     "34bf37dd0e834f81a1eefedc38043997": {
      "model_module": "@jupyter-widgets/controls",
      "model_module_version": "1.5.0",
      "model_name": "HBoxModel",
      "state": {
       "children": [
        "IPY_MODEL_d4a8ef061a794dbfb67782f728ff72fa",
        "IPY_MODEL_bf81c51776e74b33a99ef113c9b2c56a"
       ],
       "layout": "IPY_MODEL_bdcb4e57ed7645d19849f8ac887da4c3"
      }
     },
     "36b689ebfadd4c9cac9eb969e6e25f04": {
      "model_module": "@jupyter-widgets/controls",
      "model_module_version": "1.5.0",
      "model_name": "ProgressStyleModel",
      "state": {
       "description_width": "initial"
      }
     },
     "386b18673ba24809bef873754cb8ed04": {
      "model_module": "@jupyter-widgets/controls",
      "model_module_version": "1.5.0",
      "model_name": "HTMLModel",
      "state": {
       "layout": "IPY_MODEL_6f1e25f3948e4f3b8c24b2641dedcb00",
       "style": "IPY_MODEL_6e8c60b0299547c081c60023fe003606",
       "value": " 60480/? [1:18:00&lt;00:00, 12.92it/s]"
      }
     },
     "3c625d1ff37c45b8a875b59ce23f8108": {
      "model_module": "@jupyter-widgets/controls",
      "model_module_version": "1.5.0",
      "model_name": "FloatProgressModel",
      "state": {
       "bar_style": "success",
       "description": "mav201811.t00z.gz: ",
       "layout": "IPY_MODEL_967f62f4c9614da2bbd04e5723cad513",
       "max": 1,
       "style": "IPY_MODEL_95fb92e7995e402eb9e60237b69012ef",
       "value": 1
      }
     },
     "3dd9f917c75b40c3b66958193d19e439": {
      "model_module": "@jupyter-widgets/controls",
      "model_module_version": "1.5.0",
      "model_name": "HTMLModel",
      "state": {
       "layout": "IPY_MODEL_7fb2b7befea84f1392c015f9040bcba8",
       "style": "IPY_MODEL_cc0d0faeaf30437da76311eeb81259a2",
       "value": " 821/? [01:18&lt;00:00, 13.12it/s]"
      }
     },
     "3e22a4c078784658ab9bfeb6e83b1e9f": {
      "model_module": "@jupyter-widgets/controls",
      "model_module_version": "1.5.0",
      "model_name": "HTMLModel",
      "state": {
       "layout": "IPY_MODEL_13e5e742853647d7b337864ed09a1139",
       "style": "IPY_MODEL_ac9555331dcd42879e9d644dcce64d91",
       "value": " 52514/? [2:19:41&lt;00:00,  6.27it/s]"
      }
     },
     "41b6c23babb3428f931aecce55619141": {
      "model_module": "@jupyter-widgets/base",
      "model_module_version": "1.2.0",
      "model_name": "LayoutModel",
      "state": {}
     },
     "43908d060ac84537a6fea0319adc7370": {
      "model_module": "@jupyter-widgets/base",
      "model_module_version": "1.2.0",
      "model_name": "LayoutModel",
      "state": {}
     },
     "4cd2f136cec544c1844c9b48bdf8f1a0": {
      "model_module": "@jupyter-widgets/base",
      "model_module_version": "1.2.0",
      "model_name": "LayoutModel",
      "state": {}
     },
     "4e79d643823f420cad9e8e231e63c114": {
      "model_module": "@jupyter-widgets/controls",
      "model_module_version": "1.5.0",
      "model_name": "HBoxModel",
      "state": {
       "children": [
        "IPY_MODEL_8bb9eee8a748473c90d2ec82bd22706e",
        "IPY_MODEL_386b18673ba24809bef873754cb8ed04"
       ],
       "layout": "IPY_MODEL_734534a0d90e4525965ae87f865ad69b"
      }
     },
     "4f355a256e564f09a175bb5bb442106e": {
      "model_module": "@jupyter-widgets/base",
      "model_module_version": "1.2.0",
      "model_name": "LayoutModel",
      "state": {}
     },
     "4f83d716acc94cc5aab2bb9690c1d722": {
      "model_module": "@jupyter-widgets/base",
      "model_module_version": "1.2.0",
      "model_name": "LayoutModel",
      "state": {}
     },
     "50dc504d5aea47b1ae474460cbf57a6a": {
      "model_module": "@jupyter-widgets/base",
      "model_module_version": "1.2.0",
      "model_name": "LayoutModel",
      "state": {}
     },
     "52acd5c099664fc7ab13193ec8b07eb7": {
      "model_module": "@jupyter-widgets/base",
      "model_module_version": "1.2.0",
      "model_name": "LayoutModel",
      "state": {}
     },
     "52d15e9e43e4447d92fc6f5a59a1ce50": {
      "model_module": "@jupyter-widgets/controls",
      "model_module_version": "1.5.0",
      "model_name": "DescriptionStyleModel",
      "state": {
       "description_width": ""
      }
     },
     "5319c83306ad4c3dbe4b3ef2aee45938": {
      "model_module": "@jupyter-widgets/base",
      "model_module_version": "1.2.0",
      "model_name": "LayoutModel",
      "state": {}
     },
     "57442f6cb440490395e1a8f0a45bce1e": {
      "model_module": "@jupyter-widgets/base",
      "model_module_version": "1.2.0",
      "model_name": "LayoutModel",
      "state": {}
     },
     "58ae008f1e9c45eeb7d3790076f8e120": {
      "model_module": "@jupyter-widgets/controls",
      "model_module_version": "1.5.0",
      "model_name": "HBoxModel",
      "state": {
       "children": [
        "IPY_MODEL_745ca3924c9b49b5b8616a855e6e34e7",
        "IPY_MODEL_17d9e115a3334412913f7077912bb0d4"
       ],
       "layout": "IPY_MODEL_331645c92f394aa998a9c27e84529094"
      }
     },
     "6049d709585a412c80ee17a96622c6c2": {
      "model_module": "@jupyter-widgets/controls",
      "model_module_version": "1.5.0",
      "model_name": "DescriptionStyleModel",
      "state": {
       "description_width": ""
      }
     },
     "60e1814004884027b16e44d7e75551b9": {
      "model_module": "@jupyter-widgets/controls",
      "model_module_version": "1.5.0",
      "model_name": "HBoxModel",
      "state": {
       "children": [
        "IPY_MODEL_319e9ac06d3e4277b658a7c54c8380dc",
        "IPY_MODEL_25c367ffec294e4c9e996c8ab383adee"
       ],
       "layout": "IPY_MODEL_7d7048c7f60c43dba2f4fdc232a6243b"
      }
     },
     "610131cccf6d420785bce10550bca5fd": {
      "model_module": "@jupyter-widgets/controls",
      "model_module_version": "1.5.0",
      "model_name": "ProgressStyleModel",
      "state": {
       "description_width": "initial"
      }
     },
     "6261ebbd4c5547c9b55e963a132e2948": {
      "model_module": "@jupyter-widgets/controls",
      "model_module_version": "1.5.0",
      "model_name": "HBoxModel",
      "state": {
       "children": [
        "IPY_MODEL_b164df086cc2408792154340947978e5",
        "IPY_MODEL_078a26fbde6846058964d9dbdcf19429"
       ],
       "layout": "IPY_MODEL_43908d060ac84537a6fea0319adc7370"
      }
     },
     "69be842f8c5e43419cc516e284da29d2": {
      "model_module": "@jupyter-widgets/controls",
      "model_module_version": "1.5.0",
      "model_name": "FloatProgressModel",
      "state": {
       "bar_style": "success",
       "description": "mav201809.t18z.gz: ",
       "layout": "IPY_MODEL_50dc504d5aea47b1ae474460cbf57a6a",
       "max": 1,
       "style": "IPY_MODEL_004e0b7abfe24f35aafa8262e1b7355e",
       "value": 1
      }
     },
     "6cc2f5a3dac64bf594bb6af243a0f433": {
      "model_module": "@jupyter-widgets/base",
      "model_module_version": "1.2.0",
      "model_name": "LayoutModel",
      "state": {}
     },
     "6e8b2b3c5f4e4fb193aab8a3949735a8": {
      "model_module": "@jupyter-widgets/base",
      "model_module_version": "1.2.0",
      "model_name": "LayoutModel",
      "state": {}
     },
     "6e8c60b0299547c081c60023fe003606": {
      "model_module": "@jupyter-widgets/controls",
      "model_module_version": "1.5.0",
      "model_name": "DescriptionStyleModel",
      "state": {
       "description_width": ""
      }
     },
     "6f1e25f3948e4f3b8c24b2641dedcb00": {
      "model_module": "@jupyter-widgets/base",
      "model_module_version": "1.2.0",
      "model_name": "LayoutModel",
      "state": {}
     },
     "7116d5113f574b5483cc786ad4a8870a": {
      "model_module": "@jupyter-widgets/base",
      "model_module_version": "1.2.0",
      "model_name": "LayoutModel",
      "state": {}
     },
     "734534a0d90e4525965ae87f865ad69b": {
      "model_module": "@jupyter-widgets/base",
      "model_module_version": "1.2.0",
      "model_name": "LayoutModel",
      "state": {}
     },
     "745ca3924c9b49b5b8616a855e6e34e7": {
      "model_module": "@jupyter-widgets/controls",
      "model_module_version": "1.5.0",
      "model_name": "FloatProgressModel",
      "state": {
       "bar_style": "success",
       "description": "mav201704.t18z.gz: ",
       "layout": "IPY_MODEL_ff09ebb2f5a74f11bc66504bd709dbc7",
       "max": 1,
       "style": "IPY_MODEL_92988f6729994dd792795bde4c30d2ea",
       "value": 1
      }
     },
     "748f56b6b8fe4618ad9162e59fa2a2bd": {
      "model_module": "@jupyter-widgets/controls",
      "model_module_version": "1.5.0",
      "model_name": "HBoxModel",
      "state": {
       "children": [
        "IPY_MODEL_3c625d1ff37c45b8a875b59ce23f8108",
        "IPY_MODEL_f819042f7dee4db28cbb0b80ab533cd8"
       ],
       "layout": "IPY_MODEL_6cc2f5a3dac64bf594bb6af243a0f433"
      }
     },
     "79cc38e0b267436ba7bc888bd3a26502": {
      "model_module": "@jupyter-widgets/base",
      "model_module_version": "1.2.0",
      "model_name": "LayoutModel",
      "state": {}
     },
     "7a171b06869b42089e0ff4abd5d561e1": {
      "model_module": "@jupyter-widgets/controls",
      "model_module_version": "1.5.0",
      "model_name": "HBoxModel",
      "state": {
       "children": [
        "IPY_MODEL_ed199acbfdf04a5b9daeb3eeb385c12e",
        "IPY_MODEL_3e22a4c078784658ab9bfeb6e83b1e9f"
       ],
       "layout": "IPY_MODEL_52acd5c099664fc7ab13193ec8b07eb7"
      }
     },
     "7bc3aad5bf3546aea0ac317be23a3935": {
      "model_module": "@jupyter-widgets/controls",
      "model_module_version": "1.5.0",
      "model_name": "DescriptionStyleModel",
      "state": {
       "description_width": ""
      }
     },
     "7c49c6da013b4c1eb074ca701d7a2722": {
      "model_module": "@jupyter-widgets/controls",
      "model_module_version": "1.5.0",
      "model_name": "HTMLModel",
      "state": {
       "layout": "IPY_MODEL_9460f7b7a8de478e9be8b9e3e1acd9c6",
       "style": "IPY_MODEL_af19709fad5b477181f67fad9f3f5d0b",
       "value": " 10/807 [15:47:49&lt;1447:17:39, 6537.34s/it]"
      }
     },
     "7d0f08460cf5400faa6a6d2354107b34": {
      "model_module": "@jupyter-widgets/base",
      "model_module_version": "1.2.0",
      "model_name": "LayoutModel",
      "state": {}
     },
     "7d7048c7f60c43dba2f4fdc232a6243b": {
      "model_module": "@jupyter-widgets/base",
      "model_module_version": "1.2.0",
      "model_name": "LayoutModel",
      "state": {}
     },
     "7de693a57ee54da78e274c18cf5e4883": {
      "model_module": "@jupyter-widgets/controls",
      "model_module_version": "1.5.0",
      "model_name": "ProgressStyleModel",
      "state": {
       "description_width": "initial"
      }
     },
     "7e8131c435074220b279f4d388005e73": {
      "model_module": "@jupyter-widgets/controls",
      "model_module_version": "1.5.0",
      "model_name": "ProgressStyleModel",
      "state": {
       "description_width": "initial"
      }
     },
     "7fb2b7befea84f1392c015f9040bcba8": {
      "model_module": "@jupyter-widgets/base",
      "model_module_version": "1.2.0",
      "model_name": "LayoutModel",
      "state": {}
     },
     "8626e6529d74431b8f9ab4e8dc8a9080": {
      "model_module": "@jupyter-widgets/base",
      "model_module_version": "1.2.0",
      "model_name": "LayoutModel",
      "state": {}
     },
     "889996ac8fb54c62b73a983afc0bb7b4": {
      "model_module": "@jupyter-widgets/controls",
      "model_module_version": "1.5.0",
      "model_name": "ProgressStyleModel",
      "state": {
       "description_width": "initial"
      }
     },
     "8b22f44cc623404b8f3efb3eac656983": {
      "model_module": "@jupyter-widgets/base",
      "model_module_version": "1.2.0",
      "model_name": "LayoutModel",
      "state": {}
     },
     "8bb9eee8a748473c90d2ec82bd22706e": {
      "model_module": "@jupyter-widgets/controls",
      "model_module_version": "1.5.0",
      "model_name": "FloatProgressModel",
      "state": {
       "bar_style": "success",
       "description": "mav201904.t06z.gz: ",
       "layout": "IPY_MODEL_8626e6529d74431b8f9ab4e8dc8a9080",
       "max": 1,
       "style": "IPY_MODEL_bfde0acfab154b5fa2bc109bdf373cab",
       "value": 1
      }
     },
     "8fc8dffe88674c8fa3e6785503ec58ba": {
      "model_module": "@jupyter-widgets/controls",
      "model_module_version": "1.5.0",
      "model_name": "DescriptionStyleModel",
      "state": {
       "description_width": ""
      }
     },
     "90bc4a29f89b41b6a1357369e84adc44": {
      "model_module": "@jupyter-widgets/controls",
      "model_module_version": "1.5.0",
      "model_name": "DescriptionStyleModel",
      "state": {
       "description_width": ""
      }
     },
     "92988f6729994dd792795bde4c30d2ea": {
      "model_module": "@jupyter-widgets/controls",
      "model_module_version": "1.5.0",
      "model_name": "ProgressStyleModel",
      "state": {
       "description_width": "initial"
      }
     },
     "9460f7b7a8de478e9be8b9e3e1acd9c6": {
      "model_module": "@jupyter-widgets/base",
      "model_module_version": "1.2.0",
      "model_name": "LayoutModel",
      "state": {}
     },
     "95fb92e7995e402eb9e60237b69012ef": {
      "model_module": "@jupyter-widgets/controls",
      "model_module_version": "1.5.0",
      "model_name": "ProgressStyleModel",
      "state": {
       "description_width": "initial"
      }
     },
     "967f62f4c9614da2bbd04e5723cad513": {
      "model_module": "@jupyter-widgets/base",
      "model_module_version": "1.2.0",
      "model_name": "LayoutModel",
      "state": {}
     },
     "9a460afb8f6f4f169197838ed8c852ee": {
      "model_module": "@jupyter-widgets/controls",
      "model_module_version": "1.5.0",
      "model_name": "ProgressStyleModel",
      "state": {
       "description_width": "initial"
      }
     },
     "a5eb49f186234311a0f00b7e092cb4dd": {
      "model_module": "@jupyter-widgets/base",
      "model_module_version": "1.2.0",
      "model_name": "LayoutModel",
      "state": {}
     },
     "aa4687ff5fad4097820fbada740d6362": {
      "model_module": "@jupyter-widgets/controls",
      "model_module_version": "1.5.0",
      "model_name": "HBoxModel",
      "state": {
       "children": [
        "IPY_MODEL_055c34528da2407394aa4c32d2318df0",
        "IPY_MODEL_dd78070db9304f34b2dcdd4b8f21c79d"
       ],
       "layout": "IPY_MODEL_20935d5999cb47339143f0efacb44458"
      }
     },
     "ac9555331dcd42879e9d644dcce64d91": {
      "model_module": "@jupyter-widgets/controls",
      "model_module_version": "1.5.0",
      "model_name": "DescriptionStyleModel",
      "state": {
       "description_width": ""
      }
     },
     "ae4d70b56e6a4a40b73c32a38986d79b": {
      "model_module": "@jupyter-widgets/controls",
      "model_module_version": "1.5.0",
      "model_name": "HBoxModel",
      "state": {
       "children": [
        "IPY_MODEL_048a9827f4694f969ac032aed9903a84",
        "IPY_MODEL_7c49c6da013b4c1eb074ca701d7a2722"
       ],
       "layout": "IPY_MODEL_7d0f08460cf5400faa6a6d2354107b34"
      }
     },
     "af19709fad5b477181f67fad9f3f5d0b": {
      "model_module": "@jupyter-widgets/controls",
      "model_module_version": "1.5.0",
      "model_name": "DescriptionStyleModel",
      "state": {
       "description_width": ""
      }
     },
     "af69284bd66f4fd587eb0357d187c5be": {
      "model_module": "@jupyter-widgets/controls",
      "model_module_version": "1.5.0",
      "model_name": "DescriptionStyleModel",
      "state": {
       "description_width": ""
      }
     },
     "b164df086cc2408792154340947978e5": {
      "model_module": "@jupyter-widgets/controls",
      "model_module_version": "1.5.0",
      "model_name": "FloatProgressModel",
      "state": {
       "bar_style": "success",
       "description": "mav202004.t18z.gz: ",
       "layout": "IPY_MODEL_154b82c06627490e984419bb09966cf9",
       "max": 1,
       "style": "IPY_MODEL_610131cccf6d420785bce10550bca5fd",
       "value": 1
      }
     },
     "b24bf282ada14446b3fcb85c60912caa": {
      "model_module": "@jupyter-widgets/controls",
      "model_module_version": "1.5.0",
      "model_name": "HBoxModel",
      "state": {
       "children": [
        "IPY_MODEL_27247116496f4b599bc27ea9dc1f6d46",
        "IPY_MODEL_3dd9f917c75b40c3b66958193d19e439"
       ],
       "layout": "IPY_MODEL_21e1b09f2ba84787a237dbaaa6813941"
      }
     },
     "bcec716895e941cf8e9a43dc7fcb34dd": {
      "model_module": "@jupyter-widgets/base",
      "model_module_version": "1.2.0",
      "model_name": "LayoutModel",
      "state": {}
     },
     "bdcb4e57ed7645d19849f8ac887da4c3": {
      "model_module": "@jupyter-widgets/base",
      "model_module_version": "1.2.0",
      "model_name": "LayoutModel",
      "state": {}
     },
     "bf81c51776e74b33a99ef113c9b2c56a": {
      "model_module": "@jupyter-widgets/controls",
      "model_module_version": "1.5.0",
      "model_name": "HTMLModel",
      "state": {
       "layout": "IPY_MODEL_79cc38e0b267436ba7bc888bd3a26502",
       "style": "IPY_MODEL_8fc8dffe88674c8fa3e6785503ec58ba",
       "value": " 52514/? [1:31:25&lt;00:00,  9.57it/s]"
      }
     },
     "bfde0acfab154b5fa2bc109bdf373cab": {
      "model_module": "@jupyter-widgets/controls",
      "model_module_version": "1.5.0",
      "model_name": "ProgressStyleModel",
      "state": {
       "description_width": "initial"
      }
     },
     "cc0d0faeaf30437da76311eeb81259a2": {
      "model_module": "@jupyter-widgets/controls",
      "model_module_version": "1.5.0",
      "model_name": "DescriptionStyleModel",
      "state": {
       "description_width": ""
      }
     },
     "d1774673ab684f528540853de261bd8b": {
      "model_module": "@jupyter-widgets/controls",
      "model_module_version": "1.5.0",
      "model_name": "ProgressStyleModel",
      "state": {
       "description_width": "initial"
      }
     },
     "d4a8ef061a794dbfb67782f728ff72fa": {
      "model_module": "@jupyter-widgets/controls",
      "model_module_version": "1.5.0",
      "model_name": "FloatProgressModel",
      "state": {
       "bar_style": "success",
       "description": "mav201103.t06z.Z: ",
       "layout": "IPY_MODEL_181578c218a24e42a574f4966c61245a",
       "max": 1,
       "style": "IPY_MODEL_7de693a57ee54da78e274c18cf5e4883",
       "value": 1
      }
     },
     "d944cbcaf9e34a34b5ca666a525a7911": {
      "model_module": "@jupyter-widgets/controls",
      "model_module_version": "1.5.0",
      "model_name": "DescriptionStyleModel",
      "state": {
       "description_width": ""
      }
     },
     "dd78070db9304f34b2dcdd4b8f21c79d": {
      "model_module": "@jupyter-widgets/controls",
      "model_module_version": "1.5.0",
      "model_name": "HTMLModel",
      "state": {
       "layout": "IPY_MODEL_bcec716895e941cf8e9a43dc7fcb34dd",
       "style": "IPY_MODEL_7bc3aad5bf3546aea0ac317be23a3935",
       "value": " 62992/? [1:35:53&lt;00:00, 10.95it/s]"
      }
     },
     "ec1bcdbcb54940bdb46dc4f57a736b57": {
      "model_module": "@jupyter-widgets/base",
      "model_module_version": "1.2.0",
      "model_name": "LayoutModel",
      "state": {}
     },
     "ed199acbfdf04a5b9daeb3eeb385c12e": {
      "model_module": "@jupyter-widgets/controls",
      "model_module_version": "1.5.0",
      "model_name": "FloatProgressModel",
      "state": {
       "bar_style": "success",
       "description": "mav201207.t18z.Z: ",
       "layout": "IPY_MODEL_7116d5113f574b5483cc786ad4a8870a",
       "max": 1,
       "style": "IPY_MODEL_36b689ebfadd4c9cac9eb969e6e25f04",
       "value": 1
      }
     },
     "f718016aec994f579d370cd4e2d8d4d3": {
      "model_module": "@jupyter-widgets/base",
      "model_module_version": "1.2.0",
      "model_name": "LayoutModel",
      "state": {}
     },
     "f819042f7dee4db28cbb0b80ab533cd8": {
      "model_module": "@jupyter-widgets/controls",
      "model_module_version": "1.5.0",
      "model_name": "HTMLModel",
      "state": {
       "layout": "IPY_MODEL_f718016aec994f579d370cd4e2d8d4d3",
       "style": "IPY_MODEL_af69284bd66f4fd587eb0357d187c5be",
       "value": " 60960/? [2:08:56&lt;00:00,  7.88it/s]"
      }
     },
     "ff09ebb2f5a74f11bc66504bd709dbc7": {
      "model_module": "@jupyter-widgets/base",
      "model_module_version": "1.2.0",
      "model_name": "LayoutModel",
      "state": {}
     }
    },
    "version_major": 2,
    "version_minor": 0
   }
  }
 },
 "nbformat": 4,
 "nbformat_minor": 4
}
