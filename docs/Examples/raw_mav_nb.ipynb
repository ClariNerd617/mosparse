{
 "cells": [
  {
   "cell_type": "code",
   "execution_count": 1,
   "metadata": {},
   "outputs": [],
   "source": [
    "%load_ext autoreload\n",
    "%autoreload 2"
   ]
  },
  {
   "cell_type": "code",
   "execution_count": 2,
   "metadata": {},
   "outputs": [],
   "source": [
    "from pathlib import Path\n",
    "\n",
    "from tqdm.auto import tqdm\n",
    "\n",
    "import dask.bag as db\n",
    "from dask.diagnostics import ProgressBar\n",
    "\n",
    "import mosparse.mavreader as mpr\n",
    "import mosparse.mavparse as mpp\n"
   ]
  },
  {
   "cell_type": "markdown",
   "metadata": {},
   "source": [
    "The libraries that will be used for this example."
   ]
  },
  {
   "cell_type": "markdown",
   "metadata": {},
   "source": [
    "Directions to get to the file you want to open.\n",
    "Prints an error if the file is not found.\n",
    "From the sequence of the first files it is mapping get_stations.\n",
    "Flattening the mapped write_station data."
   ]
  },
  {
   "cell_type": "code",
   "execution_count": 16,
   "metadata": {},
   "outputs": [],
   "source": [
    "mos_files = list(Path(\"../../../avnmav/\").glob(\"*2017*\"))"
   ]
  },
  {
   "cell_type": "code",
   "execution_count": 17,
   "metadata": {},
   "outputs": [
    {
     "data": {
      "text/plain": [
       "48"
      ]
     },
     "execution_count": 17,
     "metadata": {},
     "output_type": "execute_result"
    }
   ],
   "source": [
    "len(mos_files)"
   ]
  },
  {
   "cell_type": "code",
   "execution_count": 18,
   "metadata": {},
   "outputs": [],
   "source": [
    "def process_file(filepath):\n",
    "    with open(\"completed.txt\", 'a') as f:\n",
    "        with mpr.MavReader(filepath, stations=True) as station_generator:\n",
    "            [mpp.write_station(station, filename=filepath.name) for \n",
    "                 station in station_generator if len(station)>0]\n",
    "        print(filepath.name, file=f)\n"
   ]
  },
  {
   "cell_type": "code",
   "execution_count": 19,
   "metadata": {},
   "outputs": [
    {
     "name": "stdout",
     "output_type": "stream",
     "text": [
      "[########################################] | 100% Completed |  4hr 59min  5.1s\n"
     ]
    }
   ],
   "source": [
    "pb = db.from_sequence(mos_files).map(process_file)\n",
    "with ProgressBar():\n",
    "    pb.compute()"
   ]
  },
  {
   "cell_type": "code",
   "execution_count": null,
   "metadata": {},
   "outputs": [],
   "source": []
  }
 ],
 "metadata": {
  "kernelspec": {
   "display_name": "Python [conda env:cuny-summer-2020]",
   "language": "python",
   "name": "conda-env-cuny-summer-2020-py"
  },
  "language_info": {
   "codemirror_mode": {
    "name": "ipython",
    "version": 3
   },
   "file_extension": ".py",
   "mimetype": "text/x-python",
   "name": "python",
   "nbconvert_exporter": "python",
   "pygments_lexer": "ipython3",
   "version": "3.7.8"
  },
  "widgets": {
   "application/vnd.jupyter.widget-state+json": {
    "state": {},
    "version_major": 2,
    "version_minor": 0
   }
  }
 },
 "nbformat": 4,
 "nbformat_minor": 4
}
