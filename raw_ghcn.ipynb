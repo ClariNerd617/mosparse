{
 "cells": [
  {
   "cell_type": "code",
   "execution_count": 55,
   "metadata": {},
   "outputs": [],
   "source": [
    "import gzip\n",
    "from pathlib import Path\n",
    "import pandas as pd\n",
    "import dask.dataframe as dd\n",
    "import glob"
   ]
  },
  {
   "cell_type": "code",
   "execution_count": 56,
   "metadata": {},
   "outputs": [],
   "source": [
    "filepath = Path(\"ghcn\", \"2000.csv.gz\")\n",
    "#file_list = glob.glob(\"ghcn/20*.csv.gz\"))"
   ]
  },
  {
   "cell_type": "code",
   "execution_count": 68,
   "metadata": {},
   "outputs": [],
   "source": [
    "#df = pd.read_csv(filepath, compression='gzip', header=0, sep=',')\n",
    "#df = dd.read_csv(filepath, compression='gzip', encoding='utf-8')\n",
    "\n",
    "f = gzip.open(filepath, 'r')\n",
    "stations={}\n",
    "for line in f:\n",
    "    l = line.decode().strip().split(',')\n",
    "    new_key =  l[0]\n",
    "    if new_key in stations.keys():\n",
    "        stations[l[0]][l[2]]=float(l[3])/10\n",
    "    else:\n",
    "        stations[l[0]] = {'year':l[1][0:4], 'month':l[1][4:6], 'day':l[1][6:8], l[2]:float(l[3])/10}\n",
    "#df = dd.read_csv(f)"
   ]
  },
  {
   "cell_type": "code",
   "execution_count": 70,
   "metadata": {},
   "outputs": [
    {
     "data": {
      "text/plain": [
       "{'year': '2000',\n",
       " 'month': '01',\n",
       " 'day': '01',\n",
       " 'TMAX': -2.8,\n",
       " 'TMIN': -13.3,\n",
       " 'PRCP': 0.0,\n",
       " 'AWND': 2.3,\n",
       " 'FMTM': 161.8,\n",
       " 'PGTM': 164.2,\n",
       " 'TAVG': -7.8,\n",
       " 'WDF2': 5.0,\n",
       " 'WDF5': 5.0,\n",
       " 'WSF2': 4.5,\n",
       " 'WSF5': 4.5,\n",
       " 'SNWD': 5.1,\n",
       " 'TSUN': 0.0,\n",
       " 'WESD': 5.1}"
      ]
     },
     "execution_count": 70,
     "metadata": {},
     "output_type": "execute_result"
    }
   ],
   "source": [
    "stations['USW00024061']"
   ]
  },
  {
   "cell_type": "code",
   "execution_count": null,
   "metadata": {},
   "outputs": [],
   "source": []
  }
 ],
 "metadata": {
  "kernelspec": {
   "display_name": "Python 3",
   "language": "python",
   "name": "python3"
  },
  "language_info": {
   "codemirror_mode": {
    "name": "ipython",
    "version": 3
   },
   "file_extension": ".py",
   "mimetype": "text/x-python",
   "name": "python",
   "nbconvert_exporter": "python",
   "pygments_lexer": "ipython3",
   "version": "3.7.3"
  }
 },
 "nbformat": 4,
 "nbformat_minor": 4
}
